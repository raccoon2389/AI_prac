{
 "cells": [
  {
   "cell_type": "code",
   "execution_count": 1,
   "metadata": {},
   "outputs": [],
   "source": [
    "# %reload_ext watermark\n",
    "# %reload_ext lab_black"
   ]
  },
  {
   "cell_type": "code",
   "execution_count": 2,
   "metadata": {},
   "outputs": [],
   "source": [
    "# %watermark -v -p dateutil,numpy,matplotlib,pandas,torch,tqdm,TaPR_pkg,cv2"
   ]
  },
  {
   "cell_type": "code",
   "execution_count": 3,
   "metadata": {},
   "outputs": [],
   "source": [
    "import sys\n",
    "\n",
    "from pathlib import Path\n",
    "from datetime import timedelta\n",
    "\n",
    "import dateutil\n",
    "import numpy as np\n",
    "import matplotlib.pyplot as plt\n",
    "import pandas as pd\n",
    "import torch\n",
    "\n",
    "from torch.utils.data import Dataset, DataLoader\n",
    "from tqdm.notebook import trange\n",
    "from TaPR_pkg import etapr\n",
    "from sklearn.preprocessing import Normalizer,MinMaxScaler, RobustScaler"
   ]
  },
  {
   "cell_type": "code",
   "execution_count": 4,
   "metadata": {
    "tags": []
   },
   "outputs": [
    {
     "output_type": "stream",
     "name": "stdout",
     "text": "[WindowsPath('training/train1.csv'), WindowsPath('training/train2.csv'), WindowsPath('training/train3.csv')]\n[WindowsPath('testing/test1.csv'), WindowsPath('testing/test2.csv'), WindowsPath('testing/test3.csv'), WindowsPath('testing/test4.csv')]\n[WindowsPath('validation/validation.csv')]\n"
    }
   ],
   "source": [
    "TRAIN_DATASET = sorted([x for x in Path(\"training/\").glob(\"*.csv\")])\n",
    "print(TRAIN_DATASET)\n",
    "\n",
    "TEST_DATASET = sorted([x for x in Path(\"testing/\").glob(\"*.csv\")])\n",
    "print(TEST_DATASET)\n",
    "\n",
    "VALIDATION_DATASET = sorted([x for x in Path(\"validation/\").glob(\"*.csv\")])\n",
    "print(VALIDATION_DATASET)"
   ]
  },
  {
   "cell_type": "code",
   "execution_count": 5,
   "metadata": {},
   "outputs": [],
   "source": [
    "def dataframe_from_csv(target):\n",
    "    return pd.read_csv(target).rename(columns=lambda x: x.strip())\n",
    "\n",
    "def dataframe_from_csvs(targets):\n",
    "    return pd.concat([dataframe_from_csv(x) for x in targets])"
   ]
  },
  {
   "cell_type": "code",
   "execution_count": 6,
   "metadata": {},
   "outputs": [
    {
     "output_type": "execute_result",
     "data": {
      "text/plain": "                       time        C01  C02  C03       C04     C05      C06  \\\n0       2020-07-11 00:00:00  395.19528   12   10  52.80456 -1.2648 -1.87531   \n1       2020-07-11 00:00:01  395.14420   12   10  52.78931 -1.3147 -1.88294   \n2       2020-07-11 00:00:02  395.14420   12   10  52.79694 -1.4032 -1.88294   \n3       2020-07-11 00:00:03  395.19528   12   10  52.79694 -1.6074 -1.88294   \n4       2020-07-11 00:00:04  395.34866   12   10  52.79694 -1.7811 -1.88294   \n...                     ...        ...  ...  ...       ...     ...      ...   \n478796  2020-08-10 10:59:56  387.27219   12   10  66.72057 -0.9331 -1.84479   \n478797  2020-08-10 10:59:57  387.52774   12   10  66.72057 -0.9996 -1.84479   \n478798  2020-08-10 10:59:58  387.47665   12   10  66.72057 -1.2560 -1.84479   \n478799  2020-08-10 10:59:59  387.73221   12   10  66.72057 -1.4912 -1.84479   \n478800  2020-08-10 11:00:00  387.52774   12   10  66.72057 -1.5727 -1.84479   \n\n              C07       C08      C09  ...        C70  C71      C72       C73  \\\n0       779.59595  28.02645  10832.0  ...  808.29620  0.0  1.36810   8.79882   \n1       780.67328  28.02473  10984.0  ...  819.16809  0.0  1.36810   8.78811   \n2       780.06574  28.02817  11120.0  ...  823.51697  0.0  1.36734   8.81787   \n3       780.15265  28.02301  11256.0  ...  823.95172  0.0  1.36734   8.87493   \n4       781.83160  28.03595  11384.0  ...  827.86560  0.0  1.36810   8.83838   \n...           ...       ...      ...  ...        ...  ...      ...       ...   \n478796  781.87915  28.02389    880.0  ...  944.84705  0.0  1.32843  15.17817   \n478797  787.65070  28.02385    840.0  ...  940.49835  0.0  1.32843  15.17344   \n478798  788.50256  28.03085    792.0  ...  935.71472  0.0  1.32919  15.16443   \n478799  785.80316  28.02649    752.0  ...  944.84705  0.0  1.32843  15.09001   \n478800  780.21381  28.02476    720.0  ...  951.80505  0.0  1.32919  15.08672   \n\n             C74       C75        C76        C77      C78     C79  \n0       35.43700  12.01782  305.03113  301.35992  33.6555  6.0951  \n1       35.45227  12.01782  304.27161  297.43567  33.6555  5.9262  \n2       35.45227  12.01782  303.89179  298.66534  33.6555  5.8101  \n3       35.43700  12.01782  303.67474  298.06860  33.6555  5.7509  \n4       35.45227  12.01782  303.22266  296.53137  33.6555  5.8547  \n...          ...       ...        ...        ...      ...     ...  \n478796  35.14710  11.79657  316.89453  296.54950  32.0000  6.6026  \n478797  35.13183  11.79657  315.59247  296.15161  32.0000  6.3894  \n478798  35.13183  11.79657  313.92865  293.40277  32.0000  6.2584  \n478799  35.14710  11.79657  315.61054  302.58972  32.0000  6.4150  \n478800  35.14710  11.79657  317.23816  309.00964  32.0000  6.6288  \n\n[921603 rows x 80 columns]",
      "text/html": "<div>\n<style scoped>\n    .dataframe tbody tr th:only-of-type {\n        vertical-align: middle;\n    }\n\n    .dataframe tbody tr th {\n        vertical-align: top;\n    }\n\n    .dataframe thead th {\n        text-align: right;\n    }\n</style>\n<table border=\"1\" class=\"dataframe\">\n  <thead>\n    <tr style=\"text-align: right;\">\n      <th></th>\n      <th>time</th>\n      <th>C01</th>\n      <th>C02</th>\n      <th>C03</th>\n      <th>C04</th>\n      <th>C05</th>\n      <th>C06</th>\n      <th>C07</th>\n      <th>C08</th>\n      <th>C09</th>\n      <th>...</th>\n      <th>C70</th>\n      <th>C71</th>\n      <th>C72</th>\n      <th>C73</th>\n      <th>C74</th>\n      <th>C75</th>\n      <th>C76</th>\n      <th>C77</th>\n      <th>C78</th>\n      <th>C79</th>\n    </tr>\n  </thead>\n  <tbody>\n    <tr>\n      <th>0</th>\n      <td>2020-07-11 00:00:00</td>\n      <td>395.19528</td>\n      <td>12</td>\n      <td>10</td>\n      <td>52.80456</td>\n      <td>-1.2648</td>\n      <td>-1.87531</td>\n      <td>779.59595</td>\n      <td>28.02645</td>\n      <td>10832.0</td>\n      <td>...</td>\n      <td>808.29620</td>\n      <td>0.0</td>\n      <td>1.36810</td>\n      <td>8.79882</td>\n      <td>35.43700</td>\n      <td>12.01782</td>\n      <td>305.03113</td>\n      <td>301.35992</td>\n      <td>33.6555</td>\n      <td>6.0951</td>\n    </tr>\n    <tr>\n      <th>1</th>\n      <td>2020-07-11 00:00:01</td>\n      <td>395.14420</td>\n      <td>12</td>\n      <td>10</td>\n      <td>52.78931</td>\n      <td>-1.3147</td>\n      <td>-1.88294</td>\n      <td>780.67328</td>\n      <td>28.02473</td>\n      <td>10984.0</td>\n      <td>...</td>\n      <td>819.16809</td>\n      <td>0.0</td>\n      <td>1.36810</td>\n      <td>8.78811</td>\n      <td>35.45227</td>\n      <td>12.01782</td>\n      <td>304.27161</td>\n      <td>297.43567</td>\n      <td>33.6555</td>\n      <td>5.9262</td>\n    </tr>\n    <tr>\n      <th>2</th>\n      <td>2020-07-11 00:00:02</td>\n      <td>395.14420</td>\n      <td>12</td>\n      <td>10</td>\n      <td>52.79694</td>\n      <td>-1.4032</td>\n      <td>-1.88294</td>\n      <td>780.06574</td>\n      <td>28.02817</td>\n      <td>11120.0</td>\n      <td>...</td>\n      <td>823.51697</td>\n      <td>0.0</td>\n      <td>1.36734</td>\n      <td>8.81787</td>\n      <td>35.45227</td>\n      <td>12.01782</td>\n      <td>303.89179</td>\n      <td>298.66534</td>\n      <td>33.6555</td>\n      <td>5.8101</td>\n    </tr>\n    <tr>\n      <th>3</th>\n      <td>2020-07-11 00:00:03</td>\n      <td>395.19528</td>\n      <td>12</td>\n      <td>10</td>\n      <td>52.79694</td>\n      <td>-1.6074</td>\n      <td>-1.88294</td>\n      <td>780.15265</td>\n      <td>28.02301</td>\n      <td>11256.0</td>\n      <td>...</td>\n      <td>823.95172</td>\n      <td>0.0</td>\n      <td>1.36734</td>\n      <td>8.87493</td>\n      <td>35.43700</td>\n      <td>12.01782</td>\n      <td>303.67474</td>\n      <td>298.06860</td>\n      <td>33.6555</td>\n      <td>5.7509</td>\n    </tr>\n    <tr>\n      <th>4</th>\n      <td>2020-07-11 00:00:04</td>\n      <td>395.34866</td>\n      <td>12</td>\n      <td>10</td>\n      <td>52.79694</td>\n      <td>-1.7811</td>\n      <td>-1.88294</td>\n      <td>781.83160</td>\n      <td>28.03595</td>\n      <td>11384.0</td>\n      <td>...</td>\n      <td>827.86560</td>\n      <td>0.0</td>\n      <td>1.36810</td>\n      <td>8.83838</td>\n      <td>35.45227</td>\n      <td>12.01782</td>\n      <td>303.22266</td>\n      <td>296.53137</td>\n      <td>33.6555</td>\n      <td>5.8547</td>\n    </tr>\n    <tr>\n      <th>...</th>\n      <td>...</td>\n      <td>...</td>\n      <td>...</td>\n      <td>...</td>\n      <td>...</td>\n      <td>...</td>\n      <td>...</td>\n      <td>...</td>\n      <td>...</td>\n      <td>...</td>\n      <td>...</td>\n      <td>...</td>\n      <td>...</td>\n      <td>...</td>\n      <td>...</td>\n      <td>...</td>\n      <td>...</td>\n      <td>...</td>\n      <td>...</td>\n      <td>...</td>\n      <td>...</td>\n    </tr>\n    <tr>\n      <th>478796</th>\n      <td>2020-08-10 10:59:56</td>\n      <td>387.27219</td>\n      <td>12</td>\n      <td>10</td>\n      <td>66.72057</td>\n      <td>-0.9331</td>\n      <td>-1.84479</td>\n      <td>781.87915</td>\n      <td>28.02389</td>\n      <td>880.0</td>\n      <td>...</td>\n      <td>944.84705</td>\n      <td>0.0</td>\n      <td>1.32843</td>\n      <td>15.17817</td>\n      <td>35.14710</td>\n      <td>11.79657</td>\n      <td>316.89453</td>\n      <td>296.54950</td>\n      <td>32.0000</td>\n      <td>6.6026</td>\n    </tr>\n    <tr>\n      <th>478797</th>\n      <td>2020-08-10 10:59:57</td>\n      <td>387.52774</td>\n      <td>12</td>\n      <td>10</td>\n      <td>66.72057</td>\n      <td>-0.9996</td>\n      <td>-1.84479</td>\n      <td>787.65070</td>\n      <td>28.02385</td>\n      <td>840.0</td>\n      <td>...</td>\n      <td>940.49835</td>\n      <td>0.0</td>\n      <td>1.32843</td>\n      <td>15.17344</td>\n      <td>35.13183</td>\n      <td>11.79657</td>\n      <td>315.59247</td>\n      <td>296.15161</td>\n      <td>32.0000</td>\n      <td>6.3894</td>\n    </tr>\n    <tr>\n      <th>478798</th>\n      <td>2020-08-10 10:59:58</td>\n      <td>387.47665</td>\n      <td>12</td>\n      <td>10</td>\n      <td>66.72057</td>\n      <td>-1.2560</td>\n      <td>-1.84479</td>\n      <td>788.50256</td>\n      <td>28.03085</td>\n      <td>792.0</td>\n      <td>...</td>\n      <td>935.71472</td>\n      <td>0.0</td>\n      <td>1.32919</td>\n      <td>15.16443</td>\n      <td>35.13183</td>\n      <td>11.79657</td>\n      <td>313.92865</td>\n      <td>293.40277</td>\n      <td>32.0000</td>\n      <td>6.2584</td>\n    </tr>\n    <tr>\n      <th>478799</th>\n      <td>2020-08-10 10:59:59</td>\n      <td>387.73221</td>\n      <td>12</td>\n      <td>10</td>\n      <td>66.72057</td>\n      <td>-1.4912</td>\n      <td>-1.84479</td>\n      <td>785.80316</td>\n      <td>28.02649</td>\n      <td>752.0</td>\n      <td>...</td>\n      <td>944.84705</td>\n      <td>0.0</td>\n      <td>1.32843</td>\n      <td>15.09001</td>\n      <td>35.14710</td>\n      <td>11.79657</td>\n      <td>315.61054</td>\n      <td>302.58972</td>\n      <td>32.0000</td>\n      <td>6.4150</td>\n    </tr>\n    <tr>\n      <th>478800</th>\n      <td>2020-08-10 11:00:00</td>\n      <td>387.52774</td>\n      <td>12</td>\n      <td>10</td>\n      <td>66.72057</td>\n      <td>-1.5727</td>\n      <td>-1.84479</td>\n      <td>780.21381</td>\n      <td>28.02476</td>\n      <td>720.0</td>\n      <td>...</td>\n      <td>951.80505</td>\n      <td>0.0</td>\n      <td>1.32919</td>\n      <td>15.08672</td>\n      <td>35.14710</td>\n      <td>11.79657</td>\n      <td>317.23816</td>\n      <td>309.00964</td>\n      <td>32.0000</td>\n      <td>6.6288</td>\n    </tr>\n  </tbody>\n</table>\n<p>921603 rows × 80 columns</p>\n</div>"
     },
     "metadata": {},
     "execution_count": 6
    }
   ],
   "source": [
    "TRAIN_DF_RAW = dataframe_from_csvs(TRAIN_DATASET)\n",
    "TRAIN_DF_RAW"
   ]
  },
  {
   "cell_type": "code",
   "execution_count": 7,
   "metadata": {},
   "outputs": [
    {
     "output_type": "execute_result",
     "data": {
      "text/plain": "Index(['C01', 'C02', 'C03', 'C04', 'C05', 'C06', 'C07', 'C08', 'C09', 'C10',\n       'C11', 'C12', 'C13', 'C14', 'C15', 'C16', 'C17', 'C18', 'C19', 'C20',\n       'C21', 'C22', 'C23', 'C24', 'C25', 'C26', 'C27', 'C28', 'C29', 'C30',\n       'C31', 'C32', 'C33', 'C34', 'C35', 'C36', 'C37', 'C38', 'C39', 'C40',\n       'C41', 'C42', 'C43', 'C44', 'C45', 'C46', 'C47', 'C48', 'C49', 'C50',\n       'C51', 'C52', 'C53', 'C54', 'C55', 'C56', 'C57', 'C58', 'C59', 'C60',\n       'C61', 'C62', 'C63', 'C64', 'C65', 'C66', 'C67', 'C68', 'C69', 'C70',\n       'C71', 'C72', 'C73', 'C74', 'C75', 'C76', 'C77', 'C78', 'C79'],\n      dtype='object')"
     },
     "metadata": {},
     "execution_count": 7
    }
   ],
   "source": [
    "TIMESTAMP_FIELD = \"time\"\n",
    "IDSTAMP_FIELD = 'id'\n",
    "ATTACK_FIELD = \"attack\"\n",
    "VALID_COLUMNS_IN_TRAIN_DATASET = TRAIN_DF_RAW.columns.drop([TIMESTAMP_FIELD])\n",
    "VALID_COLUMNS_IN_TRAIN_DATASET"
   ]
  },
  {
   "cell_type": "code",
   "execution_count": 8,
   "metadata": {},
   "outputs": [],
   "source": [
    "TAG_MIN = TRAIN_DF_RAW[VALID_COLUMNS_IN_TRAIN_DATASET].min()\n",
    "TAG_MAX = TRAIN_DF_RAW[VALID_COLUMNS_IN_TRAIN_DATASET].max()"
   ]
  },
  {
   "cell_type": "code",
   "execution_count": 9,
   "metadata": {},
   "outputs": [],
   "source": [
    "def normalize(df):\n",
    "    ndf = df.copy()\n",
    "    for c in df.columns:\n",
    "        if TAG_MIN[c] == TAG_MAX[c]:\n",
    "            ndf[c] = df[c] - TAG_MIN[c]\n",
    "        else:\n",
    "            ndf[c] = (df[c] - TAG_MIN[c]) / (TAG_MAX[c] - TAG_MIN[c])\n",
    "    return ndf"
   ]
  },
  {
   "cell_type": "code",
   "execution_count": 10,
   "metadata": {},
   "outputs": [],
   "source": [
    "# def normalize(df):\n",
    "#     ndf = df.values\n",
    "#     scaler = MinMaxScaler()\n",
    "#     ndf = scaler.fit_transform(ndf)\n",
    "#     print(ndf.shape)\n",
    "#     ndf = pd.DataFrame(ndf,columns=VALID_COLUMNS_IN_TRAIN_DATASET,index=None)\n",
    "#     return ndf\n"
   ]
  },
  {
   "cell_type": "code",
   "execution_count": 11,
   "metadata": {},
   "outputs": [
    {
     "output_type": "execute_result",
     "data": {
      "text/plain": "              C01  C02  C03       C04     C05      C06        C07       C08  \\\n0       395.19528   12   10  52.80456 -1.2648 -1.87531  779.59595  28.02645   \n1       395.14420   12   10  52.78931 -1.3147 -1.88294  780.67328  28.02473   \n2       395.14420   12   10  52.79694 -1.4032 -1.88294  780.06574  28.02817   \n3       395.19528   12   10  52.79694 -1.6074 -1.88294  780.15265  28.02301   \n4       395.34866   12   10  52.79694 -1.7811 -1.88294  781.83160  28.03595   \n...           ...  ...  ...       ...     ...      ...        ...       ...   \n478796  387.27219   12   10  66.72057 -0.9331 -1.84479  781.87915  28.02389   \n478797  387.52774   12   10  66.72057 -0.9996 -1.84479  787.65070  28.02385   \n478798  387.47665   12   10  66.72057 -1.2560 -1.84479  788.50256  28.03085   \n478799  387.73221   12   10  66.72057 -1.4912 -1.84479  785.80316  28.02649   \n478800  387.52774   12   10  66.72057 -1.5727 -1.84479  780.21381  28.02476   \n\n            C09     C10  ...        C70  C71      C72       C73       C74  \\\n0       10832.0 -3.0660  ...  808.29620  0.0  1.36810   8.79882  35.43700   \n1       10984.0 -2.9721  ...  819.16809  0.0  1.36810   8.78811  35.45227   \n2       11120.0 -2.9857  ...  823.51697  0.0  1.36734   8.81787  35.45227   \n3       11256.0 -3.2166  ...  823.95172  0.0  1.36734   8.87493  35.43700   \n4       11384.0 -3.5613  ...  827.86560  0.0  1.36810   8.83838  35.45227   \n...         ...     ...  ...        ...  ...      ...       ...       ...   \n478796    880.0 -2.6936  ...  944.84705  0.0  1.32843  15.17817  35.14710   \n478797    840.0 -2.5863  ...  940.49835  0.0  1.32843  15.17344  35.13183   \n478798    792.0 -2.8287  ...  935.71472  0.0  1.32919  15.16443  35.13183   \n478799    752.0 -3.3212  ...  944.84705  0.0  1.32843  15.09001  35.14710   \n478800    720.0 -3.6418  ...  951.80505  0.0  1.32919  15.08672  35.14710   \n\n             C75        C76        C77      C78     C79  \n0       12.01782  305.03113  301.35992  33.6555  6.0951  \n1       12.01782  304.27161  297.43567  33.6555  5.9262  \n2       12.01782  303.89179  298.66534  33.6555  5.8101  \n3       12.01782  303.67474  298.06860  33.6555  5.7509  \n4       12.01782  303.22266  296.53137  33.6555  5.8547  \n...          ...        ...        ...      ...     ...  \n478796  11.79657  316.89453  296.54950  32.0000  6.6026  \n478797  11.79657  315.59247  296.15161  32.0000  6.3894  \n478798  11.79657  313.92865  293.40277  32.0000  6.2584  \n478799  11.79657  315.61054  302.58972  32.0000  6.4150  \n478800  11.79657  317.23816  309.00964  32.0000  6.6288  \n\n[921603 rows x 79 columns]",
      "text/html": "<div>\n<style scoped>\n    .dataframe tbody tr th:only-of-type {\n        vertical-align: middle;\n    }\n\n    .dataframe tbody tr th {\n        vertical-align: top;\n    }\n\n    .dataframe thead th {\n        text-align: right;\n    }\n</style>\n<table border=\"1\" class=\"dataframe\">\n  <thead>\n    <tr style=\"text-align: right;\">\n      <th></th>\n      <th>C01</th>\n      <th>C02</th>\n      <th>C03</th>\n      <th>C04</th>\n      <th>C05</th>\n      <th>C06</th>\n      <th>C07</th>\n      <th>C08</th>\n      <th>C09</th>\n      <th>C10</th>\n      <th>...</th>\n      <th>C70</th>\n      <th>C71</th>\n      <th>C72</th>\n      <th>C73</th>\n      <th>C74</th>\n      <th>C75</th>\n      <th>C76</th>\n      <th>C77</th>\n      <th>C78</th>\n      <th>C79</th>\n    </tr>\n  </thead>\n  <tbody>\n    <tr>\n      <th>0</th>\n      <td>395.19528</td>\n      <td>12</td>\n      <td>10</td>\n      <td>52.80456</td>\n      <td>-1.2648</td>\n      <td>-1.87531</td>\n      <td>779.59595</td>\n      <td>28.02645</td>\n      <td>10832.0</td>\n      <td>-3.0660</td>\n      <td>...</td>\n      <td>808.29620</td>\n      <td>0.0</td>\n      <td>1.36810</td>\n      <td>8.79882</td>\n      <td>35.43700</td>\n      <td>12.01782</td>\n      <td>305.03113</td>\n      <td>301.35992</td>\n      <td>33.6555</td>\n      <td>6.0951</td>\n    </tr>\n    <tr>\n      <th>1</th>\n      <td>395.14420</td>\n      <td>12</td>\n      <td>10</td>\n      <td>52.78931</td>\n      <td>-1.3147</td>\n      <td>-1.88294</td>\n      <td>780.67328</td>\n      <td>28.02473</td>\n      <td>10984.0</td>\n      <td>-2.9721</td>\n      <td>...</td>\n      <td>819.16809</td>\n      <td>0.0</td>\n      <td>1.36810</td>\n      <td>8.78811</td>\n      <td>35.45227</td>\n      <td>12.01782</td>\n      <td>304.27161</td>\n      <td>297.43567</td>\n      <td>33.6555</td>\n      <td>5.9262</td>\n    </tr>\n    <tr>\n      <th>2</th>\n      <td>395.14420</td>\n      <td>12</td>\n      <td>10</td>\n      <td>52.79694</td>\n      <td>-1.4032</td>\n      <td>-1.88294</td>\n      <td>780.06574</td>\n      <td>28.02817</td>\n      <td>11120.0</td>\n      <td>-2.9857</td>\n      <td>...</td>\n      <td>823.51697</td>\n      <td>0.0</td>\n      <td>1.36734</td>\n      <td>8.81787</td>\n      <td>35.45227</td>\n      <td>12.01782</td>\n      <td>303.89179</td>\n      <td>298.66534</td>\n      <td>33.6555</td>\n      <td>5.8101</td>\n    </tr>\n    <tr>\n      <th>3</th>\n      <td>395.19528</td>\n      <td>12</td>\n      <td>10</td>\n      <td>52.79694</td>\n      <td>-1.6074</td>\n      <td>-1.88294</td>\n      <td>780.15265</td>\n      <td>28.02301</td>\n      <td>11256.0</td>\n      <td>-3.2166</td>\n      <td>...</td>\n      <td>823.95172</td>\n      <td>0.0</td>\n      <td>1.36734</td>\n      <td>8.87493</td>\n      <td>35.43700</td>\n      <td>12.01782</td>\n      <td>303.67474</td>\n      <td>298.06860</td>\n      <td>33.6555</td>\n      <td>5.7509</td>\n    </tr>\n    <tr>\n      <th>4</th>\n      <td>395.34866</td>\n      <td>12</td>\n      <td>10</td>\n      <td>52.79694</td>\n      <td>-1.7811</td>\n      <td>-1.88294</td>\n      <td>781.83160</td>\n      <td>28.03595</td>\n      <td>11384.0</td>\n      <td>-3.5613</td>\n      <td>...</td>\n      <td>827.86560</td>\n      <td>0.0</td>\n      <td>1.36810</td>\n      <td>8.83838</td>\n      <td>35.45227</td>\n      <td>12.01782</td>\n      <td>303.22266</td>\n      <td>296.53137</td>\n      <td>33.6555</td>\n      <td>5.8547</td>\n    </tr>\n    <tr>\n      <th>...</th>\n      <td>...</td>\n      <td>...</td>\n      <td>...</td>\n      <td>...</td>\n      <td>...</td>\n      <td>...</td>\n      <td>...</td>\n      <td>...</td>\n      <td>...</td>\n      <td>...</td>\n      <td>...</td>\n      <td>...</td>\n      <td>...</td>\n      <td>...</td>\n      <td>...</td>\n      <td>...</td>\n      <td>...</td>\n      <td>...</td>\n      <td>...</td>\n      <td>...</td>\n      <td>...</td>\n    </tr>\n    <tr>\n      <th>478796</th>\n      <td>387.27219</td>\n      <td>12</td>\n      <td>10</td>\n      <td>66.72057</td>\n      <td>-0.9331</td>\n      <td>-1.84479</td>\n      <td>781.87915</td>\n      <td>28.02389</td>\n      <td>880.0</td>\n      <td>-2.6936</td>\n      <td>...</td>\n      <td>944.84705</td>\n      <td>0.0</td>\n      <td>1.32843</td>\n      <td>15.17817</td>\n      <td>35.14710</td>\n      <td>11.79657</td>\n      <td>316.89453</td>\n      <td>296.54950</td>\n      <td>32.0000</td>\n      <td>6.6026</td>\n    </tr>\n    <tr>\n      <th>478797</th>\n      <td>387.52774</td>\n      <td>12</td>\n      <td>10</td>\n      <td>66.72057</td>\n      <td>-0.9996</td>\n      <td>-1.84479</td>\n      <td>787.65070</td>\n      <td>28.02385</td>\n      <td>840.0</td>\n      <td>-2.5863</td>\n      <td>...</td>\n      <td>940.49835</td>\n      <td>0.0</td>\n      <td>1.32843</td>\n      <td>15.17344</td>\n      <td>35.13183</td>\n      <td>11.79657</td>\n      <td>315.59247</td>\n      <td>296.15161</td>\n      <td>32.0000</td>\n      <td>6.3894</td>\n    </tr>\n    <tr>\n      <th>478798</th>\n      <td>387.47665</td>\n      <td>12</td>\n      <td>10</td>\n      <td>66.72057</td>\n      <td>-1.2560</td>\n      <td>-1.84479</td>\n      <td>788.50256</td>\n      <td>28.03085</td>\n      <td>792.0</td>\n      <td>-2.8287</td>\n      <td>...</td>\n      <td>935.71472</td>\n      <td>0.0</td>\n      <td>1.32919</td>\n      <td>15.16443</td>\n      <td>35.13183</td>\n      <td>11.79657</td>\n      <td>313.92865</td>\n      <td>293.40277</td>\n      <td>32.0000</td>\n      <td>6.2584</td>\n    </tr>\n    <tr>\n      <th>478799</th>\n      <td>387.73221</td>\n      <td>12</td>\n      <td>10</td>\n      <td>66.72057</td>\n      <td>-1.4912</td>\n      <td>-1.84479</td>\n      <td>785.80316</td>\n      <td>28.02649</td>\n      <td>752.0</td>\n      <td>-3.3212</td>\n      <td>...</td>\n      <td>944.84705</td>\n      <td>0.0</td>\n      <td>1.32843</td>\n      <td>15.09001</td>\n      <td>35.14710</td>\n      <td>11.79657</td>\n      <td>315.61054</td>\n      <td>302.58972</td>\n      <td>32.0000</td>\n      <td>6.4150</td>\n    </tr>\n    <tr>\n      <th>478800</th>\n      <td>387.52774</td>\n      <td>12</td>\n      <td>10</td>\n      <td>66.72057</td>\n      <td>-1.5727</td>\n      <td>-1.84479</td>\n      <td>780.21381</td>\n      <td>28.02476</td>\n      <td>720.0</td>\n      <td>-3.6418</td>\n      <td>...</td>\n      <td>951.80505</td>\n      <td>0.0</td>\n      <td>1.32919</td>\n      <td>15.08672</td>\n      <td>35.14710</td>\n      <td>11.79657</td>\n      <td>317.23816</td>\n      <td>309.00964</td>\n      <td>32.0000</td>\n      <td>6.6288</td>\n    </tr>\n  </tbody>\n</table>\n<p>921603 rows × 79 columns</p>\n</div>"
     },
     "metadata": {},
     "execution_count": 11
    }
   ],
   "source": [
    "TRAIN_DF_RAW[VALID_COLUMNS_IN_TRAIN_DATASET]"
   ]
  },
  {
   "cell_type": "code",
   "execution_count": 12,
   "metadata": {
    "tags": []
   },
   "outputs": [
    {
     "output_type": "execute_result",
     "data": {
      "text/plain": "             C01  C02  C03       C04       C05       C06       C07       C08  \\\n0       0.378953  0.0  0.0  0.227071  0.372380  0.000230  0.386721  0.410567   \n1       0.378504  0.0  0.0  0.226596  0.353516  0.000161  0.399074  0.364415   \n2       0.378463  0.0  0.0  0.226789  0.318663  0.000154  0.393283  0.451729   \n3       0.378904  0.0  0.0  0.226808  0.238782  0.000154  0.393697  0.323289   \n4       0.380282  0.0  0.0  0.226810  0.165794  0.000154  0.412796  0.654203   \n...          ...  ...  ...       ...       ...       ...       ...       ...   \n478796  0.302372  0.0  0.0  0.703684  0.509016  0.000538  0.420902  0.355242   \n478797  0.304595  0.0  0.0  0.703684  0.485295  0.000538  0.481569  0.335967   \n478798  0.304373  0.0  0.0  0.703684  0.386965  0.000538  0.497306  0.519990   \n478799  0.306574  0.0  0.0  0.703684  0.289108  0.000538  0.468238  0.422572   \n478800  0.305015  0.0  0.0  0.703684  0.248821  0.000538  0.401886  0.366873   \n\n             C09       C10  ...       C70  C71       C72       C73       C74  \\\n0       0.784144  0.508049  ...  0.584892  0.0  0.326835  0.254687  0.331076   \n1       0.794139  0.540538  ...  0.592044  0.0  0.326835  0.254315  0.337223   \n2       0.803903  0.538802  ...  0.595523  0.0  0.326387  0.255304  0.337777   \n3       0.813725  0.459532  ...  0.596151  0.0  0.326343  0.257362  0.331746   \n4       0.823039  0.333541  ...  0.598763  0.0  0.326786  0.256312  0.337229   \n...          ...       ...  ...       ...  ...       ...       ...       ...   \n478796  0.064622  0.639006  ...  0.683154  0.0  0.300845  0.497901  0.202699   \n478797  0.061671  0.685457  ...  0.680815  0.0  0.300850  0.497868  0.196619   \n478798  0.058250  0.607073  ...  0.677466  0.0  0.301298  0.497555  0.196011   \n478799  0.055304  0.430538  ...  0.683078  0.0  0.300895  0.494969  0.202036   \n478800  0.052926  0.303069  ...  0.688171  0.0  0.301303  0.494597  0.202639   \n\n             C75       C76       C77      C78       C79  \n0       0.916661  0.269393  0.265017  1.00000  0.567254  \n1       0.916661  0.266791  0.251792  1.00000  0.512135  \n2       0.916661  0.265266  0.254707  1.00000  0.469622  \n3       0.916661  0.264379  0.253005  1.00000  0.446285  \n4       0.916661  0.262757  0.247706  1.00000  0.477489  \n...          ...       ...       ...      ...       ...  \n478796  0.111119  0.315343  0.248152  0.26162  0.757619  \n478797  0.111119  0.309817  0.245953  0.26162  0.681373  \n478798  0.111119  0.303620  0.236562  0.26162  0.631425  \n478799  0.111119  0.308706  0.266275  0.26162  0.677024  \n478800  0.111119  0.314736  0.290666  0.26162  0.750658  \n\n[921603 rows x 79 columns]",
      "text/html": "<div>\n<style scoped>\n    .dataframe tbody tr th:only-of-type {\n        vertical-align: middle;\n    }\n\n    .dataframe tbody tr th {\n        vertical-align: top;\n    }\n\n    .dataframe thead th {\n        text-align: right;\n    }\n</style>\n<table border=\"1\" class=\"dataframe\">\n  <thead>\n    <tr style=\"text-align: right;\">\n      <th></th>\n      <th>C01</th>\n      <th>C02</th>\n      <th>C03</th>\n      <th>C04</th>\n      <th>C05</th>\n      <th>C06</th>\n      <th>C07</th>\n      <th>C08</th>\n      <th>C09</th>\n      <th>C10</th>\n      <th>...</th>\n      <th>C70</th>\n      <th>C71</th>\n      <th>C72</th>\n      <th>C73</th>\n      <th>C74</th>\n      <th>C75</th>\n      <th>C76</th>\n      <th>C77</th>\n      <th>C78</th>\n      <th>C79</th>\n    </tr>\n  </thead>\n  <tbody>\n    <tr>\n      <th>0</th>\n      <td>0.378953</td>\n      <td>0.0</td>\n      <td>0.0</td>\n      <td>0.227071</td>\n      <td>0.372380</td>\n      <td>0.000230</td>\n      <td>0.386721</td>\n      <td>0.410567</td>\n      <td>0.784144</td>\n      <td>0.508049</td>\n      <td>...</td>\n      <td>0.584892</td>\n      <td>0.0</td>\n      <td>0.326835</td>\n      <td>0.254687</td>\n      <td>0.331076</td>\n      <td>0.916661</td>\n      <td>0.269393</td>\n      <td>0.265017</td>\n      <td>1.00000</td>\n      <td>0.567254</td>\n    </tr>\n    <tr>\n      <th>1</th>\n      <td>0.378504</td>\n      <td>0.0</td>\n      <td>0.0</td>\n      <td>0.226596</td>\n      <td>0.353516</td>\n      <td>0.000161</td>\n      <td>0.399074</td>\n      <td>0.364415</td>\n      <td>0.794139</td>\n      <td>0.540538</td>\n      <td>...</td>\n      <td>0.592044</td>\n      <td>0.0</td>\n      <td>0.326835</td>\n      <td>0.254315</td>\n      <td>0.337223</td>\n      <td>0.916661</td>\n      <td>0.266791</td>\n      <td>0.251792</td>\n      <td>1.00000</td>\n      <td>0.512135</td>\n    </tr>\n    <tr>\n      <th>2</th>\n      <td>0.378463</td>\n      <td>0.0</td>\n      <td>0.0</td>\n      <td>0.226789</td>\n      <td>0.318663</td>\n      <td>0.000154</td>\n      <td>0.393283</td>\n      <td>0.451729</td>\n      <td>0.803903</td>\n      <td>0.538802</td>\n      <td>...</td>\n      <td>0.595523</td>\n      <td>0.0</td>\n      <td>0.326387</td>\n      <td>0.255304</td>\n      <td>0.337777</td>\n      <td>0.916661</td>\n      <td>0.265266</td>\n      <td>0.254707</td>\n      <td>1.00000</td>\n      <td>0.469622</td>\n    </tr>\n    <tr>\n      <th>3</th>\n      <td>0.378904</td>\n      <td>0.0</td>\n      <td>0.0</td>\n      <td>0.226808</td>\n      <td>0.238782</td>\n      <td>0.000154</td>\n      <td>0.393697</td>\n      <td>0.323289</td>\n      <td>0.813725</td>\n      <td>0.459532</td>\n      <td>...</td>\n      <td>0.596151</td>\n      <td>0.0</td>\n      <td>0.326343</td>\n      <td>0.257362</td>\n      <td>0.331746</td>\n      <td>0.916661</td>\n      <td>0.264379</td>\n      <td>0.253005</td>\n      <td>1.00000</td>\n      <td>0.446285</td>\n    </tr>\n    <tr>\n      <th>4</th>\n      <td>0.380282</td>\n      <td>0.0</td>\n      <td>0.0</td>\n      <td>0.226810</td>\n      <td>0.165794</td>\n      <td>0.000154</td>\n      <td>0.412796</td>\n      <td>0.654203</td>\n      <td>0.823039</td>\n      <td>0.333541</td>\n      <td>...</td>\n      <td>0.598763</td>\n      <td>0.0</td>\n      <td>0.326786</td>\n      <td>0.256312</td>\n      <td>0.337229</td>\n      <td>0.916661</td>\n      <td>0.262757</td>\n      <td>0.247706</td>\n      <td>1.00000</td>\n      <td>0.477489</td>\n    </tr>\n    <tr>\n      <th>...</th>\n      <td>...</td>\n      <td>...</td>\n      <td>...</td>\n      <td>...</td>\n      <td>...</td>\n      <td>...</td>\n      <td>...</td>\n      <td>...</td>\n      <td>...</td>\n      <td>...</td>\n      <td>...</td>\n      <td>...</td>\n      <td>...</td>\n      <td>...</td>\n      <td>...</td>\n      <td>...</td>\n      <td>...</td>\n      <td>...</td>\n      <td>...</td>\n      <td>...</td>\n      <td>...</td>\n    </tr>\n    <tr>\n      <th>478796</th>\n      <td>0.302372</td>\n      <td>0.0</td>\n      <td>0.0</td>\n      <td>0.703684</td>\n      <td>0.509016</td>\n      <td>0.000538</td>\n      <td>0.420902</td>\n      <td>0.355242</td>\n      <td>0.064622</td>\n      <td>0.639006</td>\n      <td>...</td>\n      <td>0.683154</td>\n      <td>0.0</td>\n      <td>0.300845</td>\n      <td>0.497901</td>\n      <td>0.202699</td>\n      <td>0.111119</td>\n      <td>0.315343</td>\n      <td>0.248152</td>\n      <td>0.26162</td>\n      <td>0.757619</td>\n    </tr>\n    <tr>\n      <th>478797</th>\n      <td>0.304595</td>\n      <td>0.0</td>\n      <td>0.0</td>\n      <td>0.703684</td>\n      <td>0.485295</td>\n      <td>0.000538</td>\n      <td>0.481569</td>\n      <td>0.335967</td>\n      <td>0.061671</td>\n      <td>0.685457</td>\n      <td>...</td>\n      <td>0.680815</td>\n      <td>0.0</td>\n      <td>0.300850</td>\n      <td>0.497868</td>\n      <td>0.196619</td>\n      <td>0.111119</td>\n      <td>0.309817</td>\n      <td>0.245953</td>\n      <td>0.26162</td>\n      <td>0.681373</td>\n    </tr>\n    <tr>\n      <th>478798</th>\n      <td>0.304373</td>\n      <td>0.0</td>\n      <td>0.0</td>\n      <td>0.703684</td>\n      <td>0.386965</td>\n      <td>0.000538</td>\n      <td>0.497306</td>\n      <td>0.519990</td>\n      <td>0.058250</td>\n      <td>0.607073</td>\n      <td>...</td>\n      <td>0.677466</td>\n      <td>0.0</td>\n      <td>0.301298</td>\n      <td>0.497555</td>\n      <td>0.196011</td>\n      <td>0.111119</td>\n      <td>0.303620</td>\n      <td>0.236562</td>\n      <td>0.26162</td>\n      <td>0.631425</td>\n    </tr>\n    <tr>\n      <th>478799</th>\n      <td>0.306574</td>\n      <td>0.0</td>\n      <td>0.0</td>\n      <td>0.703684</td>\n      <td>0.289108</td>\n      <td>0.000538</td>\n      <td>0.468238</td>\n      <td>0.422572</td>\n      <td>0.055304</td>\n      <td>0.430538</td>\n      <td>...</td>\n      <td>0.683078</td>\n      <td>0.0</td>\n      <td>0.300895</td>\n      <td>0.494969</td>\n      <td>0.202036</td>\n      <td>0.111119</td>\n      <td>0.308706</td>\n      <td>0.266275</td>\n      <td>0.26162</td>\n      <td>0.677024</td>\n    </tr>\n    <tr>\n      <th>478800</th>\n      <td>0.305015</td>\n      <td>0.0</td>\n      <td>0.0</td>\n      <td>0.703684</td>\n      <td>0.248821</td>\n      <td>0.000538</td>\n      <td>0.401886</td>\n      <td>0.366873</td>\n      <td>0.052926</td>\n      <td>0.303069</td>\n      <td>...</td>\n      <td>0.688171</td>\n      <td>0.0</td>\n      <td>0.301303</td>\n      <td>0.494597</td>\n      <td>0.202639</td>\n      <td>0.111119</td>\n      <td>0.314736</td>\n      <td>0.290666</td>\n      <td>0.26162</td>\n      <td>0.750658</td>\n    </tr>\n  </tbody>\n</table>\n<p>921603 rows × 79 columns</p>\n</div>"
     },
     "metadata": {},
     "execution_count": 12
    }
   ],
   "source": [
    "TRAIN_DF = normalize(TRAIN_DF_RAW[VALID_COLUMNS_IN_TRAIN_DATASET]).ewm(alpha=0.9).mean()\n",
    "TRAIN_DF"
   ]
  },
  {
   "cell_type": "code",
   "execution_count": 13,
   "metadata": {},
   "outputs": [],
   "source": [
    "def boundary_check(df):\n",
    "    x = np.array(df, dtype=np.float32)\n",
    "    return np.any(x > 1.0), np.any(x < 0), np.any(np.isnan(x))"
   ]
  },
  {
   "cell_type": "code",
   "execution_count": 14,
   "metadata": {},
   "outputs": [
    {
     "output_type": "execute_result",
     "data": {
      "text/plain": "(False, False, False)"
     },
     "metadata": {},
     "execution_count": 14
    }
   ],
   "source": [
    "boundary_check(TRAIN_DF)"
   ]
  },
  {
   "cell_type": "code",
   "execution_count": 15,
   "metadata": {},
   "outputs": [
    {
     "output_type": "execute_result",
     "data": {
      "text/plain": "datetime.timedelta(0, 1)"
     },
     "metadata": {},
     "execution_count": 15
    }
   ],
   "source": [
    "dateutil.parser.parse(TRAIN_DF_RAW[TIMESTAMP_FIELD].iloc[1]) - dateutil.parser.parse(TRAIN_DF_RAW[TIMESTAMP_FIELD].iloc[0])"
   ]
  },
  {
   "cell_type": "code",
   "execution_count": 16,
   "metadata": {},
   "outputs": [],
   "source": [
    "WINDOW_GIVEN = 59\n",
    "WINDOW_SIZE = 60\n",
    "\n",
    "\n",
    "class HaiDataset(Dataset):\n",
    "    def __init__(self, timestamps, df, stride=1, attacks=None):\n",
    "        self.ts = np.array(timestamps)\n",
    "        self.tag_values = np.array(df, dtype=np.float32)\n",
    "        self.valid_idxs = []\n",
    "\n",
    "        \n",
    "        for L in trange(len(self.ts) - WINDOW_SIZE + 1):\n",
    "            R = L + WINDOW_SIZE - 1\n",
    "            if dateutil.parser.parse(self.ts[R]) - dateutil.parser.parse(\n",
    "                self.ts[L]\n",
    "            ) == timedelta(seconds=WINDOW_SIZE - 1):\n",
    "                self.valid_idxs.append(L)\n",
    "        self.valid_idxs = np.array(self.valid_idxs, dtype=np.int32)[::stride]\n",
    "        self.n_idxs = len(self.valid_idxs)\n",
    "        print(f\"# of valid windows: {self.n_idxs}\")\n",
    "        if attacks is not None:\n",
    "            self.attacks = np.array(attacks, dtype=np.float32)\n",
    "            self.with_attack = True\n",
    "        else:\n",
    "            self.with_attack = False\n",
    "\n",
    "    def __len__(self):\n",
    "        return self.n_idxs\n",
    "\n",
    "    def __getitem__(self, idx):\n",
    "        i = self.valid_idxs[idx]\n",
    "        last = i + WINDOW_SIZE - 1\n",
    "        item = {\"attack\": self.attacks[last]} if self.with_attack else {}\n",
    "        item[\"ts\"] = self.ts[i + WINDOW_SIZE - 1]\n",
    "        item[\"given\"] = torch.from_numpy(self.tag_values[i : i + WINDOW_GIVEN])\n",
    "        item[\"answer\"] = torch.from_numpy(self.tag_values[last])\n",
    "        return item"
   ]
  },
  {
   "cell_type": "code",
   "execution_count": 17,
   "metadata": {
    "tags": []
   },
   "outputs": [
    {
     "output_type": "display_data",
     "data": {
      "text/plain": "HBox(children=(FloatProgress(value=0.0, max=921544.0), HTML(value='')))",
      "application/vnd.jupyter.widget-view+json": {
       "version_major": 2,
       "version_minor": 0,
       "model_id": "f2706708bef241ddab3e6da7d7737991"
      }
     },
     "metadata": {}
    },
    {
     "output_type": "stream",
     "name": "stdout",
     "text": "\n# of valid windows: 921426\n"
    },
    {
     "output_type": "execute_result",
     "data": {
      "text/plain": "{'ts': '2020-07-11 00:00:59',\n 'given': tensor([[0.3790, 0.0000, 0.0000,  ..., 0.2650, 1.0000, 0.5673],\n         [0.3785, 0.0000, 0.0000,  ..., 0.2518, 1.0000, 0.5121],\n         [0.3785, 0.0000, 0.0000,  ..., 0.2547, 1.0000, 0.4696],\n         ...,\n         [0.3784, 0.0000, 0.0000,  ..., 0.1796, 1.0000, 0.6517],\n         [0.3776, 0.0000, 0.0000,  ..., 0.1777, 1.0000, 0.7075],\n         [0.3761, 0.0000, 0.0000,  ..., 0.1797, 1.0000, 0.6562]]),\n 'answer': tensor([3.7600e-01, 0.0000e+00, 0.0000e+00, 2.2681e-01, 3.3856e-01, 1.5367e-04,\n         4.5900e-01, 4.2068e-01, 9.8894e-01, 5.2564e-01, 5.2291e-01, 1.6963e-01,\n         1.4555e-01, 0.0000e+00, 4.7654e-01, 3.5710e-01, 5.2494e-01, 0.0000e+00,\n         0.0000e+00, 1.7465e-01, 0.0000e+00, 0.0000e+00, 6.2612e-19, 8.8022e-01,\n         0.0000e+00, 4.0426e-01, 3.2757e-01, 0.0000e+00, 2.2855e-01, 1.3690e-01,\n         9.9742e-01, 2.6923e-01, 0.0000e+00, 0.0000e+00, 0.0000e+00, 1.0000e+00,\n         0.0000e+00, 4.8270e-01, 6.0688e-01, 0.0000e+00, 1.0000e+00, 9.1730e-01,\n         0.0000e+00, 5.4634e-01, 3.6803e-01, 5.7016e-01, 6.0934e-01, 0.0000e+00,\n         4.5543e-01, 8.5543e-04, 0.0000e+00, 0.0000e+00, 5.8175e-01, 1.0000e+00,\n         2.1916e-01, 9.9197e-01, 4.9039e-02, 0.0000e+00, 0.0000e+00, 9.9197e-01,\n         0.0000e+00, 5.3105e-01, 0.0000e+00, 0.0000e+00, 0.0000e+00, 1.4237e-01,\n         0.0000e+00, 9.8961e-01, 8.6530e-01, 5.8835e-01, 0.0000e+00, 2.9396e-01,\n         3.0673e-01, 3.3784e-01, 9.1666e-01, 1.7560e-01, 1.7714e-01, 1.0000e+00,\n         5.0520e-01])}"
     },
     "metadata": {},
     "execution_count": 17
    }
   ],
   "source": [
    "HAI_DATASET_TRAIN = HaiDataset(TRAIN_DF_RAW[TIMESTAMP_FIELD], TRAIN_DF, stride=1)\n",
    "HAI_DATASET_TRAIN[0]"
   ]
  },
  {
   "cell_type": "code",
   "execution_count": 18,
   "metadata": {},
   "outputs": [],
   "source": [
    "N_HIDDENS = 256\n",
    "N_LAYERS = 5\n",
    "BATCH_SIZE = 256\n",
    "\n",
    "\n",
    "class StackedGRU(torch.nn.Module):\n",
    "    def __init__(self, n_tags):\n",
    "        super().__init__()\n",
    "        self.rnn = torch.nn.GRU(\n",
    "            input_size=n_tags,\n",
    "            hidden_size=N_HIDDENS,\n",
    "            num_layers=N_LAYERS,\n",
    "            bidirectional=True\n",
    "        )\n",
    "        self.lin = torch.nn.Linear(N_HIDDENS * 2, N_HIDDENS * 4)\n",
    "        self.lin2 = torch.nn.Linear(N_HIDDENS*4 , N_HIDDENS*2)\n",
    "        self.fc = torch.nn.Linear(N_HIDDENS * 2, n_tags)\n",
    "        self.norm = torch.nn.BatchNorm1d(N_HIDDENS * 2)\n",
    "        self.elu = torch.nn.ELU()\n",
    "    def forward(self, x):\n",
    "        x = x.transpose(0, 1)  # (batch, seq, params) -> (seq, batch, params)\n",
    "        self.rnn.flatten_parameters()\n",
    "        outs, _ = self.rnn(x)\n",
    "        nom = self.norm(outs[-1])\n",
    "        out1 = self.elu(self.lin(nom))\n",
    "        out1 = self.elu(self.lin2(out1))\n",
    "        out = self.fc(out1)\n",
    "        return x[0] + out"
   ]
  },
  {
   "cell_type": "code",
   "execution_count": 19,
   "metadata": {},
   "outputs": [
    {
     "output_type": "execute_result",
     "data": {
      "text/plain": "StackedGRU(\n  (rnn): GRU(79, 256, num_layers=5, bidirectional=True)\n  (lin): Linear(in_features=512, out_features=1024, bias=True)\n  (lin2): Linear(in_features=1024, out_features=512, bias=True)\n  (fc): Linear(in_features=512, out_features=79, bias=True)\n  (norm): BatchNorm1d(512, eps=1e-05, momentum=0.1, affine=True, track_running_stats=True)\n  (elu): ELU(alpha=1.0)\n)"
     },
     "metadata": {},
     "execution_count": 19
    }
   ],
   "source": [
    "if torch.cuda.device_count() > 10:\n",
    "    print(\"Multi GPU\")\n",
    "    MODEL = torch.nn.DataParallel(StackedGRU(n_tags=TRAIN_DF.shape[1])) # 다중 280.0/it\n",
    "else:\n",
    "    MODEL = StackedGRU(n_tags=TRAIN_DF.shape[1])\n",
    "MODEL.cuda()"
   ]
  },
  {
   "cell_type": "code",
   "execution_count": 20,
   "metadata": {},
   "outputs": [],
   "source": [
    "def train(dataset, model, batch_size, n_epochs):\n",
    "    dataloader = DataLoader(dataset, batch_size=batch_size, shuffle=True)\n",
    "    optimizer = torch.optim.AdamW(model.parameters(),lr=2e-4, weight_decay= 0.3)\n",
    "    scheduler =torch.optim.lr_scheduler.MultiStepLR(optimizer, milestones=[7,17,25],gamma=0.3)\n",
    "    loss_fn = torch.nn.MSELoss(reduce=True)\n",
    "    epochs = trange(n_epochs, desc=\"training\")\n",
    "    best = {\"loss\": sys.float_info.max}\n",
    "    loss_history = []\n",
    "    for e in epochs:\n",
    "        epoch_loss = 0\n",
    "        for batch in dataloader:\n",
    "            optimizer.zero_grad()\n",
    "            given = batch[\"given\"].cuda()\n",
    "            guess = model(given)\n",
    "            answer = batch[\"answer\"].cuda()\n",
    "            loss = loss_fn(answer, guess)\n",
    "            loss.backward()\n",
    "            epoch_loss += loss.item()\n",
    "            optimizer.step()\n",
    "        loss_history.append(epoch_loss)\n",
    "        epochs.set_postfix_str(f\"loss: {epoch_loss:.6f}\")\n",
    "        if epoch_loss < best[\"loss\"]:\n",
    "            best[\"state\"] = model.state_dict()\n",
    "            best[\"loss\"] = epoch_loss\n",
    "            best[\"epoch\"] = e + 1\n",
    "        # scheduler.step()\n",
    "    return best, loss_history"
   ]
  },
  {
   "cell_type": "code",
   "execution_count": 21,
   "metadata": {
    "tags": []
   },
   "outputs": [
    {
     "output_type": "display_data",
     "data": {
      "text/plain": "HBox(children=(FloatProgress(value=0.0, description='training', max=32.0, style=ProgressStyle(description_widt…",
      "application/vnd.jupyter.widget-view+json": {
       "version_major": 2,
       "version_minor": 0,
       "model_id": "00bb48ea05e74cae8a03debf840ac9a1"
      }
     },
     "metadata": {}
    },
    {
     "output_type": "stream",
     "name": "stdout",
     "text": "\n"
    },
    {
     "output_type": "error",
     "ename": "RuntimeError",
     "evalue": "mat1 dim 1 must match mat2 dim 0",
     "traceback": [
      "\u001b[1;31m---------------------------------------------------------------------------\u001b[0m",
      "\u001b[1;31mRuntimeError\u001b[0m                              Traceback (most recent call last)",
      "\u001b[1;32m<timed exec>\u001b[0m in \u001b[0;36m<module>\u001b[1;34m\u001b[0m\n",
      "\u001b[1;32m<ipython-input-20-a80f9380fd70>\u001b[0m in \u001b[0;36mtrain\u001b[1;34m(dataset, model, batch_size, n_epochs)\u001b[0m\n\u001b[0;32m     12\u001b[0m             \u001b[0moptimizer\u001b[0m\u001b[1;33m.\u001b[0m\u001b[0mzero_grad\u001b[0m\u001b[1;33m(\u001b[0m\u001b[1;33m)\u001b[0m\u001b[1;33m\u001b[0m\u001b[1;33m\u001b[0m\u001b[0m\n\u001b[0;32m     13\u001b[0m             \u001b[0mgiven\u001b[0m \u001b[1;33m=\u001b[0m \u001b[0mbatch\u001b[0m\u001b[1;33m[\u001b[0m\u001b[1;34m\"given\"\u001b[0m\u001b[1;33m]\u001b[0m\u001b[1;33m.\u001b[0m\u001b[0mcuda\u001b[0m\u001b[1;33m(\u001b[0m\u001b[1;33m)\u001b[0m\u001b[1;33m\u001b[0m\u001b[1;33m\u001b[0m\u001b[0m\n\u001b[1;32m---> 14\u001b[1;33m             \u001b[0mguess\u001b[0m \u001b[1;33m=\u001b[0m \u001b[0mmodel\u001b[0m\u001b[1;33m(\u001b[0m\u001b[0mgiven\u001b[0m\u001b[1;33m)\u001b[0m\u001b[1;33m\u001b[0m\u001b[1;33m\u001b[0m\u001b[0m\n\u001b[0m\u001b[0;32m     15\u001b[0m             \u001b[0manswer\u001b[0m \u001b[1;33m=\u001b[0m \u001b[0mbatch\u001b[0m\u001b[1;33m[\u001b[0m\u001b[1;34m\"answer\"\u001b[0m\u001b[1;33m]\u001b[0m\u001b[1;33m.\u001b[0m\u001b[0mcuda\u001b[0m\u001b[1;33m(\u001b[0m\u001b[1;33m)\u001b[0m\u001b[1;33m\u001b[0m\u001b[1;33m\u001b[0m\u001b[0m\n\u001b[0;32m     16\u001b[0m             \u001b[0mloss\u001b[0m \u001b[1;33m=\u001b[0m \u001b[0mloss_fn\u001b[0m\u001b[1;33m(\u001b[0m\u001b[0manswer\u001b[0m\u001b[1;33m,\u001b[0m \u001b[0mguess\u001b[0m\u001b[1;33m)\u001b[0m\u001b[1;33m\u001b[0m\u001b[1;33m\u001b[0m\u001b[0m\n",
      "\u001b[1;32mD:\\Anaconda3\\envs\\torch\\lib\\site-packages\\torch\\nn\\modules\\module.py\u001b[0m in \u001b[0;36m_call_impl\u001b[1;34m(self, *input, **kwargs)\u001b[0m\n\u001b[0;32m    720\u001b[0m             \u001b[0mresult\u001b[0m \u001b[1;33m=\u001b[0m \u001b[0mself\u001b[0m\u001b[1;33m.\u001b[0m\u001b[0m_slow_forward\u001b[0m\u001b[1;33m(\u001b[0m\u001b[1;33m*\u001b[0m\u001b[0minput\u001b[0m\u001b[1;33m,\u001b[0m \u001b[1;33m**\u001b[0m\u001b[0mkwargs\u001b[0m\u001b[1;33m)\u001b[0m\u001b[1;33m\u001b[0m\u001b[1;33m\u001b[0m\u001b[0m\n\u001b[0;32m    721\u001b[0m         \u001b[1;32melse\u001b[0m\u001b[1;33m:\u001b[0m\u001b[1;33m\u001b[0m\u001b[1;33m\u001b[0m\u001b[0m\n\u001b[1;32m--> 722\u001b[1;33m             \u001b[0mresult\u001b[0m \u001b[1;33m=\u001b[0m \u001b[0mself\u001b[0m\u001b[1;33m.\u001b[0m\u001b[0mforward\u001b[0m\u001b[1;33m(\u001b[0m\u001b[1;33m*\u001b[0m\u001b[0minput\u001b[0m\u001b[1;33m,\u001b[0m \u001b[1;33m**\u001b[0m\u001b[0mkwargs\u001b[0m\u001b[1;33m)\u001b[0m\u001b[1;33m\u001b[0m\u001b[1;33m\u001b[0m\u001b[0m\n\u001b[0m\u001b[0;32m    723\u001b[0m         for hook in itertools.chain(\n\u001b[0;32m    724\u001b[0m                 \u001b[0m_global_forward_hooks\u001b[0m\u001b[1;33m.\u001b[0m\u001b[0mvalues\u001b[0m\u001b[1;33m(\u001b[0m\u001b[1;33m)\u001b[0m\u001b[1;33m,\u001b[0m\u001b[1;33m\u001b[0m\u001b[1;33m\u001b[0m\u001b[0m\n",
      "\u001b[1;32m<ipython-input-18-7c62b720b7fe>\u001b[0m in \u001b[0;36mforward\u001b[1;34m(self, x)\u001b[0m\n\u001b[0;32m     25\u001b[0m         \u001b[0mout1\u001b[0m \u001b[1;33m=\u001b[0m \u001b[0mself\u001b[0m\u001b[1;33m.\u001b[0m\u001b[0melu\u001b[0m\u001b[1;33m(\u001b[0m\u001b[0mself\u001b[0m\u001b[1;33m.\u001b[0m\u001b[0mlin\u001b[0m\u001b[1;33m(\u001b[0m\u001b[0mnom\u001b[0m\u001b[1;33m)\u001b[0m\u001b[1;33m)\u001b[0m\u001b[1;33m\u001b[0m\u001b[1;33m\u001b[0m\u001b[0m\n\u001b[0;32m     26\u001b[0m         \u001b[0mout1\u001b[0m \u001b[1;33m=\u001b[0m \u001b[0mself\u001b[0m\u001b[1;33m.\u001b[0m\u001b[0melu\u001b[0m\u001b[1;33m(\u001b[0m\u001b[0mself\u001b[0m\u001b[1;33m.\u001b[0m\u001b[0mlin2\u001b[0m\u001b[1;33m(\u001b[0m\u001b[0mout1\u001b[0m\u001b[1;33m)\u001b[0m\u001b[1;33m)\u001b[0m\u001b[1;33m\u001b[0m\u001b[1;33m\u001b[0m\u001b[0m\n\u001b[1;32m---> 27\u001b[1;33m         \u001b[0mout\u001b[0m \u001b[1;33m=\u001b[0m \u001b[0mself\u001b[0m\u001b[1;33m.\u001b[0m\u001b[0mfc\u001b[0m\u001b[1;33m(\u001b[0m\u001b[0mout1\u001b[0m\u001b[1;33m)\u001b[0m\u001b[1;33m\u001b[0m\u001b[1;33m\u001b[0m\u001b[0m\n\u001b[0m\u001b[0;32m     28\u001b[0m         \u001b[1;32mreturn\u001b[0m \u001b[0mx\u001b[0m\u001b[1;33m[\u001b[0m\u001b[1;36m0\u001b[0m\u001b[1;33m]\u001b[0m \u001b[1;33m+\u001b[0m \u001b[0mout\u001b[0m\u001b[1;33m\u001b[0m\u001b[1;33m\u001b[0m\u001b[0m\n",
      "\u001b[1;32mD:\\Anaconda3\\envs\\torch\\lib\\site-packages\\torch\\nn\\modules\\module.py\u001b[0m in \u001b[0;36m_call_impl\u001b[1;34m(self, *input, **kwargs)\u001b[0m\n\u001b[0;32m    720\u001b[0m             \u001b[0mresult\u001b[0m \u001b[1;33m=\u001b[0m \u001b[0mself\u001b[0m\u001b[1;33m.\u001b[0m\u001b[0m_slow_forward\u001b[0m\u001b[1;33m(\u001b[0m\u001b[1;33m*\u001b[0m\u001b[0minput\u001b[0m\u001b[1;33m,\u001b[0m \u001b[1;33m**\u001b[0m\u001b[0mkwargs\u001b[0m\u001b[1;33m)\u001b[0m\u001b[1;33m\u001b[0m\u001b[1;33m\u001b[0m\u001b[0m\n\u001b[0;32m    721\u001b[0m         \u001b[1;32melse\u001b[0m\u001b[1;33m:\u001b[0m\u001b[1;33m\u001b[0m\u001b[1;33m\u001b[0m\u001b[0m\n\u001b[1;32m--> 722\u001b[1;33m             \u001b[0mresult\u001b[0m \u001b[1;33m=\u001b[0m \u001b[0mself\u001b[0m\u001b[1;33m.\u001b[0m\u001b[0mforward\u001b[0m\u001b[1;33m(\u001b[0m\u001b[1;33m*\u001b[0m\u001b[0minput\u001b[0m\u001b[1;33m,\u001b[0m \u001b[1;33m**\u001b[0m\u001b[0mkwargs\u001b[0m\u001b[1;33m)\u001b[0m\u001b[1;33m\u001b[0m\u001b[1;33m\u001b[0m\u001b[0m\n\u001b[0m\u001b[0;32m    723\u001b[0m         for hook in itertools.chain(\n\u001b[0;32m    724\u001b[0m                 \u001b[0m_global_forward_hooks\u001b[0m\u001b[1;33m.\u001b[0m\u001b[0mvalues\u001b[0m\u001b[1;33m(\u001b[0m\u001b[1;33m)\u001b[0m\u001b[1;33m,\u001b[0m\u001b[1;33m\u001b[0m\u001b[1;33m\u001b[0m\u001b[0m\n",
      "\u001b[1;32mD:\\Anaconda3\\envs\\torch\\lib\\site-packages\\torch\\nn\\modules\\linear.py\u001b[0m in \u001b[0;36mforward\u001b[1;34m(self, input)\u001b[0m\n\u001b[0;32m     89\u001b[0m \u001b[1;33m\u001b[0m\u001b[0m\n\u001b[0;32m     90\u001b[0m     \u001b[1;32mdef\u001b[0m \u001b[0mforward\u001b[0m\u001b[1;33m(\u001b[0m\u001b[0mself\u001b[0m\u001b[1;33m,\u001b[0m \u001b[0minput\u001b[0m\u001b[1;33m:\u001b[0m \u001b[0mTensor\u001b[0m\u001b[1;33m)\u001b[0m \u001b[1;33m->\u001b[0m \u001b[0mTensor\u001b[0m\u001b[1;33m:\u001b[0m\u001b[1;33m\u001b[0m\u001b[1;33m\u001b[0m\u001b[0m\n\u001b[1;32m---> 91\u001b[1;33m         \u001b[1;32mreturn\u001b[0m \u001b[0mF\u001b[0m\u001b[1;33m.\u001b[0m\u001b[0mlinear\u001b[0m\u001b[1;33m(\u001b[0m\u001b[0minput\u001b[0m\u001b[1;33m,\u001b[0m \u001b[0mself\u001b[0m\u001b[1;33m.\u001b[0m\u001b[0mweight\u001b[0m\u001b[1;33m,\u001b[0m \u001b[0mself\u001b[0m\u001b[1;33m.\u001b[0m\u001b[0mbias\u001b[0m\u001b[1;33m)\u001b[0m\u001b[1;33m\u001b[0m\u001b[1;33m\u001b[0m\u001b[0m\n\u001b[0m\u001b[0;32m     92\u001b[0m \u001b[1;33m\u001b[0m\u001b[0m\n\u001b[0;32m     93\u001b[0m     \u001b[1;32mdef\u001b[0m \u001b[0mextra_repr\u001b[0m\u001b[1;33m(\u001b[0m\u001b[0mself\u001b[0m\u001b[1;33m)\u001b[0m \u001b[1;33m->\u001b[0m \u001b[0mstr\u001b[0m\u001b[1;33m:\u001b[0m\u001b[1;33m\u001b[0m\u001b[1;33m\u001b[0m\u001b[0m\n",
      "\u001b[1;32mD:\\Anaconda3\\envs\\torch\\lib\\site-packages\\torch\\nn\\functional.py\u001b[0m in \u001b[0;36mlinear\u001b[1;34m(input, weight, bias)\u001b[0m\n\u001b[0;32m   1672\u001b[0m     \u001b[1;32mif\u001b[0m \u001b[0minput\u001b[0m\u001b[1;33m.\u001b[0m\u001b[0mdim\u001b[0m\u001b[1;33m(\u001b[0m\u001b[1;33m)\u001b[0m \u001b[1;33m==\u001b[0m \u001b[1;36m2\u001b[0m \u001b[1;32mand\u001b[0m \u001b[0mbias\u001b[0m \u001b[1;32mis\u001b[0m \u001b[1;32mnot\u001b[0m \u001b[1;32mNone\u001b[0m\u001b[1;33m:\u001b[0m\u001b[1;33m\u001b[0m\u001b[1;33m\u001b[0m\u001b[0m\n\u001b[0;32m   1673\u001b[0m         \u001b[1;31m# fused op is marginally faster\u001b[0m\u001b[1;33m\u001b[0m\u001b[1;33m\u001b[0m\u001b[1;33m\u001b[0m\u001b[0m\n\u001b[1;32m-> 1674\u001b[1;33m         \u001b[0mret\u001b[0m \u001b[1;33m=\u001b[0m \u001b[0mtorch\u001b[0m\u001b[1;33m.\u001b[0m\u001b[0maddmm\u001b[0m\u001b[1;33m(\u001b[0m\u001b[0mbias\u001b[0m\u001b[1;33m,\u001b[0m \u001b[0minput\u001b[0m\u001b[1;33m,\u001b[0m \u001b[0mweight\u001b[0m\u001b[1;33m.\u001b[0m\u001b[0mt\u001b[0m\u001b[1;33m(\u001b[0m\u001b[1;33m)\u001b[0m\u001b[1;33m)\u001b[0m\u001b[1;33m\u001b[0m\u001b[1;33m\u001b[0m\u001b[0m\n\u001b[0m\u001b[0;32m   1675\u001b[0m     \u001b[1;32melse\u001b[0m\u001b[1;33m:\u001b[0m\u001b[1;33m\u001b[0m\u001b[1;33m\u001b[0m\u001b[0m\n\u001b[0;32m   1676\u001b[0m         \u001b[0moutput\u001b[0m \u001b[1;33m=\u001b[0m \u001b[0minput\u001b[0m\u001b[1;33m.\u001b[0m\u001b[0mmatmul\u001b[0m\u001b[1;33m(\u001b[0m\u001b[0mweight\u001b[0m\u001b[1;33m.\u001b[0m\u001b[0mt\u001b[0m\u001b[1;33m(\u001b[0m\u001b[1;33m)\u001b[0m\u001b[1;33m)\u001b[0m\u001b[1;33m\u001b[0m\u001b[1;33m\u001b[0m\u001b[0m\n",
      "\u001b[1;31mRuntimeError\u001b[0m: mat1 dim 1 must match mat2 dim 0"
     ]
    }
   ],
   "source": [
    "%%time\n",
    "MODEL.train()\n",
    "BEST_MODEL, LOSS_HISTORY = train(HAI_DATASET_TRAIN, MODEL, BATCH_SIZE, 32) "
   ]
  },
  {
   "cell_type": "code",
   "execution_count": 22,
   "metadata": {},
   "outputs": [
    {
     "output_type": "error",
     "ename": "NameError",
     "evalue": "name 'BEST_MODEL' is not defined",
     "traceback": [
      "\u001b[1;31m---------------------------------------------------------------------------\u001b[0m",
      "\u001b[1;31mNameError\u001b[0m                                 Traceback (most recent call last)",
      "\u001b[1;32m<ipython-input-22-882342ea3918>\u001b[0m in \u001b[0;36m<module>\u001b[1;34m\u001b[0m\n\u001b[1;32m----> 1\u001b[1;33m \u001b[0mBEST_MODEL\u001b[0m\u001b[1;33m[\u001b[0m\u001b[1;34m\"loss\"\u001b[0m\u001b[1;33m]\u001b[0m\u001b[1;33m,\u001b[0m \u001b[0mBEST_MODEL\u001b[0m\u001b[1;33m[\u001b[0m\u001b[1;34m\"epoch\"\u001b[0m\u001b[1;33m]\u001b[0m\u001b[1;33m\u001b[0m\u001b[1;33m\u001b[0m\u001b[0m\n\u001b[0m",
      "\u001b[1;31mNameError\u001b[0m: name 'BEST_MODEL' is not defined"
     ]
    }
   ],
   "source": [
    "BEST_MODEL[\"loss\"], BEST_MODEL[\"epoch\"]"
   ]
  },
  {
   "cell_type": "code",
   "execution_count": 23,
   "metadata": {},
   "outputs": [
    {
     "output_type": "error",
     "ename": "NameError",
     "evalue": "name 'BEST_MODEL' is not defined",
     "traceback": [
      "\u001b[1;31m---------------------------------------------------------------------------\u001b[0m",
      "\u001b[1;31mNameError\u001b[0m                                 Traceback (most recent call last)",
      "\u001b[1;32m<ipython-input-23-bd02e7e26d15>\u001b[0m in \u001b[0;36m<module>\u001b[1;34m\u001b[0m\n\u001b[0;32m      2\u001b[0m     torch.save(\n\u001b[0;32m      3\u001b[0m         {\n\u001b[1;32m----> 4\u001b[1;33m             \u001b[1;34m\"state\"\u001b[0m\u001b[1;33m:\u001b[0m \u001b[0mBEST_MODEL\u001b[0m\u001b[1;33m[\u001b[0m\u001b[1;34m\"state\"\u001b[0m\u001b[1;33m]\u001b[0m\u001b[1;33m,\u001b[0m\u001b[1;33m\u001b[0m\u001b[1;33m\u001b[0m\u001b[0m\n\u001b[0m\u001b[0;32m      5\u001b[0m             \u001b[1;34m\"best_epoch\"\u001b[0m\u001b[1;33m:\u001b[0m \u001b[0mBEST_MODEL\u001b[0m\u001b[1;33m[\u001b[0m\u001b[1;34m\"epoch\"\u001b[0m\u001b[1;33m]\u001b[0m\u001b[1;33m,\u001b[0m\u001b[1;33m\u001b[0m\u001b[1;33m\u001b[0m\u001b[0m\n\u001b[0;32m      6\u001b[0m             \u001b[1;34m\"loss_history\"\u001b[0m\u001b[1;33m:\u001b[0m \u001b[0mLOSS_HISTORY\u001b[0m\u001b[1;33m,\u001b[0m\u001b[1;33m\u001b[0m\u001b[1;33m\u001b[0m\u001b[0m\n",
      "\u001b[1;31mNameError\u001b[0m: name 'BEST_MODEL' is not defined"
     ]
    }
   ],
   "source": [
    "with open(\"model.pt\", \"wb\") as f:\n",
    "    torch.save(\n",
    "        {\n",
    "            \"state\": BEST_MODEL[\"state\"],\n",
    "            \"best_epoch\": BEST_MODEL[\"epoch\"],\n",
    "            \"loss_history\": LOSS_HISTORY,\n",
    "        },\n",
    "        f,\n",
    "    )"
   ]
  },
  {
   "cell_type": "code",
   "execution_count": 24,
   "metadata": {},
   "outputs": [
    {
     "output_type": "error",
     "ename": "EOFError",
     "evalue": "Ran out of input",
     "traceback": [
      "\u001b[1;31m---------------------------------------------------------------------------\u001b[0m",
      "\u001b[1;31mEOFError\u001b[0m                                  Traceback (most recent call last)",
      "\u001b[1;32m<ipython-input-24-7ca395b01a51>\u001b[0m in \u001b[0;36m<module>\u001b[1;34m\u001b[0m\n\u001b[0;32m      1\u001b[0m \u001b[1;32mwith\u001b[0m \u001b[0mopen\u001b[0m\u001b[1;33m(\u001b[0m\u001b[1;34m\"model.pt\"\u001b[0m\u001b[1;33m,\u001b[0m \u001b[1;34m\"rb\"\u001b[0m\u001b[1;33m)\u001b[0m \u001b[1;32mas\u001b[0m \u001b[0mf\u001b[0m\u001b[1;33m:\u001b[0m\u001b[1;33m\u001b[0m\u001b[1;33m\u001b[0m\u001b[0m\n\u001b[1;32m----> 2\u001b[1;33m     \u001b[0mSAVED_MODEL\u001b[0m \u001b[1;33m=\u001b[0m \u001b[0mtorch\u001b[0m\u001b[1;33m.\u001b[0m\u001b[0mload\u001b[0m\u001b[1;33m(\u001b[0m\u001b[0mf\u001b[0m\u001b[1;33m)\u001b[0m\u001b[1;33m\u001b[0m\u001b[1;33m\u001b[0m\u001b[0m\n\u001b[0m\u001b[0;32m      3\u001b[0m \u001b[1;33m\u001b[0m\u001b[0m\n\u001b[0;32m      4\u001b[0m \u001b[0mMODEL\u001b[0m\u001b[1;33m.\u001b[0m\u001b[0mload_state_dict\u001b[0m\u001b[1;33m(\u001b[0m\u001b[0mSAVED_MODEL\u001b[0m\u001b[1;33m[\u001b[0m\u001b[1;34m\"state\"\u001b[0m\u001b[1;33m]\u001b[0m\u001b[1;33m)\u001b[0m\u001b[1;33m\u001b[0m\u001b[1;33m\u001b[0m\u001b[0m\n",
      "\u001b[1;32mD:\\Anaconda3\\envs\\torch\\lib\\site-packages\\torch\\serialization.py\u001b[0m in \u001b[0;36mload\u001b[1;34m(f, map_location, pickle_module, **pickle_load_args)\u001b[0m\n\u001b[0;32m    583\u001b[0m                     \u001b[1;32mreturn\u001b[0m \u001b[0mtorch\u001b[0m\u001b[1;33m.\u001b[0m\u001b[0mjit\u001b[0m\u001b[1;33m.\u001b[0m\u001b[0mload\u001b[0m\u001b[1;33m(\u001b[0m\u001b[0mopened_file\u001b[0m\u001b[1;33m)\u001b[0m\u001b[1;33m\u001b[0m\u001b[1;33m\u001b[0m\u001b[0m\n\u001b[0;32m    584\u001b[0m                 \u001b[1;32mreturn\u001b[0m \u001b[0m_load\u001b[0m\u001b[1;33m(\u001b[0m\u001b[0mopened_zipfile\u001b[0m\u001b[1;33m,\u001b[0m \u001b[0mmap_location\u001b[0m\u001b[1;33m,\u001b[0m \u001b[0mpickle_module\u001b[0m\u001b[1;33m,\u001b[0m \u001b[1;33m**\u001b[0m\u001b[0mpickle_load_args\u001b[0m\u001b[1;33m)\u001b[0m\u001b[1;33m\u001b[0m\u001b[1;33m\u001b[0m\u001b[0m\n\u001b[1;32m--> 585\u001b[1;33m         \u001b[1;32mreturn\u001b[0m \u001b[0m_legacy_load\u001b[0m\u001b[1;33m(\u001b[0m\u001b[0mopened_file\u001b[0m\u001b[1;33m,\u001b[0m \u001b[0mmap_location\u001b[0m\u001b[1;33m,\u001b[0m \u001b[0mpickle_module\u001b[0m\u001b[1;33m,\u001b[0m \u001b[1;33m**\u001b[0m\u001b[0mpickle_load_args\u001b[0m\u001b[1;33m)\u001b[0m\u001b[1;33m\u001b[0m\u001b[1;33m\u001b[0m\u001b[0m\n\u001b[0m\u001b[0;32m    586\u001b[0m \u001b[1;33m\u001b[0m\u001b[0m\n\u001b[0;32m    587\u001b[0m \u001b[1;33m\u001b[0m\u001b[0m\n",
      "\u001b[1;32mD:\\Anaconda3\\envs\\torch\\lib\\site-packages\\torch\\serialization.py\u001b[0m in \u001b[0;36m_legacy_load\u001b[1;34m(f, map_location, pickle_module, **pickle_load_args)\u001b[0m\n\u001b[0;32m    753\u001b[0m             \"functionality.\".format(type(f)))\n\u001b[0;32m    754\u001b[0m \u001b[1;33m\u001b[0m\u001b[0m\n\u001b[1;32m--> 755\u001b[1;33m     \u001b[0mmagic_number\u001b[0m \u001b[1;33m=\u001b[0m \u001b[0mpickle_module\u001b[0m\u001b[1;33m.\u001b[0m\u001b[0mload\u001b[0m\u001b[1;33m(\u001b[0m\u001b[0mf\u001b[0m\u001b[1;33m,\u001b[0m \u001b[1;33m**\u001b[0m\u001b[0mpickle_load_args\u001b[0m\u001b[1;33m)\u001b[0m\u001b[1;33m\u001b[0m\u001b[1;33m\u001b[0m\u001b[0m\n\u001b[0m\u001b[0;32m    756\u001b[0m     \u001b[1;32mif\u001b[0m \u001b[0mmagic_number\u001b[0m \u001b[1;33m!=\u001b[0m \u001b[0mMAGIC_NUMBER\u001b[0m\u001b[1;33m:\u001b[0m\u001b[1;33m\u001b[0m\u001b[1;33m\u001b[0m\u001b[0m\n\u001b[0;32m    757\u001b[0m         \u001b[1;32mraise\u001b[0m \u001b[0mRuntimeError\u001b[0m\u001b[1;33m(\u001b[0m\u001b[1;34m\"Invalid magic number; corrupt file?\"\u001b[0m\u001b[1;33m)\u001b[0m\u001b[1;33m\u001b[0m\u001b[1;33m\u001b[0m\u001b[0m\n",
      "\u001b[1;31mEOFError\u001b[0m: Ran out of input"
     ]
    }
   ],
   "source": [
    "with open(\"model.pt\", \"rb\") as f:\n",
    "    SAVED_MODEL = torch.load(f)\n",
    "\n",
    "MODEL.load_state_dict(SAVED_MODEL[\"state\"])"
   ]
  },
  {
   "cell_type": "code",
   "execution_count": 25,
   "metadata": {},
   "outputs": [
    {
     "output_type": "error",
     "ename": "NameError",
     "evalue": "name 'SAVED_MODEL' is not defined",
     "traceback": [
      "\u001b[1;31m---------------------------------------------------------------------------\u001b[0m",
      "\u001b[1;31mNameError\u001b[0m                                 Traceback (most recent call last)",
      "\u001b[1;32m<ipython-input-25-9e1913375d27>\u001b[0m in \u001b[0;36m<module>\u001b[1;34m\u001b[0m\n\u001b[0;32m      4\u001b[0m \u001b[0mplt\u001b[0m\u001b[1;33m.\u001b[0m\u001b[0mylabel\u001b[0m\u001b[1;33m(\u001b[0m\u001b[1;34m\"loss\"\u001b[0m\u001b[1;33m)\u001b[0m\u001b[1;33m\u001b[0m\u001b[1;33m\u001b[0m\u001b[0m\n\u001b[0;32m      5\u001b[0m \u001b[0mplt\u001b[0m\u001b[1;33m.\u001b[0m\u001b[0myscale\u001b[0m\u001b[1;33m(\u001b[0m\u001b[1;34m\"log\"\u001b[0m\u001b[1;33m)\u001b[0m\u001b[1;33m\u001b[0m\u001b[1;33m\u001b[0m\u001b[0m\n\u001b[1;32m----> 6\u001b[1;33m \u001b[0mplt\u001b[0m\u001b[1;33m.\u001b[0m\u001b[0mplot\u001b[0m\u001b[1;33m(\u001b[0m\u001b[0mSAVED_MODEL\u001b[0m\u001b[1;33m[\u001b[0m\u001b[1;34m\"loss_history\"\u001b[0m\u001b[1;33m]\u001b[0m\u001b[1;33m)\u001b[0m\u001b[1;33m\u001b[0m\u001b[1;33m\u001b[0m\u001b[0m\n\u001b[0m\u001b[0;32m      7\u001b[0m \u001b[0mplt\u001b[0m\u001b[1;33m.\u001b[0m\u001b[0mshow\u001b[0m\u001b[1;33m(\u001b[0m\u001b[1;33m)\u001b[0m\u001b[1;33m\u001b[0m\u001b[1;33m\u001b[0m\u001b[0m\n",
      "\u001b[1;31mNameError\u001b[0m: name 'SAVED_MODEL' is not defined"
     ]
    }
   ],
   "source": [
    "plt.figure(figsize=(16, 4))\n",
    "plt.title(\"Training Loss Graph\")\n",
    "plt.xlabel(\"epochs\")\n",
    "plt.ylabel(\"loss\")\n",
    "plt.yscale(\"log\")\n",
    "plt.plot(SAVED_MODEL[\"loss_history\"])\n",
    "plt.show()"
   ]
  },
  {
   "cell_type": "code",
   "execution_count": 26,
   "metadata": {},
   "outputs": [
    {
     "output_type": "execute_result",
     "data": {
      "text/plain": "                      time        C01   C02  C03       C04     C05      C06  \\\n0      2020-07-07 15:00:00  402.70947  12.0   10  51.95007 -1.0189 -1.86768   \n1      2020-07-07 15:00:01  402.81174  12.0   10  51.96533 -1.2637 -1.86768   \n2      2020-07-07 15:00:02  402.76062  12.0   10  51.96533 -1.5398 -1.86768   \n3      2020-07-07 15:00:03  402.81174  12.0   10  51.98822 -1.6212 -1.86768   \n4      2020-07-07 15:00:04  402.91394  12.0   10  51.90429 -1.5631 -1.86768   \n...                    ...        ...   ...  ...       ...     ...      ...   \n43196  2020-07-08 02:59:56  397.08661  12.0   10  66.58325 -1.2052 -1.83716   \n43197  2020-07-08 02:59:57  397.18887  12.0   10  66.58325 -0.9256 -1.83716   \n43198  2020-07-08 02:59:58  397.13776  12.0   10  66.58325 -0.7843 -1.83716   \n43199  2020-07-08 02:59:59  397.34222  12.0   10  66.58325 -0.7646 -1.83716   \n43200  2020-07-08 03:00:00  397.49557  12.0   10  66.58325 -0.9083 -1.83716   \n\n             C07       C08  C09  ...  C71      C72       C73       C74  \\\n0      789.76508  28.03162  688  ...  0.0  1.34293  10.89290  34.88770   \n1      789.13147  28.02301  648  ...  0.0  1.34216  10.80512  34.88770   \n2      785.81653  28.02993  616  ...  0.0  1.34369  10.80029  34.88770   \n3      785.42438  28.02993  584  ...  0.0  1.34445  10.80579  34.88770   \n4      782.99249  28.02990  552  ...  0.0  1.34293  10.81415  34.90295   \n...          ...       ...  ...  ...  ...      ...       ...       ...   \n43196  786.93738  28.03250    0  ...  0.0  1.35971  16.19496  35.22338   \n43197  783.44989  28.02304    0  ...  0.0  1.35971  16.23927  35.23864   \n43198  784.86780  28.02814    0  ...  0.0  1.35818  16.20675  35.23864   \n43199  785.51416  28.02294    0  ...  0.0  1.35818  16.17168  35.25391   \n43200  786.98297  28.02990    0  ...  0.0  1.35895  16.10412  35.22338   \n\n            C75        C76        C77       C78     C79  attack  \n0      12.26196  380.31683  386.26666  32.59527  5.6330       0  \n1      12.26196  380.02747  386.30286  32.59527  5.4158       0  \n2      12.26196  381.52850  389.73883  32.59527  5.5532       0  \n3      12.26196  382.08911  388.94311  32.59527  5.7833       0  \n4      12.26196  383.44543  389.72082  32.59527  6.0309       0  \n...         ...        ...        ...       ...     ...     ...  \n43196  12.01019  390.13672  394.91107  31.81634  5.2977       0  \n43197  12.01019  390.24518  397.35248  31.81634  5.3188       0  \n43198  12.01019  390.46222  396.70142  31.81634  5.1800       0  \n43199  12.01019  391.78241  397.73218  31.81634  4.8763       0  \n43200  12.01019  391.31219  397.24390  31.81634  4.5790       0  \n\n[43201 rows x 81 columns]",
      "text/html": "<div>\n<style scoped>\n    .dataframe tbody tr th:only-of-type {\n        vertical-align: middle;\n    }\n\n    .dataframe tbody tr th {\n        vertical-align: top;\n    }\n\n    .dataframe thead th {\n        text-align: right;\n    }\n</style>\n<table border=\"1\" class=\"dataframe\">\n  <thead>\n    <tr style=\"text-align: right;\">\n      <th></th>\n      <th>time</th>\n      <th>C01</th>\n      <th>C02</th>\n      <th>C03</th>\n      <th>C04</th>\n      <th>C05</th>\n      <th>C06</th>\n      <th>C07</th>\n      <th>C08</th>\n      <th>C09</th>\n      <th>...</th>\n      <th>C71</th>\n      <th>C72</th>\n      <th>C73</th>\n      <th>C74</th>\n      <th>C75</th>\n      <th>C76</th>\n      <th>C77</th>\n      <th>C78</th>\n      <th>C79</th>\n      <th>attack</th>\n    </tr>\n  </thead>\n  <tbody>\n    <tr>\n      <th>0</th>\n      <td>2020-07-07 15:00:00</td>\n      <td>402.70947</td>\n      <td>12.0</td>\n      <td>10</td>\n      <td>51.95007</td>\n      <td>-1.0189</td>\n      <td>-1.86768</td>\n      <td>789.76508</td>\n      <td>28.03162</td>\n      <td>688</td>\n      <td>...</td>\n      <td>0.0</td>\n      <td>1.34293</td>\n      <td>10.89290</td>\n      <td>34.88770</td>\n      <td>12.26196</td>\n      <td>380.31683</td>\n      <td>386.26666</td>\n      <td>32.59527</td>\n      <td>5.6330</td>\n      <td>0</td>\n    </tr>\n    <tr>\n      <th>1</th>\n      <td>2020-07-07 15:00:01</td>\n      <td>402.81174</td>\n      <td>12.0</td>\n      <td>10</td>\n      <td>51.96533</td>\n      <td>-1.2637</td>\n      <td>-1.86768</td>\n      <td>789.13147</td>\n      <td>28.02301</td>\n      <td>648</td>\n      <td>...</td>\n      <td>0.0</td>\n      <td>1.34216</td>\n      <td>10.80512</td>\n      <td>34.88770</td>\n      <td>12.26196</td>\n      <td>380.02747</td>\n      <td>386.30286</td>\n      <td>32.59527</td>\n      <td>5.4158</td>\n      <td>0</td>\n    </tr>\n    <tr>\n      <th>2</th>\n      <td>2020-07-07 15:00:02</td>\n      <td>402.76062</td>\n      <td>12.0</td>\n      <td>10</td>\n      <td>51.96533</td>\n      <td>-1.5398</td>\n      <td>-1.86768</td>\n      <td>785.81653</td>\n      <td>28.02993</td>\n      <td>616</td>\n      <td>...</td>\n      <td>0.0</td>\n      <td>1.34369</td>\n      <td>10.80029</td>\n      <td>34.88770</td>\n      <td>12.26196</td>\n      <td>381.52850</td>\n      <td>389.73883</td>\n      <td>32.59527</td>\n      <td>5.5532</td>\n      <td>0</td>\n    </tr>\n    <tr>\n      <th>3</th>\n      <td>2020-07-07 15:00:03</td>\n      <td>402.81174</td>\n      <td>12.0</td>\n      <td>10</td>\n      <td>51.98822</td>\n      <td>-1.6212</td>\n      <td>-1.86768</td>\n      <td>785.42438</td>\n      <td>28.02993</td>\n      <td>584</td>\n      <td>...</td>\n      <td>0.0</td>\n      <td>1.34445</td>\n      <td>10.80579</td>\n      <td>34.88770</td>\n      <td>12.26196</td>\n      <td>382.08911</td>\n      <td>388.94311</td>\n      <td>32.59527</td>\n      <td>5.7833</td>\n      <td>0</td>\n    </tr>\n    <tr>\n      <th>4</th>\n      <td>2020-07-07 15:00:04</td>\n      <td>402.91394</td>\n      <td>12.0</td>\n      <td>10</td>\n      <td>51.90429</td>\n      <td>-1.5631</td>\n      <td>-1.86768</td>\n      <td>782.99249</td>\n      <td>28.02990</td>\n      <td>552</td>\n      <td>...</td>\n      <td>0.0</td>\n      <td>1.34293</td>\n      <td>10.81415</td>\n      <td>34.90295</td>\n      <td>12.26196</td>\n      <td>383.44543</td>\n      <td>389.72082</td>\n      <td>32.59527</td>\n      <td>6.0309</td>\n      <td>0</td>\n    </tr>\n    <tr>\n      <th>...</th>\n      <td>...</td>\n      <td>...</td>\n      <td>...</td>\n      <td>...</td>\n      <td>...</td>\n      <td>...</td>\n      <td>...</td>\n      <td>...</td>\n      <td>...</td>\n      <td>...</td>\n      <td>...</td>\n      <td>...</td>\n      <td>...</td>\n      <td>...</td>\n      <td>...</td>\n      <td>...</td>\n      <td>...</td>\n      <td>...</td>\n      <td>...</td>\n      <td>...</td>\n      <td>...</td>\n    </tr>\n    <tr>\n      <th>43196</th>\n      <td>2020-07-08 02:59:56</td>\n      <td>397.08661</td>\n      <td>12.0</td>\n      <td>10</td>\n      <td>66.58325</td>\n      <td>-1.2052</td>\n      <td>-1.83716</td>\n      <td>786.93738</td>\n      <td>28.03250</td>\n      <td>0</td>\n      <td>...</td>\n      <td>0.0</td>\n      <td>1.35971</td>\n      <td>16.19496</td>\n      <td>35.22338</td>\n      <td>12.01019</td>\n      <td>390.13672</td>\n      <td>394.91107</td>\n      <td>31.81634</td>\n      <td>5.2977</td>\n      <td>0</td>\n    </tr>\n    <tr>\n      <th>43197</th>\n      <td>2020-07-08 02:59:57</td>\n      <td>397.18887</td>\n      <td>12.0</td>\n      <td>10</td>\n      <td>66.58325</td>\n      <td>-0.9256</td>\n      <td>-1.83716</td>\n      <td>783.44989</td>\n      <td>28.02304</td>\n      <td>0</td>\n      <td>...</td>\n      <td>0.0</td>\n      <td>1.35971</td>\n      <td>16.23927</td>\n      <td>35.23864</td>\n      <td>12.01019</td>\n      <td>390.24518</td>\n      <td>397.35248</td>\n      <td>31.81634</td>\n      <td>5.3188</td>\n      <td>0</td>\n    </tr>\n    <tr>\n      <th>43198</th>\n      <td>2020-07-08 02:59:58</td>\n      <td>397.13776</td>\n      <td>12.0</td>\n      <td>10</td>\n      <td>66.58325</td>\n      <td>-0.7843</td>\n      <td>-1.83716</td>\n      <td>784.86780</td>\n      <td>28.02814</td>\n      <td>0</td>\n      <td>...</td>\n      <td>0.0</td>\n      <td>1.35818</td>\n      <td>16.20675</td>\n      <td>35.23864</td>\n      <td>12.01019</td>\n      <td>390.46222</td>\n      <td>396.70142</td>\n      <td>31.81634</td>\n      <td>5.1800</td>\n      <td>0</td>\n    </tr>\n    <tr>\n      <th>43199</th>\n      <td>2020-07-08 02:59:59</td>\n      <td>397.34222</td>\n      <td>12.0</td>\n      <td>10</td>\n      <td>66.58325</td>\n      <td>-0.7646</td>\n      <td>-1.83716</td>\n      <td>785.51416</td>\n      <td>28.02294</td>\n      <td>0</td>\n      <td>...</td>\n      <td>0.0</td>\n      <td>1.35818</td>\n      <td>16.17168</td>\n      <td>35.25391</td>\n      <td>12.01019</td>\n      <td>391.78241</td>\n      <td>397.73218</td>\n      <td>31.81634</td>\n      <td>4.8763</td>\n      <td>0</td>\n    </tr>\n    <tr>\n      <th>43200</th>\n      <td>2020-07-08 03:00:00</td>\n      <td>397.49557</td>\n      <td>12.0</td>\n      <td>10</td>\n      <td>66.58325</td>\n      <td>-0.9083</td>\n      <td>-1.83716</td>\n      <td>786.98297</td>\n      <td>28.02990</td>\n      <td>0</td>\n      <td>...</td>\n      <td>0.0</td>\n      <td>1.35895</td>\n      <td>16.10412</td>\n      <td>35.22338</td>\n      <td>12.01019</td>\n      <td>391.31219</td>\n      <td>397.24390</td>\n      <td>31.81634</td>\n      <td>4.5790</td>\n      <td>0</td>\n    </tr>\n  </tbody>\n</table>\n<p>43201 rows × 81 columns</p>\n</div>"
     },
     "metadata": {},
     "execution_count": 26
    }
   ],
   "source": [
    "VALIDATION_DF_RAW = dataframe_from_csvs(VALIDATION_DATASET)\n",
    "VALIDATION_DF_RAW"
   ]
  },
  {
   "cell_type": "code",
   "execution_count": 27,
   "metadata": {
    "tags": []
   },
   "outputs": [],
   "source": [
    "VALIDATION_DF = normalize(VALIDATION_DF_RAW[VALID_COLUMNS_IN_TRAIN_DATASET])\n"
   ]
  },
  {
   "cell_type": "code",
   "execution_count": 28,
   "metadata": {},
   "outputs": [
    {
     "output_type": "execute_result",
     "data": {
      "text/plain": "(True, True, False)"
     },
     "metadata": {},
     "execution_count": 28
    }
   ],
   "source": [
    "boundary_check(VALIDATION_DF)\n"
   ]
  },
  {
   "cell_type": "code",
   "execution_count": 29,
   "metadata": {
    "tags": []
   },
   "outputs": [
    {
     "output_type": "display_data",
     "data": {
      "text/plain": "HBox(children=(FloatProgress(value=0.0, max=43142.0), HTML(value='')))",
      "application/vnd.jupyter.widget-view+json": {
       "version_major": 2,
       "version_minor": 0,
       "model_id": "5293d47a52704b1494bd8510bacdffd0"
      }
     },
     "metadata": {}
    },
    {
     "output_type": "stream",
     "name": "stdout",
     "text": "\n# of valid windows: 43142\n"
    },
    {
     "output_type": "execute_result",
     "data": {
      "text/plain": "{'attack': 0.0,\n 'ts': '2020-07-07 15:00:59',\n 'given': tensor([[0.4516, 0.0000, 0.0000,  ..., 0.5798, 0.5271, 0.4014],\n         [0.4526, 0.0000, 0.0000,  ..., 0.5799, 0.5271, 0.3234],\n         [0.4521, 0.0000, 0.0000,  ..., 0.5927, 0.5271, 0.3727],\n         ...,\n         [0.5054, 0.0000, 0.0000,  ..., 0.5043, 0.5271, 0.5759],\n         [0.5054, 0.0000, 0.0000,  ..., 0.4972, 0.5271, 0.4939],\n         [0.5069, 0.0000, 0.0000,  ..., 0.4789, 0.5271, 0.4005]]),\n 'answer': tensor([5.0840e-01, 0.0000e+00, 0.0000e+00, 1.6227e-01, 3.5462e-01, 3.0731e-04,\n         4.5846e-01, 4.3566e-01, 2.8935e-03, 5.3085e-01, 5.2778e-01, 7.3980e-01,\n         2.8699e-01, 0.0000e+00, 4.3487e-01, 4.3588e-01, 8.0439e-03, 0.0000e+00,\n         0.0000e+00, 4.9958e-01, 0.0000e+00, 0.0000e+00, 8.6352e-01, 7.5135e-01,\n         0.0000e+00, 3.6630e-01, 3.2757e-01, 0.0000e+00, 5.4918e-01, 3.0727e-02,\n         9.8618e-01, 3.3413e-01, 0.0000e+00, 0.0000e+00, 0.0000e+00, 1.0000e+00,\n         0.0000e+00, 4.1100e-01, 5.6733e-01, 0.0000e+00, 9.9908e-01, 2.5674e-04,\n         0.0000e+00, 3.0918e-01, 4.0008e-01, 7.3885e-01, 6.0606e-01, 0.0000e+00,\n         4.5570e-01, 8.6741e-01, 0.0000e+00, 0.0000e+00, 5.8879e-01, 1.0000e+00,\n         1.5866e-01, 9.9217e-01, 4.9071e-02, 8.8798e-01, 0.0000e+00, 9.9505e-01,\n         0.0000e+00, 4.5498e-01, 0.0000e+00, 0.0000e+00, 0.0000e+00, 2.8737e-01,\n         0.0000e+00, 9.9751e-01, 3.9394e-01, 6.1164e-01, 0.0000e+00, 3.5332e-01,\n         2.6628e-01, 9.4593e-02, 1.8055e+00, 5.0450e-01, 4.6661e-01, 5.2712e-01,\n         3.5607e-01])}"
     },
     "metadata": {},
     "execution_count": 29
    }
   ],
   "source": [
    "HAI_DATASET_VALIDATION = HaiDataset(\n",
    "    VALIDATION_DF_RAW[TIMESTAMP_FIELD], VALIDATION_DF, attacks=VALIDATION_DF_RAW[ATTACK_FIELD]\n",
    ")\n",
    "HAI_DATASET_VALIDATION[0]"
   ]
  },
  {
   "cell_type": "code",
   "execution_count": 30,
   "metadata": {},
   "outputs": [],
   "source": [
    "def inference(dataset, model, batch_size):\n",
    "    dataloader = DataLoader(dataset, batch_size=batch_size)\n",
    "    ts, dist, att = [], [], []\n",
    "    with torch.no_grad():\n",
    "        for batch in dataloader:\n",
    "            given = batch[\"given\"].cuda()\n",
    "            answer = batch[\"answer\"].cuda()\n",
    "            guess = model(given)\n",
    "            ts.append(np.array(batch[\"ts\"]))\n",
    "            dist.append(torch.abs(answer - guess).cpu().numpy())\n",
    "            try:\n",
    "                att.append(np.array(batch[\"attack\"]))\n",
    "            except:\n",
    "                att.append(np.zeros(batch_size))\n",
    "            \n",
    "    return (\n",
    "        np.concatenate(ts),\n",
    "        np.concatenate(dist),\n",
    "        np.concatenate(att),\n",
    "    )"
   ]
  },
  {
   "cell_type": "code",
   "execution_count": 31,
   "metadata": {
    "tags": []
   },
   "outputs": [
    {
     "output_type": "error",
     "ename": "RuntimeError",
     "evalue": "mat1 dim 1 must match mat2 dim 0",
     "traceback": [
      "\u001b[1;31m---------------------------------------------------------------------------\u001b[0m",
      "\u001b[1;31mRuntimeError\u001b[0m                              Traceback (most recent call last)",
      "\u001b[1;32m<timed exec>\u001b[0m in \u001b[0;36m<module>\u001b[1;34m\u001b[0m\n",
      "\u001b[1;32m<ipython-input-30-08d36be48b5a>\u001b[0m in \u001b[0;36minference\u001b[1;34m(dataset, model, batch_size)\u001b[0m\n\u001b[0;32m      6\u001b[0m             \u001b[0mgiven\u001b[0m \u001b[1;33m=\u001b[0m \u001b[0mbatch\u001b[0m\u001b[1;33m[\u001b[0m\u001b[1;34m\"given\"\u001b[0m\u001b[1;33m]\u001b[0m\u001b[1;33m.\u001b[0m\u001b[0mcuda\u001b[0m\u001b[1;33m(\u001b[0m\u001b[1;33m)\u001b[0m\u001b[1;33m\u001b[0m\u001b[1;33m\u001b[0m\u001b[0m\n\u001b[0;32m      7\u001b[0m             \u001b[0manswer\u001b[0m \u001b[1;33m=\u001b[0m \u001b[0mbatch\u001b[0m\u001b[1;33m[\u001b[0m\u001b[1;34m\"answer\"\u001b[0m\u001b[1;33m]\u001b[0m\u001b[1;33m.\u001b[0m\u001b[0mcuda\u001b[0m\u001b[1;33m(\u001b[0m\u001b[1;33m)\u001b[0m\u001b[1;33m\u001b[0m\u001b[1;33m\u001b[0m\u001b[0m\n\u001b[1;32m----> 8\u001b[1;33m             \u001b[0mguess\u001b[0m \u001b[1;33m=\u001b[0m \u001b[0mmodel\u001b[0m\u001b[1;33m(\u001b[0m\u001b[0mgiven\u001b[0m\u001b[1;33m)\u001b[0m\u001b[1;33m\u001b[0m\u001b[1;33m\u001b[0m\u001b[0m\n\u001b[0m\u001b[0;32m      9\u001b[0m             \u001b[0mts\u001b[0m\u001b[1;33m.\u001b[0m\u001b[0mappend\u001b[0m\u001b[1;33m(\u001b[0m\u001b[0mnp\u001b[0m\u001b[1;33m.\u001b[0m\u001b[0marray\u001b[0m\u001b[1;33m(\u001b[0m\u001b[0mbatch\u001b[0m\u001b[1;33m[\u001b[0m\u001b[1;34m\"ts\"\u001b[0m\u001b[1;33m]\u001b[0m\u001b[1;33m)\u001b[0m\u001b[1;33m)\u001b[0m\u001b[1;33m\u001b[0m\u001b[1;33m\u001b[0m\u001b[0m\n\u001b[0;32m     10\u001b[0m             \u001b[0mdist\u001b[0m\u001b[1;33m.\u001b[0m\u001b[0mappend\u001b[0m\u001b[1;33m(\u001b[0m\u001b[0mtorch\u001b[0m\u001b[1;33m.\u001b[0m\u001b[0mabs\u001b[0m\u001b[1;33m(\u001b[0m\u001b[0manswer\u001b[0m \u001b[1;33m-\u001b[0m \u001b[0mguess\u001b[0m\u001b[1;33m)\u001b[0m\u001b[1;33m.\u001b[0m\u001b[0mcpu\u001b[0m\u001b[1;33m(\u001b[0m\u001b[1;33m)\u001b[0m\u001b[1;33m.\u001b[0m\u001b[0mnumpy\u001b[0m\u001b[1;33m(\u001b[0m\u001b[1;33m)\u001b[0m\u001b[1;33m)\u001b[0m\u001b[1;33m\u001b[0m\u001b[1;33m\u001b[0m\u001b[0m\n",
      "\u001b[1;32mD:\\Anaconda3\\envs\\torch\\lib\\site-packages\\torch\\nn\\modules\\module.py\u001b[0m in \u001b[0;36m_call_impl\u001b[1;34m(self, *input, **kwargs)\u001b[0m\n\u001b[0;32m    720\u001b[0m             \u001b[0mresult\u001b[0m \u001b[1;33m=\u001b[0m \u001b[0mself\u001b[0m\u001b[1;33m.\u001b[0m\u001b[0m_slow_forward\u001b[0m\u001b[1;33m(\u001b[0m\u001b[1;33m*\u001b[0m\u001b[0minput\u001b[0m\u001b[1;33m,\u001b[0m \u001b[1;33m**\u001b[0m\u001b[0mkwargs\u001b[0m\u001b[1;33m)\u001b[0m\u001b[1;33m\u001b[0m\u001b[1;33m\u001b[0m\u001b[0m\n\u001b[0;32m    721\u001b[0m         \u001b[1;32melse\u001b[0m\u001b[1;33m:\u001b[0m\u001b[1;33m\u001b[0m\u001b[1;33m\u001b[0m\u001b[0m\n\u001b[1;32m--> 722\u001b[1;33m             \u001b[0mresult\u001b[0m \u001b[1;33m=\u001b[0m \u001b[0mself\u001b[0m\u001b[1;33m.\u001b[0m\u001b[0mforward\u001b[0m\u001b[1;33m(\u001b[0m\u001b[1;33m*\u001b[0m\u001b[0minput\u001b[0m\u001b[1;33m,\u001b[0m \u001b[1;33m**\u001b[0m\u001b[0mkwargs\u001b[0m\u001b[1;33m)\u001b[0m\u001b[1;33m\u001b[0m\u001b[1;33m\u001b[0m\u001b[0m\n\u001b[0m\u001b[0;32m    723\u001b[0m         for hook in itertools.chain(\n\u001b[0;32m    724\u001b[0m                 \u001b[0m_global_forward_hooks\u001b[0m\u001b[1;33m.\u001b[0m\u001b[0mvalues\u001b[0m\u001b[1;33m(\u001b[0m\u001b[1;33m)\u001b[0m\u001b[1;33m,\u001b[0m\u001b[1;33m\u001b[0m\u001b[1;33m\u001b[0m\u001b[0m\n",
      "\u001b[1;32m<ipython-input-18-7c62b720b7fe>\u001b[0m in \u001b[0;36mforward\u001b[1;34m(self, x)\u001b[0m\n\u001b[0;32m     25\u001b[0m         \u001b[0mout1\u001b[0m \u001b[1;33m=\u001b[0m \u001b[0mself\u001b[0m\u001b[1;33m.\u001b[0m\u001b[0melu\u001b[0m\u001b[1;33m(\u001b[0m\u001b[0mself\u001b[0m\u001b[1;33m.\u001b[0m\u001b[0mlin\u001b[0m\u001b[1;33m(\u001b[0m\u001b[0mnom\u001b[0m\u001b[1;33m)\u001b[0m\u001b[1;33m)\u001b[0m\u001b[1;33m\u001b[0m\u001b[1;33m\u001b[0m\u001b[0m\n\u001b[0;32m     26\u001b[0m         \u001b[0mout1\u001b[0m \u001b[1;33m=\u001b[0m \u001b[0mself\u001b[0m\u001b[1;33m.\u001b[0m\u001b[0melu\u001b[0m\u001b[1;33m(\u001b[0m\u001b[0mself\u001b[0m\u001b[1;33m.\u001b[0m\u001b[0mlin2\u001b[0m\u001b[1;33m(\u001b[0m\u001b[0mout1\u001b[0m\u001b[1;33m)\u001b[0m\u001b[1;33m)\u001b[0m\u001b[1;33m\u001b[0m\u001b[1;33m\u001b[0m\u001b[0m\n\u001b[1;32m---> 27\u001b[1;33m         \u001b[0mout\u001b[0m \u001b[1;33m=\u001b[0m \u001b[0mself\u001b[0m\u001b[1;33m.\u001b[0m\u001b[0mfc\u001b[0m\u001b[1;33m(\u001b[0m\u001b[0mout1\u001b[0m\u001b[1;33m)\u001b[0m\u001b[1;33m\u001b[0m\u001b[1;33m\u001b[0m\u001b[0m\n\u001b[0m\u001b[0;32m     28\u001b[0m         \u001b[1;32mreturn\u001b[0m \u001b[0mx\u001b[0m\u001b[1;33m[\u001b[0m\u001b[1;36m0\u001b[0m\u001b[1;33m]\u001b[0m \u001b[1;33m+\u001b[0m \u001b[0mout\u001b[0m\u001b[1;33m\u001b[0m\u001b[1;33m\u001b[0m\u001b[0m\n",
      "\u001b[1;32mD:\\Anaconda3\\envs\\torch\\lib\\site-packages\\torch\\nn\\modules\\module.py\u001b[0m in \u001b[0;36m_call_impl\u001b[1;34m(self, *input, **kwargs)\u001b[0m\n\u001b[0;32m    720\u001b[0m             \u001b[0mresult\u001b[0m \u001b[1;33m=\u001b[0m \u001b[0mself\u001b[0m\u001b[1;33m.\u001b[0m\u001b[0m_slow_forward\u001b[0m\u001b[1;33m(\u001b[0m\u001b[1;33m*\u001b[0m\u001b[0minput\u001b[0m\u001b[1;33m,\u001b[0m \u001b[1;33m**\u001b[0m\u001b[0mkwargs\u001b[0m\u001b[1;33m)\u001b[0m\u001b[1;33m\u001b[0m\u001b[1;33m\u001b[0m\u001b[0m\n\u001b[0;32m    721\u001b[0m         \u001b[1;32melse\u001b[0m\u001b[1;33m:\u001b[0m\u001b[1;33m\u001b[0m\u001b[1;33m\u001b[0m\u001b[0m\n\u001b[1;32m--> 722\u001b[1;33m             \u001b[0mresult\u001b[0m \u001b[1;33m=\u001b[0m \u001b[0mself\u001b[0m\u001b[1;33m.\u001b[0m\u001b[0mforward\u001b[0m\u001b[1;33m(\u001b[0m\u001b[1;33m*\u001b[0m\u001b[0minput\u001b[0m\u001b[1;33m,\u001b[0m \u001b[1;33m**\u001b[0m\u001b[0mkwargs\u001b[0m\u001b[1;33m)\u001b[0m\u001b[1;33m\u001b[0m\u001b[1;33m\u001b[0m\u001b[0m\n\u001b[0m\u001b[0;32m    723\u001b[0m         for hook in itertools.chain(\n\u001b[0;32m    724\u001b[0m                 \u001b[0m_global_forward_hooks\u001b[0m\u001b[1;33m.\u001b[0m\u001b[0mvalues\u001b[0m\u001b[1;33m(\u001b[0m\u001b[1;33m)\u001b[0m\u001b[1;33m,\u001b[0m\u001b[1;33m\u001b[0m\u001b[1;33m\u001b[0m\u001b[0m\n",
      "\u001b[1;32mD:\\Anaconda3\\envs\\torch\\lib\\site-packages\\torch\\nn\\modules\\linear.py\u001b[0m in \u001b[0;36mforward\u001b[1;34m(self, input)\u001b[0m\n\u001b[0;32m     89\u001b[0m \u001b[1;33m\u001b[0m\u001b[0m\n\u001b[0;32m     90\u001b[0m     \u001b[1;32mdef\u001b[0m \u001b[0mforward\u001b[0m\u001b[1;33m(\u001b[0m\u001b[0mself\u001b[0m\u001b[1;33m,\u001b[0m \u001b[0minput\u001b[0m\u001b[1;33m:\u001b[0m \u001b[0mTensor\u001b[0m\u001b[1;33m)\u001b[0m \u001b[1;33m->\u001b[0m \u001b[0mTensor\u001b[0m\u001b[1;33m:\u001b[0m\u001b[1;33m\u001b[0m\u001b[1;33m\u001b[0m\u001b[0m\n\u001b[1;32m---> 91\u001b[1;33m         \u001b[1;32mreturn\u001b[0m \u001b[0mF\u001b[0m\u001b[1;33m.\u001b[0m\u001b[0mlinear\u001b[0m\u001b[1;33m(\u001b[0m\u001b[0minput\u001b[0m\u001b[1;33m,\u001b[0m \u001b[0mself\u001b[0m\u001b[1;33m.\u001b[0m\u001b[0mweight\u001b[0m\u001b[1;33m,\u001b[0m \u001b[0mself\u001b[0m\u001b[1;33m.\u001b[0m\u001b[0mbias\u001b[0m\u001b[1;33m)\u001b[0m\u001b[1;33m\u001b[0m\u001b[1;33m\u001b[0m\u001b[0m\n\u001b[0m\u001b[0;32m     92\u001b[0m \u001b[1;33m\u001b[0m\u001b[0m\n\u001b[0;32m     93\u001b[0m     \u001b[1;32mdef\u001b[0m \u001b[0mextra_repr\u001b[0m\u001b[1;33m(\u001b[0m\u001b[0mself\u001b[0m\u001b[1;33m)\u001b[0m \u001b[1;33m->\u001b[0m \u001b[0mstr\u001b[0m\u001b[1;33m:\u001b[0m\u001b[1;33m\u001b[0m\u001b[1;33m\u001b[0m\u001b[0m\n",
      "\u001b[1;32mD:\\Anaconda3\\envs\\torch\\lib\\site-packages\\torch\\nn\\functional.py\u001b[0m in \u001b[0;36mlinear\u001b[1;34m(input, weight, bias)\u001b[0m\n\u001b[0;32m   1672\u001b[0m     \u001b[1;32mif\u001b[0m \u001b[0minput\u001b[0m\u001b[1;33m.\u001b[0m\u001b[0mdim\u001b[0m\u001b[1;33m(\u001b[0m\u001b[1;33m)\u001b[0m \u001b[1;33m==\u001b[0m \u001b[1;36m2\u001b[0m \u001b[1;32mand\u001b[0m \u001b[0mbias\u001b[0m \u001b[1;32mis\u001b[0m \u001b[1;32mnot\u001b[0m \u001b[1;32mNone\u001b[0m\u001b[1;33m:\u001b[0m\u001b[1;33m\u001b[0m\u001b[1;33m\u001b[0m\u001b[0m\n\u001b[0;32m   1673\u001b[0m         \u001b[1;31m# fused op is marginally faster\u001b[0m\u001b[1;33m\u001b[0m\u001b[1;33m\u001b[0m\u001b[1;33m\u001b[0m\u001b[0m\n\u001b[1;32m-> 1674\u001b[1;33m         \u001b[0mret\u001b[0m \u001b[1;33m=\u001b[0m \u001b[0mtorch\u001b[0m\u001b[1;33m.\u001b[0m\u001b[0maddmm\u001b[0m\u001b[1;33m(\u001b[0m\u001b[0mbias\u001b[0m\u001b[1;33m,\u001b[0m \u001b[0minput\u001b[0m\u001b[1;33m,\u001b[0m \u001b[0mweight\u001b[0m\u001b[1;33m.\u001b[0m\u001b[0mt\u001b[0m\u001b[1;33m(\u001b[0m\u001b[1;33m)\u001b[0m\u001b[1;33m)\u001b[0m\u001b[1;33m\u001b[0m\u001b[1;33m\u001b[0m\u001b[0m\n\u001b[0m\u001b[0;32m   1675\u001b[0m     \u001b[1;32melse\u001b[0m\u001b[1;33m:\u001b[0m\u001b[1;33m\u001b[0m\u001b[1;33m\u001b[0m\u001b[0m\n\u001b[0;32m   1676\u001b[0m         \u001b[0moutput\u001b[0m \u001b[1;33m=\u001b[0m \u001b[0minput\u001b[0m\u001b[1;33m.\u001b[0m\u001b[0mmatmul\u001b[0m\u001b[1;33m(\u001b[0m\u001b[0mweight\u001b[0m\u001b[1;33m.\u001b[0m\u001b[0mt\u001b[0m\u001b[1;33m(\u001b[0m\u001b[1;33m)\u001b[0m\u001b[1;33m)\u001b[0m\u001b[1;33m\u001b[0m\u001b[1;33m\u001b[0m\u001b[0m\n",
      "\u001b[1;31mRuntimeError\u001b[0m: mat1 dim 1 must match mat2 dim 0"
     ]
    }
   ],
   "source": [
    "%%time\n",
    "MODEL.eval()\n",
    "CHECK_TS, CHECK_DIST, CHECK_ATT = inference(HAI_DATASET_VALIDATION, MODEL, BATCH_SIZE)"
   ]
  },
  {
   "cell_type": "code",
   "execution_count": 32,
   "metadata": {},
   "outputs": [
    {
     "output_type": "error",
     "ename": "NameError",
     "evalue": "name 'CHECK_DIST' is not defined",
     "traceback": [
      "\u001b[1;31m---------------------------------------------------------------------------\u001b[0m",
      "\u001b[1;31mNameError\u001b[0m                                 Traceback (most recent call last)",
      "\u001b[1;32m<ipython-input-32-38048099cfec>\u001b[0m in \u001b[0;36m<module>\u001b[1;34m\u001b[0m\n\u001b[1;32m----> 1\u001b[1;33m \u001b[0mCHECK_DIST\u001b[0m\u001b[1;33m.\u001b[0m\u001b[0mshape\u001b[0m\u001b[1;33m\u001b[0m\u001b[1;33m\u001b[0m\u001b[0m\n\u001b[0m",
      "\u001b[1;31mNameError\u001b[0m: name 'CHECK_DIST' is not defined"
     ]
    }
   ],
   "source": [
    "CHECK_DIST.shape"
   ]
  },
  {
   "cell_type": "code",
   "execution_count": 33,
   "metadata": {},
   "outputs": [
    {
     "output_type": "error",
     "ename": "NameError",
     "evalue": "name 'CHECK_DIST' is not defined",
     "traceback": [
      "\u001b[1;31m---------------------------------------------------------------------------\u001b[0m",
      "\u001b[1;31mNameError\u001b[0m                                 Traceback (most recent call last)",
      "\u001b[1;32m<ipython-input-33-7c755675f3a8>\u001b[0m in \u001b[0;36m<module>\u001b[1;34m\u001b[0m\n\u001b[1;32m----> 1\u001b[1;33m \u001b[0mANOMALY_SCORE\u001b[0m \u001b[1;33m=\u001b[0m \u001b[0mnp\u001b[0m\u001b[1;33m.\u001b[0m\u001b[0mmean\u001b[0m\u001b[1;33m(\u001b[0m\u001b[0mCHECK_DIST\u001b[0m\u001b[1;33m,\u001b[0m \u001b[0maxis\u001b[0m\u001b[1;33m=\u001b[0m\u001b[1;36m1\u001b[0m\u001b[1;33m)\u001b[0m\u001b[1;33m\u001b[0m\u001b[1;33m\u001b[0m\u001b[0m\n\u001b[0m",
      "\u001b[1;31mNameError\u001b[0m: name 'CHECK_DIST' is not defined"
     ]
    }
   ],
   "source": [
    "ANOMALY_SCORE = np.mean(CHECK_DIST, axis=1)"
   ]
  },
  {
   "cell_type": "code",
   "execution_count": 34,
   "metadata": {},
   "outputs": [],
   "source": [
    "def check_graph(xs, att, piece=2, THRESHOLD=None):\n",
    "    l = xs.shape[0]\n",
    "    chunk = l // piece\n",
    "    fig, axs = plt.subplots(piece, figsize=(20, 4 * piece))\n",
    "    for i in range(piece):\n",
    "        L = i * chunk\n",
    "        R = min(L + chunk, l)\n",
    "        xticks = range(L, R)\n",
    "        axs[i].plot(xticks, xs[L:R])\n",
    "        if len(xs[L:R]) > 0:\n",
    "            peak = max(xs[L:R])\n",
    "            axs[i].plot(xticks, att[L:R] * peak * 0.3)\n",
    "        if THRESHOLD!=None:\n",
    "            axs[i].axhline(y=THRESHOLD, color='r')\n",
    "    plt.show()"
   ]
  },
  {
   "cell_type": "code",
   "execution_count": 35,
   "metadata": {},
   "outputs": [
    {
     "output_type": "error",
     "ename": "NameError",
     "evalue": "name 'ANOMALY_SCORE' is not defined",
     "traceback": [
      "\u001b[1;31m---------------------------------------------------------------------------\u001b[0m",
      "\u001b[1;31mNameError\u001b[0m                                 Traceback (most recent call last)",
      "\u001b[1;32m<ipython-input-35-b61772f0c487>\u001b[0m in \u001b[0;36m<module>\u001b[1;34m\u001b[0m\n\u001b[0;32m      1\u001b[0m \u001b[0mTHRESHOLD\u001b[0m \u001b[1;33m=\u001b[0m \u001b[1;36m0.04\u001b[0m\u001b[1;33m\u001b[0m\u001b[1;33m\u001b[0m\u001b[0m\n\u001b[1;32m----> 2\u001b[1;33m \u001b[0mcheck_graph\u001b[0m\u001b[1;33m(\u001b[0m\u001b[0mANOMALY_SCORE\u001b[0m\u001b[1;33m,\u001b[0m \u001b[0mCHECK_ATT\u001b[0m\u001b[1;33m,\u001b[0m \u001b[0mpiece\u001b[0m\u001b[1;33m=\u001b[0m\u001b[1;36m2\u001b[0m\u001b[1;33m,\u001b[0m \u001b[0mTHRESHOLD\u001b[0m\u001b[1;33m=\u001b[0m\u001b[0mTHRESHOLD\u001b[0m\u001b[1;33m)\u001b[0m\u001b[1;33m\u001b[0m\u001b[1;33m\u001b[0m\u001b[0m\n\u001b[0m",
      "\u001b[1;31mNameError\u001b[0m: name 'ANOMALY_SCORE' is not defined"
     ]
    }
   ],
   "source": [
    "THRESHOLD = 0.04\n",
    "check_graph(ANOMALY_SCORE, CHECK_ATT, piece=2, THRESHOLD=THRESHOLD)"
   ]
  },
  {
   "cell_type": "code",
   "execution_count": 36,
   "metadata": {},
   "outputs": [],
   "source": [
    "def put_labels(distance, threshold):\n",
    "    xs = np.zeros_like(distance)\n",
    "    xs[distance > threshold] = 1\n",
    "    return xs"
   ]
  },
  {
   "cell_type": "code",
   "execution_count": 37,
   "metadata": {},
   "outputs": [
    {
     "output_type": "error",
     "ename": "NameError",
     "evalue": "name 'ANOMALY_SCORE' is not defined",
     "traceback": [
      "\u001b[1;31m---------------------------------------------------------------------------\u001b[0m",
      "\u001b[1;31mNameError\u001b[0m                                 Traceback (most recent call last)",
      "\u001b[1;32m<ipython-input-37-426a02336fa2>\u001b[0m in \u001b[0;36m<module>\u001b[1;34m\u001b[0m\n\u001b[1;32m----> 1\u001b[1;33m \u001b[0mLABELS\u001b[0m \u001b[1;33m=\u001b[0m \u001b[0mput_labels\u001b[0m\u001b[1;33m(\u001b[0m\u001b[0mANOMALY_SCORE\u001b[0m\u001b[1;33m,\u001b[0m \u001b[0mTHRESHOLD\u001b[0m\u001b[1;33m)\u001b[0m\u001b[1;33m\u001b[0m\u001b[1;33m\u001b[0m\u001b[0m\n\u001b[0m\u001b[0;32m      2\u001b[0m \u001b[0mLABELS\u001b[0m\u001b[1;33m,\u001b[0m \u001b[0mLABELS\u001b[0m\u001b[1;33m.\u001b[0m\u001b[0mshape\u001b[0m\u001b[1;33m\u001b[0m\u001b[1;33m\u001b[0m\u001b[0m\n",
      "\u001b[1;31mNameError\u001b[0m: name 'ANOMALY_SCORE' is not defined"
     ]
    }
   ],
   "source": [
    "LABELS = put_labels(ANOMALY_SCORE, THRESHOLD)\n",
    "LABELS, LABELS.shape"
   ]
  },
  {
   "cell_type": "code",
   "execution_count": 38,
   "metadata": {},
   "outputs": [
    {
     "output_type": "execute_result",
     "data": {
      "text/plain": "(array([0, 0, 0, ..., 0, 0, 0], dtype=int64), (43201,))"
     },
     "metadata": {},
     "execution_count": 38
    }
   ],
   "source": [
    "ATTACK_LABELS = put_labels(np.array(VALIDATION_DF_RAW[ATTACK_FIELD]), threshold=0.5)\n",
    "ATTACK_LABELS, ATTACK_LABELS.shape"
   ]
  },
  {
   "cell_type": "code",
   "execution_count": 39,
   "metadata": {},
   "outputs": [],
   "source": [
    "def fill_blank(check_ts, labels, total_ts):\n",
    "    def ts_generator():\n",
    "        for t in total_ts:\n",
    "            yield dateutil.parser.parse(t)\n",
    "\n",
    "    def label_generator():\n",
    "        for t, label in zip(check_ts, labels):\n",
    "            yield dateutil.parser.parse(t), label\n",
    "\n",
    "    g_ts = ts_generator()\n",
    "    g_label = label_generator()\n",
    "    final_labels = []\n",
    "\n",
    "    try:\n",
    "        current = next(g_ts)\n",
    "        ts_label, label = next(g_label)\n",
    "        while True:\n",
    "            if current > ts_label:\n",
    "                ts_label, label = next(g_label)\n",
    "                continue\n",
    "            elif current < ts_label:\n",
    "                final_labels.append(0)\n",
    "                current = next(g_ts)\n",
    "                continue\n",
    "            final_labels.append(label)\n",
    "            current = next(g_ts)\n",
    "            ts_label, label = next(g_label)\n",
    "    except StopIteration:\n",
    "        return np.array(final_labels, dtype=np.int8)"
   ]
  },
  {
   "cell_type": "code",
   "execution_count": 40,
   "metadata": {
    "tags": []
   },
   "outputs": [
    {
     "output_type": "error",
     "ename": "NameError",
     "evalue": "name 'CHECK_TS' is not defined",
     "traceback": [
      "\u001b[1;31m---------------------------------------------------------------------------\u001b[0m",
      "\u001b[1;31mNameError\u001b[0m                                 Traceback (most recent call last)",
      "\u001b[1;32m<timed exec>\u001b[0m in \u001b[0;36m<module>\u001b[1;34m\u001b[0m\n",
      "\u001b[1;31mNameError\u001b[0m: name 'CHECK_TS' is not defined"
     ]
    }
   ],
   "source": [
    "%%time\n",
    "FINAL_LABELS = fill_blank(CHECK_TS, LABELS, np.array(VALIDATION_DF_RAW[TIMESTAMP_FIELD]))\n",
    "FINAL_LABELS.shape"
   ]
  },
  {
   "cell_type": "code",
   "execution_count": 41,
   "metadata": {},
   "outputs": [
    {
     "output_type": "error",
     "ename": "NameError",
     "evalue": "name 'FINAL_LABELS' is not defined",
     "traceback": [
      "\u001b[1;31m---------------------------------------------------------------------------\u001b[0m",
      "\u001b[1;31mNameError\u001b[0m                                 Traceback (most recent call last)",
      "\u001b[1;32m<ipython-input-41-543f22da327e>\u001b[0m in \u001b[0;36m<module>\u001b[1;34m\u001b[0m\n\u001b[1;32m----> 1\u001b[1;33m \u001b[0mATTACK_LABELS\u001b[0m\u001b[1;33m.\u001b[0m\u001b[0mshape\u001b[0m\u001b[1;33m[\u001b[0m\u001b[1;36m0\u001b[0m\u001b[1;33m]\u001b[0m \u001b[1;33m==\u001b[0m \u001b[0mFINAL_LABELS\u001b[0m\u001b[1;33m.\u001b[0m\u001b[0mshape\u001b[0m\u001b[1;33m[\u001b[0m\u001b[1;36m0\u001b[0m\u001b[1;33m]\u001b[0m\u001b[1;33m\u001b[0m\u001b[1;33m\u001b[0m\u001b[0m\n\u001b[0m",
      "\u001b[1;31mNameError\u001b[0m: name 'FINAL_LABELS' is not defined"
     ]
    }
   ],
   "source": [
    "ATTACK_LABELS.shape[0] == FINAL_LABELS.shape[0]"
   ]
  },
  {
   "cell_type": "code",
   "execution_count": 42,
   "metadata": {
    "tags": []
   },
   "outputs": [
    {
     "output_type": "error",
     "ename": "NameError",
     "evalue": "name 'FINAL_LABELS' is not defined",
     "traceback": [
      "\u001b[1;31m---------------------------------------------------------------------------\u001b[0m",
      "\u001b[1;31mNameError\u001b[0m                                 Traceback (most recent call last)",
      "\u001b[1;32m<ipython-input-42-e9983add5f12>\u001b[0m in \u001b[0;36m<module>\u001b[1;34m\u001b[0m\n\u001b[1;32m----> 1\u001b[1;33m \u001b[0mTaPR\u001b[0m \u001b[1;33m=\u001b[0m \u001b[0metapr\u001b[0m\u001b[1;33m.\u001b[0m\u001b[0mevaluate\u001b[0m\u001b[1;33m(\u001b[0m\u001b[0manomalies\u001b[0m\u001b[1;33m=\u001b[0m\u001b[0mATTACK_LABELS\u001b[0m\u001b[1;33m,\u001b[0m \u001b[0mpredictions\u001b[0m\u001b[1;33m=\u001b[0m\u001b[0mFINAL_LABELS\u001b[0m\u001b[1;33m)\u001b[0m\u001b[1;33m\u001b[0m\u001b[1;33m\u001b[0m\u001b[0m\n\u001b[0m\u001b[0;32m      2\u001b[0m \u001b[0mprint\u001b[0m\u001b[1;33m(\u001b[0m\u001b[1;34mf\"F1: {TaPR['f1']:.3f} (TaP: {TaPR['TaP']:.3f}, TaR: {TaPR['TaR']:.3f})\"\u001b[0m\u001b[1;33m)\u001b[0m\u001b[1;33m\u001b[0m\u001b[1;33m\u001b[0m\u001b[0m\n\u001b[0;32m      3\u001b[0m \u001b[0mprint\u001b[0m\u001b[1;33m(\u001b[0m\u001b[1;34mf\"# of detected anomalies: {len(TaPR['Detected_Anomalies'])}\"\u001b[0m\u001b[1;33m)\u001b[0m\u001b[1;33m\u001b[0m\u001b[1;33m\u001b[0m\u001b[0m\n\u001b[0;32m      4\u001b[0m \u001b[0mprint\u001b[0m\u001b[1;33m(\u001b[0m\u001b[1;34mf\"Detected anomalies: {TaPR['Detected_Anomalies']}\"\u001b[0m\u001b[1;33m)\u001b[0m\u001b[1;33m\u001b[0m\u001b[1;33m\u001b[0m\u001b[0m\n",
      "\u001b[1;31mNameError\u001b[0m: name 'FINAL_LABELS' is not defined"
     ]
    }
   ],
   "source": [
    "TaPR = etapr.evaluate(anomalies=ATTACK_LABELS, predictions=FINAL_LABELS)\n",
    "print(f\"F1: {TaPR['f1']:.3f} (TaP: {TaPR['TaP']:.3f}, TaR: {TaPR['TaR']:.3f})\")\n",
    "print(f\"# of detected anomalies: {len(TaPR['Detected_Anomalies'])}\")\n",
    "print(f\"Detected anomalies: {TaPR['Detected_Anomalies']}\")"
   ]
  },
  {
   "cell_type": "code",
   "execution_count": 43,
   "metadata": {},
   "outputs": [
    {
     "output_type": "execute_result",
     "data": {
      "text/plain": "                      time        C01   C02  C03       C04     C05       C06  \\\n0      2020-07-09 15:00:00  384.30737  12.0   10  70.35980 -1.6171  -1.79901   \n1      2020-07-09 15:00:01  384.30737  12.0   10  70.35980 -1.7606  -1.79901   \n2      2020-07-09 15:00:02  384.20517  12.0   10  70.35980 -1.7606  -1.80664   \n3      2020-07-09 15:00:03  384.25626  12.0   10  70.35980 -1.7814  -1.79901   \n4      2020-07-09 15:00:04  384.20517  12.0   10  70.35980 -1.7370  -1.79901   \n...                    ...        ...   ...  ...       ...     ...       ...   \n92396  2020-07-31 12:29:56  420.08923  12.0   10  48.31848 -0.8706  97.19238   \n92397  2020-07-31 12:29:57  420.08923  12.0   10  48.31848 -0.7498  97.19238   \n92398  2020-07-31 12:29:58  420.24258  12.0   10  48.31848 -0.6076  97.19238   \n92399  2020-07-31 12:29:59  420.24258  12.0   10  48.31848 -0.4618  97.19238   \n92400  2020-07-31 12:30:00  420.29373  12.0   10  48.31848 -0.3661  97.20001   \n\n             C07       C08  C09  ...        C70    C71      C72       C73  \\\n0      774.20752  28.02385  136  ...  936.58447    0.0  1.35437  13.97231   \n1      772.58758  28.02730  136  ...  940.93317    0.0  1.35437  13.93358   \n2      772.58758  28.02730  136  ...  936.58447    0.0  1.35513  13.95248   \n3      777.48810  28.02905  136  ...  933.54034    0.0  1.35513  13.89971   \n4      778.42212  28.03169  136  ...  944.41223    0.0  1.35437  13.94603   \n...          ...       ...  ...  ...        ...    ...      ...       ...   \n92396  786.54382  28.03253  232  ...  824.82147  100.0  1.35666   9.62203   \n92397  784.07184  28.03598  224  ...  823.51697  100.0  1.35513   9.48747   \n92398  786.83881  28.02642  208  ...  824.82147  100.0  1.35666   9.57787   \n92399  786.66138  28.03341  200  ...  833.51904  100.0  1.35513   9.56291   \n92400  785.72290  28.03247  192  ...  827.43085  100.0  1.35590   9.53689   \n\n            C74       C75        C76        C77   C78     C79  \n0      35.22338  12.02545  293.51129  283.92651  32.0  6.5059  \n1      35.20813  12.02545  292.67938  283.36591  32.0  6.3079  \n2      35.20813  12.02545  291.90179  282.93189  32.0  6.3079  \n3      35.20813  12.02545  291.59430  282.06378  32.0  6.1203  \n4      35.20813  12.02545  289.87628  283.67334  32.0  5.9543  \n...         ...       ...        ...        ...   ...     ...  \n92396  36.47460  11.78894  357.27722  361.14728  32.0  6.2809  \n92397  36.47460  11.78894  357.29529  359.84521  32.0  6.3602  \n92398  36.48986  11.78894  357.27722  360.60474  32.0  6.3742  \n92399  36.48986  11.78894  357.80170  357.42188  32.0  6.2864  \n92400  36.47460  11.78894  357.07825  358.65161  32.0  6.0371  \n\n[358804 rows x 80 columns]",
      "text/html": "<div>\n<style scoped>\n    .dataframe tbody tr th:only-of-type {\n        vertical-align: middle;\n    }\n\n    .dataframe tbody tr th {\n        vertical-align: top;\n    }\n\n    .dataframe thead th {\n        text-align: right;\n    }\n</style>\n<table border=\"1\" class=\"dataframe\">\n  <thead>\n    <tr style=\"text-align: right;\">\n      <th></th>\n      <th>time</th>\n      <th>C01</th>\n      <th>C02</th>\n      <th>C03</th>\n      <th>C04</th>\n      <th>C05</th>\n      <th>C06</th>\n      <th>C07</th>\n      <th>C08</th>\n      <th>C09</th>\n      <th>...</th>\n      <th>C70</th>\n      <th>C71</th>\n      <th>C72</th>\n      <th>C73</th>\n      <th>C74</th>\n      <th>C75</th>\n      <th>C76</th>\n      <th>C77</th>\n      <th>C78</th>\n      <th>C79</th>\n    </tr>\n  </thead>\n  <tbody>\n    <tr>\n      <th>0</th>\n      <td>2020-07-09 15:00:00</td>\n      <td>384.30737</td>\n      <td>12.0</td>\n      <td>10</td>\n      <td>70.35980</td>\n      <td>-1.6171</td>\n      <td>-1.79901</td>\n      <td>774.20752</td>\n      <td>28.02385</td>\n      <td>136</td>\n      <td>...</td>\n      <td>936.58447</td>\n      <td>0.0</td>\n      <td>1.35437</td>\n      <td>13.97231</td>\n      <td>35.22338</td>\n      <td>12.02545</td>\n      <td>293.51129</td>\n      <td>283.92651</td>\n      <td>32.0</td>\n      <td>6.5059</td>\n    </tr>\n    <tr>\n      <th>1</th>\n      <td>2020-07-09 15:00:01</td>\n      <td>384.30737</td>\n      <td>12.0</td>\n      <td>10</td>\n      <td>70.35980</td>\n      <td>-1.7606</td>\n      <td>-1.79901</td>\n      <td>772.58758</td>\n      <td>28.02730</td>\n      <td>136</td>\n      <td>...</td>\n      <td>940.93317</td>\n      <td>0.0</td>\n      <td>1.35437</td>\n      <td>13.93358</td>\n      <td>35.20813</td>\n      <td>12.02545</td>\n      <td>292.67938</td>\n      <td>283.36591</td>\n      <td>32.0</td>\n      <td>6.3079</td>\n    </tr>\n    <tr>\n      <th>2</th>\n      <td>2020-07-09 15:00:02</td>\n      <td>384.20517</td>\n      <td>12.0</td>\n      <td>10</td>\n      <td>70.35980</td>\n      <td>-1.7606</td>\n      <td>-1.80664</td>\n      <td>772.58758</td>\n      <td>28.02730</td>\n      <td>136</td>\n      <td>...</td>\n      <td>936.58447</td>\n      <td>0.0</td>\n      <td>1.35513</td>\n      <td>13.95248</td>\n      <td>35.20813</td>\n      <td>12.02545</td>\n      <td>291.90179</td>\n      <td>282.93189</td>\n      <td>32.0</td>\n      <td>6.3079</td>\n    </tr>\n    <tr>\n      <th>3</th>\n      <td>2020-07-09 15:00:03</td>\n      <td>384.25626</td>\n      <td>12.0</td>\n      <td>10</td>\n      <td>70.35980</td>\n      <td>-1.7814</td>\n      <td>-1.79901</td>\n      <td>777.48810</td>\n      <td>28.02905</td>\n      <td>136</td>\n      <td>...</td>\n      <td>933.54034</td>\n      <td>0.0</td>\n      <td>1.35513</td>\n      <td>13.89971</td>\n      <td>35.20813</td>\n      <td>12.02545</td>\n      <td>291.59430</td>\n      <td>282.06378</td>\n      <td>32.0</td>\n      <td>6.1203</td>\n    </tr>\n    <tr>\n      <th>4</th>\n      <td>2020-07-09 15:00:04</td>\n      <td>384.20517</td>\n      <td>12.0</td>\n      <td>10</td>\n      <td>70.35980</td>\n      <td>-1.7370</td>\n      <td>-1.79901</td>\n      <td>778.42212</td>\n      <td>28.03169</td>\n      <td>136</td>\n      <td>...</td>\n      <td>944.41223</td>\n      <td>0.0</td>\n      <td>1.35437</td>\n      <td>13.94603</td>\n      <td>35.20813</td>\n      <td>12.02545</td>\n      <td>289.87628</td>\n      <td>283.67334</td>\n      <td>32.0</td>\n      <td>5.9543</td>\n    </tr>\n    <tr>\n      <th>...</th>\n      <td>...</td>\n      <td>...</td>\n      <td>...</td>\n      <td>...</td>\n      <td>...</td>\n      <td>...</td>\n      <td>...</td>\n      <td>...</td>\n      <td>...</td>\n      <td>...</td>\n      <td>...</td>\n      <td>...</td>\n      <td>...</td>\n      <td>...</td>\n      <td>...</td>\n      <td>...</td>\n      <td>...</td>\n      <td>...</td>\n      <td>...</td>\n      <td>...</td>\n      <td>...</td>\n    </tr>\n    <tr>\n      <th>92396</th>\n      <td>2020-07-31 12:29:56</td>\n      <td>420.08923</td>\n      <td>12.0</td>\n      <td>10</td>\n      <td>48.31848</td>\n      <td>-0.8706</td>\n      <td>97.19238</td>\n      <td>786.54382</td>\n      <td>28.03253</td>\n      <td>232</td>\n      <td>...</td>\n      <td>824.82147</td>\n      <td>100.0</td>\n      <td>1.35666</td>\n      <td>9.62203</td>\n      <td>36.47460</td>\n      <td>11.78894</td>\n      <td>357.27722</td>\n      <td>361.14728</td>\n      <td>32.0</td>\n      <td>6.2809</td>\n    </tr>\n    <tr>\n      <th>92397</th>\n      <td>2020-07-31 12:29:57</td>\n      <td>420.08923</td>\n      <td>12.0</td>\n      <td>10</td>\n      <td>48.31848</td>\n      <td>-0.7498</td>\n      <td>97.19238</td>\n      <td>784.07184</td>\n      <td>28.03598</td>\n      <td>224</td>\n      <td>...</td>\n      <td>823.51697</td>\n      <td>100.0</td>\n      <td>1.35513</td>\n      <td>9.48747</td>\n      <td>36.47460</td>\n      <td>11.78894</td>\n      <td>357.29529</td>\n      <td>359.84521</td>\n      <td>32.0</td>\n      <td>6.3602</td>\n    </tr>\n    <tr>\n      <th>92398</th>\n      <td>2020-07-31 12:29:58</td>\n      <td>420.24258</td>\n      <td>12.0</td>\n      <td>10</td>\n      <td>48.31848</td>\n      <td>-0.6076</td>\n      <td>97.19238</td>\n      <td>786.83881</td>\n      <td>28.02642</td>\n      <td>208</td>\n      <td>...</td>\n      <td>824.82147</td>\n      <td>100.0</td>\n      <td>1.35666</td>\n      <td>9.57787</td>\n      <td>36.48986</td>\n      <td>11.78894</td>\n      <td>357.27722</td>\n      <td>360.60474</td>\n      <td>32.0</td>\n      <td>6.3742</td>\n    </tr>\n    <tr>\n      <th>92399</th>\n      <td>2020-07-31 12:29:59</td>\n      <td>420.24258</td>\n      <td>12.0</td>\n      <td>10</td>\n      <td>48.31848</td>\n      <td>-0.4618</td>\n      <td>97.19238</td>\n      <td>786.66138</td>\n      <td>28.03341</td>\n      <td>200</td>\n      <td>...</td>\n      <td>833.51904</td>\n      <td>100.0</td>\n      <td>1.35513</td>\n      <td>9.56291</td>\n      <td>36.48986</td>\n      <td>11.78894</td>\n      <td>357.80170</td>\n      <td>357.42188</td>\n      <td>32.0</td>\n      <td>6.2864</td>\n    </tr>\n    <tr>\n      <th>92400</th>\n      <td>2020-07-31 12:30:00</td>\n      <td>420.29373</td>\n      <td>12.0</td>\n      <td>10</td>\n      <td>48.31848</td>\n      <td>-0.3661</td>\n      <td>97.20001</td>\n      <td>785.72290</td>\n      <td>28.03247</td>\n      <td>192</td>\n      <td>...</td>\n      <td>827.43085</td>\n      <td>100.0</td>\n      <td>1.35590</td>\n      <td>9.53689</td>\n      <td>36.47460</td>\n      <td>11.78894</td>\n      <td>357.07825</td>\n      <td>358.65161</td>\n      <td>32.0</td>\n      <td>6.0371</td>\n    </tr>\n  </tbody>\n</table>\n<p>358804 rows × 80 columns</p>\n</div>"
     },
     "metadata": {},
     "execution_count": 43
    }
   ],
   "source": [
    "TEST_DF_RAW = dataframe_from_csvs(TEST_DATASET)\n",
    "TEST_DF_RAW"
   ]
  },
  {
   "cell_type": "code",
   "execution_count": 44,
   "metadata": {
    "tags": []
   },
   "outputs": [
    {
     "output_type": "execute_result",
     "data": {
      "text/plain": "            C01  C02  C03       C04       C05       C06       C07       C08  \\\n0      0.273715  0.0  0.0  0.828325  0.225882  0.000999  0.318761  0.333825   \n1      0.273715  0.0  0.0  0.828325  0.171634  0.000999  0.300187  0.426398   \n2      0.272825  0.0  0.0  0.828325  0.166747  0.000930  0.298514  0.434738   \n3      0.273182  0.0  0.0  0.828325  0.158478  0.000992  0.353980  0.482056   \n4      0.272773  0.0  0.0  0.828325  0.174269  0.000998  0.370123  0.556914   \n...         ...  ...  ...       ...       ...       ...       ...       ...   \n92396  0.619520  0.0  0.0  0.073426  0.532147  0.998079  0.476720  0.581066   \n92397  0.619561  0.0  0.0  0.073426  0.581096  0.998079  0.446527  0.680775   \n92398  0.620899  0.0  0.0  0.073426  0.639210  0.998079  0.474916  0.436791   \n92399  0.621033  0.0  0.0  0.073426  0.699587  0.998079  0.475741  0.598077   \n92400  0.621491  0.0  0.0  0.073426  0.741441  0.998148  0.465171  0.589235   \n\n            C09       C10  ...       C70  C71       C72       C73       C74  \\\n0      0.010417  0.139867  ...  0.677723  0.0  0.317842  0.452044  0.236483   \n1      0.010417  0.137445  ...  0.680584  0.0  0.317842  0.450701  0.230344   \n2      0.010417  0.137227  ...  0.678007  0.0  0.318290  0.451229  0.229791   \n3      0.010417  0.190063  ...  0.675769  0.0  0.318335  0.449470  0.229736   \n4      0.010417  0.266280  ...  0.682626  0.0  0.317891  0.450884  0.229731   \n...         ...       ...  ...       ...  ...       ...       ...       ...   \n92396  0.017489  0.358745  ...  0.596406  1.0  0.319337  0.285888  0.790598   \n92397  0.016853  0.386044  ...  0.595956  1.0  0.318439  0.281450  0.790543   \n92398  0.015748  0.453718  ...  0.596761  1.0  0.319252  0.284110  0.796619   \n92399  0.015116  0.563381  ...  0.602505  1.0  0.318431  0.283862  0.797227   \n92400  0.014532  0.705708  ...  0.599115  1.0  0.318803  0.282944  0.791206   \n\n            C75       C76       C77      C78       C79  \n0      0.944440  0.225971  0.200389  0.26162  0.714722  \n1      0.944440  0.223121  0.198499  0.26162  0.650106  \n2      0.944440  0.220223  0.196880  0.26162  0.644285  \n3      0.944440  0.218893  0.193823  0.26162  0.583093  \n4      0.944440  0.212932  0.198888  0.26162  0.523348  \n...         ...       ...       ...      ...       ...  \n92396  0.083339  0.466152  0.485809  0.26162  0.622130  \n92397  0.083339  0.466370  0.482229  0.26162  0.658390  \n92398  0.083339  0.466330  0.484406  0.26162  0.666539  \n92399  0.083339  0.468106  0.474004  0.26162  0.638988  \n92400  0.083339  0.465829  0.477066  0.26162  0.555689  \n\n[358804 rows x 79 columns]",
      "text/html": "<div>\n<style scoped>\n    .dataframe tbody tr th:only-of-type {\n        vertical-align: middle;\n    }\n\n    .dataframe tbody tr th {\n        vertical-align: top;\n    }\n\n    .dataframe thead th {\n        text-align: right;\n    }\n</style>\n<table border=\"1\" class=\"dataframe\">\n  <thead>\n    <tr style=\"text-align: right;\">\n      <th></th>\n      <th>C01</th>\n      <th>C02</th>\n      <th>C03</th>\n      <th>C04</th>\n      <th>C05</th>\n      <th>C06</th>\n      <th>C07</th>\n      <th>C08</th>\n      <th>C09</th>\n      <th>C10</th>\n      <th>...</th>\n      <th>C70</th>\n      <th>C71</th>\n      <th>C72</th>\n      <th>C73</th>\n      <th>C74</th>\n      <th>C75</th>\n      <th>C76</th>\n      <th>C77</th>\n      <th>C78</th>\n      <th>C79</th>\n    </tr>\n  </thead>\n  <tbody>\n    <tr>\n      <th>0</th>\n      <td>0.273715</td>\n      <td>0.0</td>\n      <td>0.0</td>\n      <td>0.828325</td>\n      <td>0.225882</td>\n      <td>0.000999</td>\n      <td>0.318761</td>\n      <td>0.333825</td>\n      <td>0.010417</td>\n      <td>0.139867</td>\n      <td>...</td>\n      <td>0.677723</td>\n      <td>0.0</td>\n      <td>0.317842</td>\n      <td>0.452044</td>\n      <td>0.236483</td>\n      <td>0.944440</td>\n      <td>0.225971</td>\n      <td>0.200389</td>\n      <td>0.26162</td>\n      <td>0.714722</td>\n    </tr>\n    <tr>\n      <th>1</th>\n      <td>0.273715</td>\n      <td>0.0</td>\n      <td>0.0</td>\n      <td>0.828325</td>\n      <td>0.171634</td>\n      <td>0.000999</td>\n      <td>0.300187</td>\n      <td>0.426398</td>\n      <td>0.010417</td>\n      <td>0.137445</td>\n      <td>...</td>\n      <td>0.680584</td>\n      <td>0.0</td>\n      <td>0.317842</td>\n      <td>0.450701</td>\n      <td>0.230344</td>\n      <td>0.944440</td>\n      <td>0.223121</td>\n      <td>0.198499</td>\n      <td>0.26162</td>\n      <td>0.650106</td>\n    </tr>\n    <tr>\n      <th>2</th>\n      <td>0.272825</td>\n      <td>0.0</td>\n      <td>0.0</td>\n      <td>0.828325</td>\n      <td>0.166747</td>\n      <td>0.000930</td>\n      <td>0.298514</td>\n      <td>0.434738</td>\n      <td>0.010417</td>\n      <td>0.137227</td>\n      <td>...</td>\n      <td>0.678007</td>\n      <td>0.0</td>\n      <td>0.318290</td>\n      <td>0.451229</td>\n      <td>0.229791</td>\n      <td>0.944440</td>\n      <td>0.220223</td>\n      <td>0.196880</td>\n      <td>0.26162</td>\n      <td>0.644285</td>\n    </tr>\n    <tr>\n      <th>3</th>\n      <td>0.273182</td>\n      <td>0.0</td>\n      <td>0.0</td>\n      <td>0.828325</td>\n      <td>0.158478</td>\n      <td>0.000992</td>\n      <td>0.353980</td>\n      <td>0.482056</td>\n      <td>0.010417</td>\n      <td>0.190063</td>\n      <td>...</td>\n      <td>0.675769</td>\n      <td>0.0</td>\n      <td>0.318335</td>\n      <td>0.449470</td>\n      <td>0.229736</td>\n      <td>0.944440</td>\n      <td>0.218893</td>\n      <td>0.193823</td>\n      <td>0.26162</td>\n      <td>0.583093</td>\n    </tr>\n    <tr>\n      <th>4</th>\n      <td>0.272773</td>\n      <td>0.0</td>\n      <td>0.0</td>\n      <td>0.828325</td>\n      <td>0.174269</td>\n      <td>0.000998</td>\n      <td>0.370123</td>\n      <td>0.556914</td>\n      <td>0.010417</td>\n      <td>0.266280</td>\n      <td>...</td>\n      <td>0.682626</td>\n      <td>0.0</td>\n      <td>0.317891</td>\n      <td>0.450884</td>\n      <td>0.229731</td>\n      <td>0.944440</td>\n      <td>0.212932</td>\n      <td>0.198888</td>\n      <td>0.26162</td>\n      <td>0.523348</td>\n    </tr>\n    <tr>\n      <th>...</th>\n      <td>...</td>\n      <td>...</td>\n      <td>...</td>\n      <td>...</td>\n      <td>...</td>\n      <td>...</td>\n      <td>...</td>\n      <td>...</td>\n      <td>...</td>\n      <td>...</td>\n      <td>...</td>\n      <td>...</td>\n      <td>...</td>\n      <td>...</td>\n      <td>...</td>\n      <td>...</td>\n      <td>...</td>\n      <td>...</td>\n      <td>...</td>\n      <td>...</td>\n      <td>...</td>\n    </tr>\n    <tr>\n      <th>92396</th>\n      <td>0.619520</td>\n      <td>0.0</td>\n      <td>0.0</td>\n      <td>0.073426</td>\n      <td>0.532147</td>\n      <td>0.998079</td>\n      <td>0.476720</td>\n      <td>0.581066</td>\n      <td>0.017489</td>\n      <td>0.358745</td>\n      <td>...</td>\n      <td>0.596406</td>\n      <td>1.0</td>\n      <td>0.319337</td>\n      <td>0.285888</td>\n      <td>0.790598</td>\n      <td>0.083339</td>\n      <td>0.466152</td>\n      <td>0.485809</td>\n      <td>0.26162</td>\n      <td>0.622130</td>\n    </tr>\n    <tr>\n      <th>92397</th>\n      <td>0.619561</td>\n      <td>0.0</td>\n      <td>0.0</td>\n      <td>0.073426</td>\n      <td>0.581096</td>\n      <td>0.998079</td>\n      <td>0.446527</td>\n      <td>0.680775</td>\n      <td>0.016853</td>\n      <td>0.386044</td>\n      <td>...</td>\n      <td>0.595956</td>\n      <td>1.0</td>\n      <td>0.318439</td>\n      <td>0.281450</td>\n      <td>0.790543</td>\n      <td>0.083339</td>\n      <td>0.466370</td>\n      <td>0.482229</td>\n      <td>0.26162</td>\n      <td>0.658390</td>\n    </tr>\n    <tr>\n      <th>92398</th>\n      <td>0.620899</td>\n      <td>0.0</td>\n      <td>0.0</td>\n      <td>0.073426</td>\n      <td>0.639210</td>\n      <td>0.998079</td>\n      <td>0.474916</td>\n      <td>0.436791</td>\n      <td>0.015748</td>\n      <td>0.453718</td>\n      <td>...</td>\n      <td>0.596761</td>\n      <td>1.0</td>\n      <td>0.319252</td>\n      <td>0.284110</td>\n      <td>0.796619</td>\n      <td>0.083339</td>\n      <td>0.466330</td>\n      <td>0.484406</td>\n      <td>0.26162</td>\n      <td>0.666539</td>\n    </tr>\n    <tr>\n      <th>92399</th>\n      <td>0.621033</td>\n      <td>0.0</td>\n      <td>0.0</td>\n      <td>0.073426</td>\n      <td>0.699587</td>\n      <td>0.998079</td>\n      <td>0.475741</td>\n      <td>0.598077</td>\n      <td>0.015116</td>\n      <td>0.563381</td>\n      <td>...</td>\n      <td>0.602505</td>\n      <td>1.0</td>\n      <td>0.318431</td>\n      <td>0.283862</td>\n      <td>0.797227</td>\n      <td>0.083339</td>\n      <td>0.468106</td>\n      <td>0.474004</td>\n      <td>0.26162</td>\n      <td>0.638988</td>\n    </tr>\n    <tr>\n      <th>92400</th>\n      <td>0.621491</td>\n      <td>0.0</td>\n      <td>0.0</td>\n      <td>0.073426</td>\n      <td>0.741441</td>\n      <td>0.998148</td>\n      <td>0.465171</td>\n      <td>0.589235</td>\n      <td>0.014532</td>\n      <td>0.705708</td>\n      <td>...</td>\n      <td>0.599115</td>\n      <td>1.0</td>\n      <td>0.318803</td>\n      <td>0.282944</td>\n      <td>0.791206</td>\n      <td>0.083339</td>\n      <td>0.465829</td>\n      <td>0.477066</td>\n      <td>0.26162</td>\n      <td>0.555689</td>\n    </tr>\n  </tbody>\n</table>\n<p>358804 rows × 79 columns</p>\n</div>"
     },
     "metadata": {},
     "execution_count": 44
    }
   ],
   "source": [
    "TEST_DF = normalize(TEST_DF_RAW[VALID_COLUMNS_IN_TRAIN_DATASET]).ewm(alpha=0.9).mean()\n",
    "TEST_DF"
   ]
  },
  {
   "cell_type": "code",
   "execution_count": 45,
   "metadata": {},
   "outputs": [
    {
     "output_type": "execute_result",
     "data": {
      "text/plain": "(True, True, False)"
     },
     "metadata": {},
     "execution_count": 45
    }
   ],
   "source": [
    "boundary_check(TEST_DF)"
   ]
  },
  {
   "cell_type": "code",
   "execution_count": 46,
   "metadata": {
    "tags": []
   },
   "outputs": [
    {
     "output_type": "display_data",
     "data": {
      "text/plain": "HBox(children=(FloatProgress(value=0.0, max=358745.0), HTML(value='')))",
      "application/vnd.jupyter.widget-view+json": {
       "version_major": 2,
       "version_minor": 0,
       "model_id": "a66d9ebf7fcf4af79a692830f9e59ddc"
      }
     },
     "metadata": {}
    },
    {
     "output_type": "stream",
     "name": "stdout",
     "text": "\n# of valid windows: 358568\n"
    },
    {
     "output_type": "execute_result",
     "data": {
      "text/plain": "{'attack': 0.0,\n 'ts': '2020-07-07 15:00:59',\n 'given': tensor([[0.4516, 0.0000, 0.0000,  ..., 0.5798, 0.5271, 0.4014],\n         [0.4526, 0.0000, 0.0000,  ..., 0.5799, 0.5271, 0.3234],\n         [0.4521, 0.0000, 0.0000,  ..., 0.5927, 0.5271, 0.3727],\n         ...,\n         [0.5054, 0.0000, 0.0000,  ..., 0.5043, 0.5271, 0.5759],\n         [0.5054, 0.0000, 0.0000,  ..., 0.4972, 0.5271, 0.4939],\n         [0.5069, 0.0000, 0.0000,  ..., 0.4789, 0.5271, 0.4005]]),\n 'answer': tensor([5.0840e-01, 0.0000e+00, 0.0000e+00, 1.6227e-01, 3.5462e-01, 3.0731e-04,\n         4.5846e-01, 4.3566e-01, 2.8935e-03, 5.3085e-01, 5.2778e-01, 7.3980e-01,\n         2.8699e-01, 0.0000e+00, 4.3487e-01, 4.3588e-01, 8.0439e-03, 0.0000e+00,\n         0.0000e+00, 4.9958e-01, 0.0000e+00, 0.0000e+00, 8.6352e-01, 7.5135e-01,\n         0.0000e+00, 3.6630e-01, 3.2757e-01, 0.0000e+00, 5.4918e-01, 3.0727e-02,\n         9.8618e-01, 3.3413e-01, 0.0000e+00, 0.0000e+00, 0.0000e+00, 1.0000e+00,\n         0.0000e+00, 4.1100e-01, 5.6733e-01, 0.0000e+00, 9.9908e-01, 2.5674e-04,\n         0.0000e+00, 3.0918e-01, 4.0008e-01, 7.3885e-01, 6.0606e-01, 0.0000e+00,\n         4.5570e-01, 8.6741e-01, 0.0000e+00, 0.0000e+00, 5.8879e-01, 1.0000e+00,\n         1.5866e-01, 9.9217e-01, 4.9071e-02, 8.8798e-01, 0.0000e+00, 9.9505e-01,\n         0.0000e+00, 4.5498e-01, 0.0000e+00, 0.0000e+00, 0.0000e+00, 2.8737e-01,\n         0.0000e+00, 9.9751e-01, 3.9394e-01, 6.1164e-01, 0.0000e+00, 3.5332e-01,\n         2.6628e-01, 9.4593e-02, 1.8055e+00, 5.0450e-01, 4.6661e-01, 5.2712e-01,\n         3.5607e-01])}"
     },
     "metadata": {},
     "execution_count": 46
    }
   ],
   "source": [
    "HAI_DATASET_TEST = HaiDataset(\n",
    "    TEST_DF_RAW[TIMESTAMP_FIELD], TEST_DF, attacks=None\n",
    ")\n",
    "HAI_DATASET_VALIDATION[0]"
   ]
  },
  {
   "cell_type": "code",
   "execution_count": 47,
   "metadata": {
    "tags": []
   },
   "outputs": [
    {
     "output_type": "error",
     "ename": "RuntimeError",
     "evalue": "mat1 dim 1 must match mat2 dim 0",
     "traceback": [
      "\u001b[1;31m---------------------------------------------------------------------------\u001b[0m",
      "\u001b[1;31mRuntimeError\u001b[0m                              Traceback (most recent call last)",
      "\u001b[1;32m<timed exec>\u001b[0m in \u001b[0;36m<module>\u001b[1;34m\u001b[0m\n",
      "\u001b[1;32m<ipython-input-30-08d36be48b5a>\u001b[0m in \u001b[0;36minference\u001b[1;34m(dataset, model, batch_size)\u001b[0m\n\u001b[0;32m      6\u001b[0m             \u001b[0mgiven\u001b[0m \u001b[1;33m=\u001b[0m \u001b[0mbatch\u001b[0m\u001b[1;33m[\u001b[0m\u001b[1;34m\"given\"\u001b[0m\u001b[1;33m]\u001b[0m\u001b[1;33m.\u001b[0m\u001b[0mcuda\u001b[0m\u001b[1;33m(\u001b[0m\u001b[1;33m)\u001b[0m\u001b[1;33m\u001b[0m\u001b[1;33m\u001b[0m\u001b[0m\n\u001b[0;32m      7\u001b[0m             \u001b[0manswer\u001b[0m \u001b[1;33m=\u001b[0m \u001b[0mbatch\u001b[0m\u001b[1;33m[\u001b[0m\u001b[1;34m\"answer\"\u001b[0m\u001b[1;33m]\u001b[0m\u001b[1;33m.\u001b[0m\u001b[0mcuda\u001b[0m\u001b[1;33m(\u001b[0m\u001b[1;33m)\u001b[0m\u001b[1;33m\u001b[0m\u001b[1;33m\u001b[0m\u001b[0m\n\u001b[1;32m----> 8\u001b[1;33m             \u001b[0mguess\u001b[0m \u001b[1;33m=\u001b[0m \u001b[0mmodel\u001b[0m\u001b[1;33m(\u001b[0m\u001b[0mgiven\u001b[0m\u001b[1;33m)\u001b[0m\u001b[1;33m\u001b[0m\u001b[1;33m\u001b[0m\u001b[0m\n\u001b[0m\u001b[0;32m      9\u001b[0m             \u001b[0mts\u001b[0m\u001b[1;33m.\u001b[0m\u001b[0mappend\u001b[0m\u001b[1;33m(\u001b[0m\u001b[0mnp\u001b[0m\u001b[1;33m.\u001b[0m\u001b[0marray\u001b[0m\u001b[1;33m(\u001b[0m\u001b[0mbatch\u001b[0m\u001b[1;33m[\u001b[0m\u001b[1;34m\"ts\"\u001b[0m\u001b[1;33m]\u001b[0m\u001b[1;33m)\u001b[0m\u001b[1;33m)\u001b[0m\u001b[1;33m\u001b[0m\u001b[1;33m\u001b[0m\u001b[0m\n\u001b[0;32m     10\u001b[0m             \u001b[0mdist\u001b[0m\u001b[1;33m.\u001b[0m\u001b[0mappend\u001b[0m\u001b[1;33m(\u001b[0m\u001b[0mtorch\u001b[0m\u001b[1;33m.\u001b[0m\u001b[0mabs\u001b[0m\u001b[1;33m(\u001b[0m\u001b[0manswer\u001b[0m \u001b[1;33m-\u001b[0m \u001b[0mguess\u001b[0m\u001b[1;33m)\u001b[0m\u001b[1;33m.\u001b[0m\u001b[0mcpu\u001b[0m\u001b[1;33m(\u001b[0m\u001b[1;33m)\u001b[0m\u001b[1;33m.\u001b[0m\u001b[0mnumpy\u001b[0m\u001b[1;33m(\u001b[0m\u001b[1;33m)\u001b[0m\u001b[1;33m)\u001b[0m\u001b[1;33m\u001b[0m\u001b[1;33m\u001b[0m\u001b[0m\n",
      "\u001b[1;32mD:\\Anaconda3\\envs\\torch\\lib\\site-packages\\torch\\nn\\modules\\module.py\u001b[0m in \u001b[0;36m_call_impl\u001b[1;34m(self, *input, **kwargs)\u001b[0m\n\u001b[0;32m    720\u001b[0m             \u001b[0mresult\u001b[0m \u001b[1;33m=\u001b[0m \u001b[0mself\u001b[0m\u001b[1;33m.\u001b[0m\u001b[0m_slow_forward\u001b[0m\u001b[1;33m(\u001b[0m\u001b[1;33m*\u001b[0m\u001b[0minput\u001b[0m\u001b[1;33m,\u001b[0m \u001b[1;33m**\u001b[0m\u001b[0mkwargs\u001b[0m\u001b[1;33m)\u001b[0m\u001b[1;33m\u001b[0m\u001b[1;33m\u001b[0m\u001b[0m\n\u001b[0;32m    721\u001b[0m         \u001b[1;32melse\u001b[0m\u001b[1;33m:\u001b[0m\u001b[1;33m\u001b[0m\u001b[1;33m\u001b[0m\u001b[0m\n\u001b[1;32m--> 722\u001b[1;33m             \u001b[0mresult\u001b[0m \u001b[1;33m=\u001b[0m \u001b[0mself\u001b[0m\u001b[1;33m.\u001b[0m\u001b[0mforward\u001b[0m\u001b[1;33m(\u001b[0m\u001b[1;33m*\u001b[0m\u001b[0minput\u001b[0m\u001b[1;33m,\u001b[0m \u001b[1;33m**\u001b[0m\u001b[0mkwargs\u001b[0m\u001b[1;33m)\u001b[0m\u001b[1;33m\u001b[0m\u001b[1;33m\u001b[0m\u001b[0m\n\u001b[0m\u001b[0;32m    723\u001b[0m         for hook in itertools.chain(\n\u001b[0;32m    724\u001b[0m                 \u001b[0m_global_forward_hooks\u001b[0m\u001b[1;33m.\u001b[0m\u001b[0mvalues\u001b[0m\u001b[1;33m(\u001b[0m\u001b[1;33m)\u001b[0m\u001b[1;33m,\u001b[0m\u001b[1;33m\u001b[0m\u001b[1;33m\u001b[0m\u001b[0m\n",
      "\u001b[1;32m<ipython-input-18-7c62b720b7fe>\u001b[0m in \u001b[0;36mforward\u001b[1;34m(self, x)\u001b[0m\n\u001b[0;32m     25\u001b[0m         \u001b[0mout1\u001b[0m \u001b[1;33m=\u001b[0m \u001b[0mself\u001b[0m\u001b[1;33m.\u001b[0m\u001b[0melu\u001b[0m\u001b[1;33m(\u001b[0m\u001b[0mself\u001b[0m\u001b[1;33m.\u001b[0m\u001b[0mlin\u001b[0m\u001b[1;33m(\u001b[0m\u001b[0mnom\u001b[0m\u001b[1;33m)\u001b[0m\u001b[1;33m)\u001b[0m\u001b[1;33m\u001b[0m\u001b[1;33m\u001b[0m\u001b[0m\n\u001b[0;32m     26\u001b[0m         \u001b[0mout1\u001b[0m \u001b[1;33m=\u001b[0m \u001b[0mself\u001b[0m\u001b[1;33m.\u001b[0m\u001b[0melu\u001b[0m\u001b[1;33m(\u001b[0m\u001b[0mself\u001b[0m\u001b[1;33m.\u001b[0m\u001b[0mlin2\u001b[0m\u001b[1;33m(\u001b[0m\u001b[0mout1\u001b[0m\u001b[1;33m)\u001b[0m\u001b[1;33m)\u001b[0m\u001b[1;33m\u001b[0m\u001b[1;33m\u001b[0m\u001b[0m\n\u001b[1;32m---> 27\u001b[1;33m         \u001b[0mout\u001b[0m \u001b[1;33m=\u001b[0m \u001b[0mself\u001b[0m\u001b[1;33m.\u001b[0m\u001b[0mfc\u001b[0m\u001b[1;33m(\u001b[0m\u001b[0mout1\u001b[0m\u001b[1;33m)\u001b[0m\u001b[1;33m\u001b[0m\u001b[1;33m\u001b[0m\u001b[0m\n\u001b[0m\u001b[0;32m     28\u001b[0m         \u001b[1;32mreturn\u001b[0m \u001b[0mx\u001b[0m\u001b[1;33m[\u001b[0m\u001b[1;36m0\u001b[0m\u001b[1;33m]\u001b[0m \u001b[1;33m+\u001b[0m \u001b[0mout\u001b[0m\u001b[1;33m\u001b[0m\u001b[1;33m\u001b[0m\u001b[0m\n",
      "\u001b[1;32mD:\\Anaconda3\\envs\\torch\\lib\\site-packages\\torch\\nn\\modules\\module.py\u001b[0m in \u001b[0;36m_call_impl\u001b[1;34m(self, *input, **kwargs)\u001b[0m\n\u001b[0;32m    720\u001b[0m             \u001b[0mresult\u001b[0m \u001b[1;33m=\u001b[0m \u001b[0mself\u001b[0m\u001b[1;33m.\u001b[0m\u001b[0m_slow_forward\u001b[0m\u001b[1;33m(\u001b[0m\u001b[1;33m*\u001b[0m\u001b[0minput\u001b[0m\u001b[1;33m,\u001b[0m \u001b[1;33m**\u001b[0m\u001b[0mkwargs\u001b[0m\u001b[1;33m)\u001b[0m\u001b[1;33m\u001b[0m\u001b[1;33m\u001b[0m\u001b[0m\n\u001b[0;32m    721\u001b[0m         \u001b[1;32melse\u001b[0m\u001b[1;33m:\u001b[0m\u001b[1;33m\u001b[0m\u001b[1;33m\u001b[0m\u001b[0m\n\u001b[1;32m--> 722\u001b[1;33m             \u001b[0mresult\u001b[0m \u001b[1;33m=\u001b[0m \u001b[0mself\u001b[0m\u001b[1;33m.\u001b[0m\u001b[0mforward\u001b[0m\u001b[1;33m(\u001b[0m\u001b[1;33m*\u001b[0m\u001b[0minput\u001b[0m\u001b[1;33m,\u001b[0m \u001b[1;33m**\u001b[0m\u001b[0mkwargs\u001b[0m\u001b[1;33m)\u001b[0m\u001b[1;33m\u001b[0m\u001b[1;33m\u001b[0m\u001b[0m\n\u001b[0m\u001b[0;32m    723\u001b[0m         for hook in itertools.chain(\n\u001b[0;32m    724\u001b[0m                 \u001b[0m_global_forward_hooks\u001b[0m\u001b[1;33m.\u001b[0m\u001b[0mvalues\u001b[0m\u001b[1;33m(\u001b[0m\u001b[1;33m)\u001b[0m\u001b[1;33m,\u001b[0m\u001b[1;33m\u001b[0m\u001b[1;33m\u001b[0m\u001b[0m\n",
      "\u001b[1;32mD:\\Anaconda3\\envs\\torch\\lib\\site-packages\\torch\\nn\\modules\\linear.py\u001b[0m in \u001b[0;36mforward\u001b[1;34m(self, input)\u001b[0m\n\u001b[0;32m     89\u001b[0m \u001b[1;33m\u001b[0m\u001b[0m\n\u001b[0;32m     90\u001b[0m     \u001b[1;32mdef\u001b[0m \u001b[0mforward\u001b[0m\u001b[1;33m(\u001b[0m\u001b[0mself\u001b[0m\u001b[1;33m,\u001b[0m \u001b[0minput\u001b[0m\u001b[1;33m:\u001b[0m \u001b[0mTensor\u001b[0m\u001b[1;33m)\u001b[0m \u001b[1;33m->\u001b[0m \u001b[0mTensor\u001b[0m\u001b[1;33m:\u001b[0m\u001b[1;33m\u001b[0m\u001b[1;33m\u001b[0m\u001b[0m\n\u001b[1;32m---> 91\u001b[1;33m         \u001b[1;32mreturn\u001b[0m \u001b[0mF\u001b[0m\u001b[1;33m.\u001b[0m\u001b[0mlinear\u001b[0m\u001b[1;33m(\u001b[0m\u001b[0minput\u001b[0m\u001b[1;33m,\u001b[0m \u001b[0mself\u001b[0m\u001b[1;33m.\u001b[0m\u001b[0mweight\u001b[0m\u001b[1;33m,\u001b[0m \u001b[0mself\u001b[0m\u001b[1;33m.\u001b[0m\u001b[0mbias\u001b[0m\u001b[1;33m)\u001b[0m\u001b[1;33m\u001b[0m\u001b[1;33m\u001b[0m\u001b[0m\n\u001b[0m\u001b[0;32m     92\u001b[0m \u001b[1;33m\u001b[0m\u001b[0m\n\u001b[0;32m     93\u001b[0m     \u001b[1;32mdef\u001b[0m \u001b[0mextra_repr\u001b[0m\u001b[1;33m(\u001b[0m\u001b[0mself\u001b[0m\u001b[1;33m)\u001b[0m \u001b[1;33m->\u001b[0m \u001b[0mstr\u001b[0m\u001b[1;33m:\u001b[0m\u001b[1;33m\u001b[0m\u001b[1;33m\u001b[0m\u001b[0m\n",
      "\u001b[1;32mD:\\Anaconda3\\envs\\torch\\lib\\site-packages\\torch\\nn\\functional.py\u001b[0m in \u001b[0;36mlinear\u001b[1;34m(input, weight, bias)\u001b[0m\n\u001b[0;32m   1672\u001b[0m     \u001b[1;32mif\u001b[0m \u001b[0minput\u001b[0m\u001b[1;33m.\u001b[0m\u001b[0mdim\u001b[0m\u001b[1;33m(\u001b[0m\u001b[1;33m)\u001b[0m \u001b[1;33m==\u001b[0m \u001b[1;36m2\u001b[0m \u001b[1;32mand\u001b[0m \u001b[0mbias\u001b[0m \u001b[1;32mis\u001b[0m \u001b[1;32mnot\u001b[0m \u001b[1;32mNone\u001b[0m\u001b[1;33m:\u001b[0m\u001b[1;33m\u001b[0m\u001b[1;33m\u001b[0m\u001b[0m\n\u001b[0;32m   1673\u001b[0m         \u001b[1;31m# fused op is marginally faster\u001b[0m\u001b[1;33m\u001b[0m\u001b[1;33m\u001b[0m\u001b[1;33m\u001b[0m\u001b[0m\n\u001b[1;32m-> 1674\u001b[1;33m         \u001b[0mret\u001b[0m \u001b[1;33m=\u001b[0m \u001b[0mtorch\u001b[0m\u001b[1;33m.\u001b[0m\u001b[0maddmm\u001b[0m\u001b[1;33m(\u001b[0m\u001b[0mbias\u001b[0m\u001b[1;33m,\u001b[0m \u001b[0minput\u001b[0m\u001b[1;33m,\u001b[0m \u001b[0mweight\u001b[0m\u001b[1;33m.\u001b[0m\u001b[0mt\u001b[0m\u001b[1;33m(\u001b[0m\u001b[1;33m)\u001b[0m\u001b[1;33m)\u001b[0m\u001b[1;33m\u001b[0m\u001b[1;33m\u001b[0m\u001b[0m\n\u001b[0m\u001b[0;32m   1675\u001b[0m     \u001b[1;32melse\u001b[0m\u001b[1;33m:\u001b[0m\u001b[1;33m\u001b[0m\u001b[1;33m\u001b[0m\u001b[0m\n\u001b[0;32m   1676\u001b[0m         \u001b[0moutput\u001b[0m \u001b[1;33m=\u001b[0m \u001b[0minput\u001b[0m\u001b[1;33m.\u001b[0m\u001b[0mmatmul\u001b[0m\u001b[1;33m(\u001b[0m\u001b[0mweight\u001b[0m\u001b[1;33m.\u001b[0m\u001b[0mt\u001b[0m\u001b[1;33m(\u001b[0m\u001b[1;33m)\u001b[0m\u001b[1;33m)\u001b[0m\u001b[1;33m\u001b[0m\u001b[1;33m\u001b[0m\u001b[0m\n",
      "\u001b[1;31mRuntimeError\u001b[0m: mat1 dim 1 must match mat2 dim 0"
     ]
    }
   ],
   "source": [
    "%%time\n",
    "MODEL.eval()\n",
    "CHECK_TS, CHECK_DIST, CHECK_ATT = inference(HAI_DATASET_TEST, MODEL, BATCH_SIZE)\n"
   ]
  },
  {
   "cell_type": "code",
   "execution_count": 48,
   "metadata": {},
   "outputs": [
    {
     "output_type": "error",
     "ename": "NameError",
     "evalue": "name 'CHECK_DIST' is not defined",
     "traceback": [
      "\u001b[1;31m---------------------------------------------------------------------------\u001b[0m",
      "\u001b[1;31mNameError\u001b[0m                                 Traceback (most recent call last)",
      "\u001b[1;32m<ipython-input-48-7c755675f3a8>\u001b[0m in \u001b[0;36m<module>\u001b[1;34m\u001b[0m\n\u001b[1;32m----> 1\u001b[1;33m \u001b[0mANOMALY_SCORE\u001b[0m \u001b[1;33m=\u001b[0m \u001b[0mnp\u001b[0m\u001b[1;33m.\u001b[0m\u001b[0mmean\u001b[0m\u001b[1;33m(\u001b[0m\u001b[0mCHECK_DIST\u001b[0m\u001b[1;33m,\u001b[0m \u001b[0maxis\u001b[0m\u001b[1;33m=\u001b[0m\u001b[1;36m1\u001b[0m\u001b[1;33m)\u001b[0m\u001b[1;33m\u001b[0m\u001b[1;33m\u001b[0m\u001b[0m\n\u001b[0m",
      "\u001b[1;31mNameError\u001b[0m: name 'CHECK_DIST' is not defined"
     ]
    }
   ],
   "source": [
    "ANOMALY_SCORE = np.mean(CHECK_DIST, axis=1)\n"
   ]
  },
  {
   "cell_type": "code",
   "execution_count": 49,
   "metadata": {},
   "outputs": [
    {
     "output_type": "error",
     "ename": "NameError",
     "evalue": "name 'ANOMALY_SCORE' is not defined",
     "traceback": [
      "\u001b[1;31m---------------------------------------------------------------------------\u001b[0m",
      "\u001b[1;31mNameError\u001b[0m                                 Traceback (most recent call last)",
      "\u001b[1;32m<ipython-input-49-a328a91d55ae>\u001b[0m in \u001b[0;36m<module>\u001b[1;34m\u001b[0m\n\u001b[1;32m----> 1\u001b[1;33m \u001b[0mcheck_graph\u001b[0m\u001b[1;33m(\u001b[0m\u001b[0mANOMALY_SCORE\u001b[0m\u001b[1;33m,\u001b[0m \u001b[0mCHECK_ATT\u001b[0m\u001b[1;33m,\u001b[0m \u001b[0mpiece\u001b[0m\u001b[1;33m=\u001b[0m\u001b[1;36m3\u001b[0m\u001b[1;33m,\u001b[0m \u001b[0mTHRESHOLD\u001b[0m\u001b[1;33m=\u001b[0m\u001b[0mTHRESHOLD\u001b[0m\u001b[1;33m)\u001b[0m\u001b[1;33m\u001b[0m\u001b[1;33m\u001b[0m\u001b[0m\n\u001b[0m",
      "\u001b[1;31mNameError\u001b[0m: name 'ANOMALY_SCORE' is not defined"
     ]
    }
   ],
   "source": [
    "check_graph(ANOMALY_SCORE, CHECK_ATT, piece=3, THRESHOLD=THRESHOLD)"
   ]
  },
  {
   "cell_type": "code",
   "execution_count": 50,
   "metadata": {},
   "outputs": [
    {
     "output_type": "error",
     "ename": "NameError",
     "evalue": "name 'ANOMALY_SCORE' is not defined",
     "traceback": [
      "\u001b[1;31m---------------------------------------------------------------------------\u001b[0m",
      "\u001b[1;31mNameError\u001b[0m                                 Traceback (most recent call last)",
      "\u001b[1;32m<ipython-input-50-426a02336fa2>\u001b[0m in \u001b[0;36m<module>\u001b[1;34m\u001b[0m\n\u001b[1;32m----> 1\u001b[1;33m \u001b[0mLABELS\u001b[0m \u001b[1;33m=\u001b[0m \u001b[0mput_labels\u001b[0m\u001b[1;33m(\u001b[0m\u001b[0mANOMALY_SCORE\u001b[0m\u001b[1;33m,\u001b[0m \u001b[0mTHRESHOLD\u001b[0m\u001b[1;33m)\u001b[0m\u001b[1;33m\u001b[0m\u001b[1;33m\u001b[0m\u001b[0m\n\u001b[0m\u001b[0;32m      2\u001b[0m \u001b[0mLABELS\u001b[0m\u001b[1;33m,\u001b[0m \u001b[0mLABELS\u001b[0m\u001b[1;33m.\u001b[0m\u001b[0mshape\u001b[0m\u001b[1;33m\u001b[0m\u001b[1;33m\u001b[0m\u001b[0m\n",
      "\u001b[1;31mNameError\u001b[0m: name 'ANOMALY_SCORE' is not defined"
     ]
    }
   ],
   "source": [
    "LABELS = put_labels(ANOMALY_SCORE, THRESHOLD)\n",
    "LABELS, LABELS.shape"
   ]
  },
  {
   "cell_type": "code",
   "execution_count": 51,
   "metadata": {},
   "outputs": [
    {
     "output_type": "error",
     "ename": "NameError",
     "evalue": "name 'LABELS' is not defined",
     "traceback": [
      "\u001b[1;31m---------------------------------------------------------------------------\u001b[0m",
      "\u001b[1;31mNameError\u001b[0m                                 Traceback (most recent call last)",
      "\u001b[1;32m<ipython-input-51-12f35bba4a3f>\u001b[0m in \u001b[0;36m<module>\u001b[1;34m\u001b[0m\n\u001b[0;32m      1\u001b[0m \u001b[0msubmission\u001b[0m \u001b[1;33m=\u001b[0m \u001b[0mpd\u001b[0m\u001b[1;33m.\u001b[0m\u001b[0mread_csv\u001b[0m\u001b[1;33m(\u001b[0m\u001b[1;34m'sample_submission.csv'\u001b[0m\u001b[1;33m)\u001b[0m\u001b[1;33m\u001b[0m\u001b[1;33m\u001b[0m\u001b[0m\n\u001b[0;32m      2\u001b[0m \u001b[0msubmission\u001b[0m\u001b[1;33m.\u001b[0m\u001b[0mindex\u001b[0m \u001b[1;33m=\u001b[0m \u001b[0msubmission\u001b[0m\u001b[1;33m[\u001b[0m\u001b[1;34m'time'\u001b[0m\u001b[1;33m]\u001b[0m\u001b[1;33m\u001b[0m\u001b[1;33m\u001b[0m\u001b[0m\n\u001b[1;32m----> 3\u001b[1;33m \u001b[0msubmission\u001b[0m\u001b[1;33m.\u001b[0m\u001b[0mloc\u001b[0m\u001b[1;33m[\u001b[0m\u001b[0mCHECK_TS\u001b[0m\u001b[1;33m,\u001b[0m\u001b[1;34m'attack'\u001b[0m\u001b[1;33m]\u001b[0m \u001b[1;33m=\u001b[0m \u001b[0mLABELS\u001b[0m\u001b[1;33m\u001b[0m\u001b[1;33m\u001b[0m\u001b[0m\n\u001b[0m\u001b[0;32m      4\u001b[0m \u001b[0msubmission\u001b[0m\u001b[1;33m\u001b[0m\u001b[1;33m\u001b[0m\u001b[0m\n",
      "\u001b[1;31mNameError\u001b[0m: name 'LABELS' is not defined"
     ]
    }
   ],
   "source": [
    "submission = pd.read_csv('sample_submission.csv')\n",
    "submission.index = submission['time']\n",
    "submission.loc[CHECK_TS,'attack'] = LABELS\n",
    "submission"
   ]
  },
  {
   "cell_type": "code",
   "execution_count": 52,
   "metadata": {},
   "outputs": [],
   "source": [
    "submission.to_csv('sub.csv', index=False)"
   ]
  },
  {
   "cell_type": "code",
   "execution_count": null,
   "metadata": {},
   "outputs": [],
   "source": []
  },
  {
   "cell_type": "code",
   "execution_count": null,
   "metadata": {},
   "outputs": [],
   "source": []
  }
 ],
 "metadata": {
  "kernelspec": {
   "display_name": "Python 3.7.4 64-bit ('torch': conda)",
   "language": "python",
   "name": "python37464bittorchcondafe6a708947064b6fb5510940ab1e15ac"
  },
  "language_info": {
   "codemirror_mode": {
    "name": "ipython",
    "version": 3
   },
   "file_extension": ".py",
   "mimetype": "text/x-python",
   "name": "python",
   "nbconvert_exporter": "python",
   "pygments_lexer": "ipython3",
   "version": "3.6.10-final"
  }
 },
 "nbformat": 4,
 "nbformat_minor": 4
}