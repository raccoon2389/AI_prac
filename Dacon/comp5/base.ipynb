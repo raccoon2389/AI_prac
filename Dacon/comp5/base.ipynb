{
 "metadata": {
  "language_info": {
   "codemirror_mode": {
    "name": "ipython",
    "version": 3
   },
   "file_extension": ".py",
   "mimetype": "text/x-python",
   "name": "python",
   "nbconvert_exporter": "python",
   "pygments_lexer": "ipython3",
   "version": "3.7.7-final"
  },
  "orig_nbformat": 2,
  "kernelspec": {
   "name": "python_defaultSpec_1597901956712",
   "display_name": "Python 3.7.7 64-bit ('bit': conda)"
  }
 },
 "nbformat": 4,
 "nbformat_minor": 2,
 "cells": [
  {
   "cell_type": "code",
   "execution_count": 1,
   "metadata": {},
   "outputs": [],
   "source": [
    "# %reload_ext watermark\n",
    "#%reload_ext lab_black"
   ]
  },
  {
   "cell_type": "code",
   "execution_count": 2,
   "metadata": {},
   "outputs": [],
   "source": [
    "# %watermark -v -p dateutil,numpy,matplotlib,pandas,torch,tqdm,TaPR_pkg,cv2"
   ]
  },
  {
   "cell_type": "code",
   "execution_count": 3,
   "metadata": {},
   "outputs": [],
   "source": [
    "import sys\n",
    "\n",
    "from pathlib import Path\n",
    "from datetime import timedelta\n",
    "\n",
    "import dateutil\n",
    "import numpy as np\n",
    "import matplotlib.pyplot as plt\n",
    "import pandas as pd\n",
    "import torch\n",
    "\n",
    "from torch.utils.data import Dataset, DataLoader\n",
    "from tqdm.notebook import trange\n",
    "from TaPR_pkg import etapr"
   ]
  },
  {
   "cell_type": "code",
   "execution_count": 4,
   "metadata": {
    "tags": []
   },
   "outputs": [
    {
     "output_type": "stream",
     "name": "stdout",
     "text": "[WindowsPath('training/train1.csv'), WindowsPath('training/train2.csv'), WindowsPath('training/train3.csv')]\n[WindowsPath('testing/test1.csv'), WindowsPath('testing/test2.csv'), WindowsPath('testing/test3.csv'), WindowsPath('testing/test4.csv')]\n[WindowsPath('validation/validation.csv')]\n"
    }
   ],
   "source": [
    "TRAIN_DATASET = sorted([x for x in Path(\"training/\").glob(\"*.csv\")])\n",
    "print(TRAIN_DATASET)\n",
    "\n",
    "TEST_DATASET = sorted([x for x in Path(\"testing/\").glob(\"*.csv\")])\n",
    "print(TEST_DATASET)\n",
    "\n",
    "VALIDATION_DATASET = sorted([x for x in Path(\"validation/\").glob(\"*.csv\")])\n",
    "print(VALIDATION_DATASET)"
   ]
  },
  {
   "cell_type": "code",
   "execution_count": 5,
   "metadata": {},
   "outputs": [],
   "source": [
    "def dataframe_from_csv(target):\n",
    "    return pd.read_csv(target).rename(columns=lambda x: x.strip())\n",
    "\n",
    "def dataframe_from_csvs(targets):\n",
    "    return pd.concat([dataframe_from_csv(x) for x in targets])"
   ]
  },
  {
   "cell_type": "code",
   "execution_count": 6,
   "metadata": {},
   "outputs": [
    {
     "output_type": "execute_result",
     "data": {
      "text/plain": "                       time        C01  C02  C03       C04     C05      C06  \\\n0       2020-07-11 00:00:00  395.19528   12   10  52.80456 -1.2648 -1.87531   \n1       2020-07-11 00:00:01  395.14420   12   10  52.78931 -1.3147 -1.88294   \n2       2020-07-11 00:00:02  395.14420   12   10  52.79694 -1.4032 -1.88294   \n3       2020-07-11 00:00:03  395.19528   12   10  52.79694 -1.6074 -1.88294   \n4       2020-07-11 00:00:04  395.34866   12   10  52.79694 -1.7811 -1.88294   \n...                     ...        ...  ...  ...       ...     ...      ...   \n478796  2020-08-10 10:59:56  387.27219   12   10  66.72057 -0.9331 -1.84479   \n478797  2020-08-10 10:59:57  387.52774   12   10  66.72057 -0.9996 -1.84479   \n478798  2020-08-10 10:59:58  387.47665   12   10  66.72057 -1.2560 -1.84479   \n478799  2020-08-10 10:59:59  387.73221   12   10  66.72057 -1.4912 -1.84479   \n478800  2020-08-10 11:00:00  387.52774   12   10  66.72057 -1.5727 -1.84479   \n\n              C07       C08      C09  ...        C70  C71      C72       C73  \\\n0       779.59595  28.02645  10832.0  ...  808.29620  0.0  1.36810   8.79882   \n1       780.67328  28.02473  10984.0  ...  819.16809  0.0  1.36810   8.78811   \n2       780.06574  28.02817  11120.0  ...  823.51697  0.0  1.36734   8.81787   \n3       780.15265  28.02301  11256.0  ...  823.95172  0.0  1.36734   8.87493   \n4       781.83160  28.03595  11384.0  ...  827.86560  0.0  1.36810   8.83838   \n...           ...       ...      ...  ...        ...  ...      ...       ...   \n478796  781.87915  28.02389    880.0  ...  944.84705  0.0  1.32843  15.17817   \n478797  787.65070  28.02385    840.0  ...  940.49835  0.0  1.32843  15.17344   \n478798  788.50256  28.03085    792.0  ...  935.71472  0.0  1.32919  15.16443   \n478799  785.80316  28.02649    752.0  ...  944.84705  0.0  1.32843  15.09001   \n478800  780.21381  28.02476    720.0  ...  951.80505  0.0  1.32919  15.08672   \n\n             C74       C75        C76        C77      C78     C79  \n0       35.43700  12.01782  305.03113  301.35992  33.6555  6.0951  \n1       35.45227  12.01782  304.27161  297.43567  33.6555  5.9262  \n2       35.45227  12.01782  303.89179  298.66534  33.6555  5.8101  \n3       35.43700  12.01782  303.67474  298.06860  33.6555  5.7509  \n4       35.45227  12.01782  303.22266  296.53137  33.6555  5.8547  \n...          ...       ...        ...        ...      ...     ...  \n478796  35.14710  11.79657  316.89453  296.54950  32.0000  6.6026  \n478797  35.13183  11.79657  315.59247  296.15161  32.0000  6.3894  \n478798  35.13183  11.79657  313.92865  293.40277  32.0000  6.2584  \n478799  35.14710  11.79657  315.61054  302.58972  32.0000  6.4150  \n478800  35.14710  11.79657  317.23816  309.00964  32.0000  6.6288  \n\n[921603 rows x 80 columns]",
      "text/html": "<div>\n<style scoped>\n    .dataframe tbody tr th:only-of-type {\n        vertical-align: middle;\n    }\n\n    .dataframe tbody tr th {\n        vertical-align: top;\n    }\n\n    .dataframe thead th {\n        text-align: right;\n    }\n</style>\n<table border=\"1\" class=\"dataframe\">\n  <thead>\n    <tr style=\"text-align: right;\">\n      <th></th>\n      <th>time</th>\n      <th>C01</th>\n      <th>C02</th>\n      <th>C03</th>\n      <th>C04</th>\n      <th>C05</th>\n      <th>C06</th>\n      <th>C07</th>\n      <th>C08</th>\n      <th>C09</th>\n      <th>...</th>\n      <th>C70</th>\n      <th>C71</th>\n      <th>C72</th>\n      <th>C73</th>\n      <th>C74</th>\n      <th>C75</th>\n      <th>C76</th>\n      <th>C77</th>\n      <th>C78</th>\n      <th>C79</th>\n    </tr>\n  </thead>\n  <tbody>\n    <tr>\n      <th>0</th>\n      <td>2020-07-11 00:00:00</td>\n      <td>395.19528</td>\n      <td>12</td>\n      <td>10</td>\n      <td>52.80456</td>\n      <td>-1.2648</td>\n      <td>-1.87531</td>\n      <td>779.59595</td>\n      <td>28.02645</td>\n      <td>10832.0</td>\n      <td>...</td>\n      <td>808.29620</td>\n      <td>0.0</td>\n      <td>1.36810</td>\n      <td>8.79882</td>\n      <td>35.43700</td>\n      <td>12.01782</td>\n      <td>305.03113</td>\n      <td>301.35992</td>\n      <td>33.6555</td>\n      <td>6.0951</td>\n    </tr>\n    <tr>\n      <th>1</th>\n      <td>2020-07-11 00:00:01</td>\n      <td>395.14420</td>\n      <td>12</td>\n      <td>10</td>\n      <td>52.78931</td>\n      <td>-1.3147</td>\n      <td>-1.88294</td>\n      <td>780.67328</td>\n      <td>28.02473</td>\n      <td>10984.0</td>\n      <td>...</td>\n      <td>819.16809</td>\n      <td>0.0</td>\n      <td>1.36810</td>\n      <td>8.78811</td>\n      <td>35.45227</td>\n      <td>12.01782</td>\n      <td>304.27161</td>\n      <td>297.43567</td>\n      <td>33.6555</td>\n      <td>5.9262</td>\n    </tr>\n    <tr>\n      <th>2</th>\n      <td>2020-07-11 00:00:02</td>\n      <td>395.14420</td>\n      <td>12</td>\n      <td>10</td>\n      <td>52.79694</td>\n      <td>-1.4032</td>\n      <td>-1.88294</td>\n      <td>780.06574</td>\n      <td>28.02817</td>\n      <td>11120.0</td>\n      <td>...</td>\n      <td>823.51697</td>\n      <td>0.0</td>\n      <td>1.36734</td>\n      <td>8.81787</td>\n      <td>35.45227</td>\n      <td>12.01782</td>\n      <td>303.89179</td>\n      <td>298.66534</td>\n      <td>33.6555</td>\n      <td>5.8101</td>\n    </tr>\n    <tr>\n      <th>3</th>\n      <td>2020-07-11 00:00:03</td>\n      <td>395.19528</td>\n      <td>12</td>\n      <td>10</td>\n      <td>52.79694</td>\n      <td>-1.6074</td>\n      <td>-1.88294</td>\n      <td>780.15265</td>\n      <td>28.02301</td>\n      <td>11256.0</td>\n      <td>...</td>\n      <td>823.95172</td>\n      <td>0.0</td>\n      <td>1.36734</td>\n      <td>8.87493</td>\n      <td>35.43700</td>\n      <td>12.01782</td>\n      <td>303.67474</td>\n      <td>298.06860</td>\n      <td>33.6555</td>\n      <td>5.7509</td>\n    </tr>\n    <tr>\n      <th>4</th>\n      <td>2020-07-11 00:00:04</td>\n      <td>395.34866</td>\n      <td>12</td>\n      <td>10</td>\n      <td>52.79694</td>\n      <td>-1.7811</td>\n      <td>-1.88294</td>\n      <td>781.83160</td>\n      <td>28.03595</td>\n      <td>11384.0</td>\n      <td>...</td>\n      <td>827.86560</td>\n      <td>0.0</td>\n      <td>1.36810</td>\n      <td>8.83838</td>\n      <td>35.45227</td>\n      <td>12.01782</td>\n      <td>303.22266</td>\n      <td>296.53137</td>\n      <td>33.6555</td>\n      <td>5.8547</td>\n    </tr>\n    <tr>\n      <th>...</th>\n      <td>...</td>\n      <td>...</td>\n      <td>...</td>\n      <td>...</td>\n      <td>...</td>\n      <td>...</td>\n      <td>...</td>\n      <td>...</td>\n      <td>...</td>\n      <td>...</td>\n      <td>...</td>\n      <td>...</td>\n      <td>...</td>\n      <td>...</td>\n      <td>...</td>\n      <td>...</td>\n      <td>...</td>\n      <td>...</td>\n      <td>...</td>\n      <td>...</td>\n      <td>...</td>\n    </tr>\n    <tr>\n      <th>478796</th>\n      <td>2020-08-10 10:59:56</td>\n      <td>387.27219</td>\n      <td>12</td>\n      <td>10</td>\n      <td>66.72057</td>\n      <td>-0.9331</td>\n      <td>-1.84479</td>\n      <td>781.87915</td>\n      <td>28.02389</td>\n      <td>880.0</td>\n      <td>...</td>\n      <td>944.84705</td>\n      <td>0.0</td>\n      <td>1.32843</td>\n      <td>15.17817</td>\n      <td>35.14710</td>\n      <td>11.79657</td>\n      <td>316.89453</td>\n      <td>296.54950</td>\n      <td>32.0000</td>\n      <td>6.6026</td>\n    </tr>\n    <tr>\n      <th>478797</th>\n      <td>2020-08-10 10:59:57</td>\n      <td>387.52774</td>\n      <td>12</td>\n      <td>10</td>\n      <td>66.72057</td>\n      <td>-0.9996</td>\n      <td>-1.84479</td>\n      <td>787.65070</td>\n      <td>28.02385</td>\n      <td>840.0</td>\n      <td>...</td>\n      <td>940.49835</td>\n      <td>0.0</td>\n      <td>1.32843</td>\n      <td>15.17344</td>\n      <td>35.13183</td>\n      <td>11.79657</td>\n      <td>315.59247</td>\n      <td>296.15161</td>\n      <td>32.0000</td>\n      <td>6.3894</td>\n    </tr>\n    <tr>\n      <th>478798</th>\n      <td>2020-08-10 10:59:58</td>\n      <td>387.47665</td>\n      <td>12</td>\n      <td>10</td>\n      <td>66.72057</td>\n      <td>-1.2560</td>\n      <td>-1.84479</td>\n      <td>788.50256</td>\n      <td>28.03085</td>\n      <td>792.0</td>\n      <td>...</td>\n      <td>935.71472</td>\n      <td>0.0</td>\n      <td>1.32919</td>\n      <td>15.16443</td>\n      <td>35.13183</td>\n      <td>11.79657</td>\n      <td>313.92865</td>\n      <td>293.40277</td>\n      <td>32.0000</td>\n      <td>6.2584</td>\n    </tr>\n    <tr>\n      <th>478799</th>\n      <td>2020-08-10 10:59:59</td>\n      <td>387.73221</td>\n      <td>12</td>\n      <td>10</td>\n      <td>66.72057</td>\n      <td>-1.4912</td>\n      <td>-1.84479</td>\n      <td>785.80316</td>\n      <td>28.02649</td>\n      <td>752.0</td>\n      <td>...</td>\n      <td>944.84705</td>\n      <td>0.0</td>\n      <td>1.32843</td>\n      <td>15.09001</td>\n      <td>35.14710</td>\n      <td>11.79657</td>\n      <td>315.61054</td>\n      <td>302.58972</td>\n      <td>32.0000</td>\n      <td>6.4150</td>\n    </tr>\n    <tr>\n      <th>478800</th>\n      <td>2020-08-10 11:00:00</td>\n      <td>387.52774</td>\n      <td>12</td>\n      <td>10</td>\n      <td>66.72057</td>\n      <td>-1.5727</td>\n      <td>-1.84479</td>\n      <td>780.21381</td>\n      <td>28.02476</td>\n      <td>720.0</td>\n      <td>...</td>\n      <td>951.80505</td>\n      <td>0.0</td>\n      <td>1.32919</td>\n      <td>15.08672</td>\n      <td>35.14710</td>\n      <td>11.79657</td>\n      <td>317.23816</td>\n      <td>309.00964</td>\n      <td>32.0000</td>\n      <td>6.6288</td>\n    </tr>\n  </tbody>\n</table>\n<p>921603 rows × 80 columns</p>\n</div>"
     },
     "metadata": {},
     "execution_count": 6
    }
   ],
   "source": [
    "TRAIN_DF_RAW = dataframe_from_csvs(TRAIN_DATASET)\n",
    "TRAIN_DF_RAW"
   ]
  },
  {
   "cell_type": "code",
   "execution_count": 7,
   "metadata": {},
   "outputs": [
    {
     "output_type": "execute_result",
     "data": {
      "text/plain": "Index(['C01', 'C02', 'C03', 'C04', 'C05', 'C06', 'C07', 'C08', 'C09', 'C10',\n       'C11', 'C12', 'C13', 'C14', 'C15', 'C16', 'C17', 'C18', 'C19', 'C20',\n       'C21', 'C22', 'C23', 'C24', 'C25', 'C26', 'C27', 'C28', 'C29', 'C30',\n       'C31', 'C32', 'C33', 'C34', 'C35', 'C36', 'C37', 'C38', 'C39', 'C40',\n       'C41', 'C42', 'C43', 'C44', 'C45', 'C46', 'C47', 'C48', 'C49', 'C50',\n       'C51', 'C52', 'C53', 'C54', 'C55', 'C56', 'C57', 'C58', 'C59', 'C60',\n       'C61', 'C62', 'C63', 'C64', 'C65', 'C66', 'C67', 'C68', 'C69', 'C70',\n       'C71', 'C72', 'C73', 'C74', 'C75', 'C76', 'C77', 'C78', 'C79'],\n      dtype='object')"
     },
     "metadata": {},
     "execution_count": 7
    }
   ],
   "source": [
    "TIMESTAMP_FIELD = \"time\"\n",
    "IDSTAMP_FIELD = 'id'\n",
    "ATTACK_FIELD = \"attack\"\n",
    "VALID_COLUMNS_IN_TRAIN_DATASET = TRAIN_DF_RAW.columns.drop([TIMESTAMP_FIELD])\n",
    "VALID_COLUMNS_IN_TRAIN_DATASET"
   ]
  },
  {
   "cell_type": "code",
   "execution_count": 8,
   "metadata": {},
   "outputs": [],
   "source": [
    "TAG_MIN = TRAIN_DF_RAW[VALID_COLUMNS_IN_TRAIN_DATASET].min()\n",
    "TAG_MAX = TRAIN_DF_RAW[VALID_COLUMNS_IN_TRAIN_DATASET].max()"
   ]
  },
  {
   "cell_type": "code",
   "execution_count": 9,
   "metadata": {},
   "outputs": [],
   "source": [
    "def normalize(df):\n",
    "    ndf = df.copy()\n",
    "    for c in df.columns:\n",
    "        if TAG_MIN[c] == TAG_MAX[c]:\n",
    "            ndf[c] = df[c] - TAG_MIN[c]\n",
    "        else:\n",
    "            ndf[c] = (df[c] - TAG_MIN[c]) / (TAG_MAX[c] - TAG_MIN[c])\n",
    "    return ndf"
   ]
  },
  {
   "cell_type": "code",
   "execution_count": 10,
   "metadata": {},
   "outputs": [
    {
     "output_type": "execute_result",
     "data": {
      "text/plain": "             C01  C02  C03       C04       C05       C06       C07       C08  \\\n0       0.378953  0.0  0.0  0.227071  0.372380  0.000230  0.386721  0.410567   \n1       0.378504  0.0  0.0  0.226596  0.353516  0.000161  0.399074  0.364415   \n2       0.378463  0.0  0.0  0.226789  0.318663  0.000154  0.393283  0.451729   \n3       0.378904  0.0  0.0  0.226808  0.238782  0.000154  0.393697  0.323289   \n4       0.380282  0.0  0.0  0.226810  0.165794  0.000154  0.412796  0.654203   \n...          ...  ...  ...       ...       ...       ...       ...       ...   \n478796  0.302372  0.0  0.0  0.703684  0.509016  0.000538  0.420902  0.355242   \n478797  0.304595  0.0  0.0  0.703684  0.485295  0.000538  0.481569  0.335967   \n478798  0.304373  0.0  0.0  0.703684  0.386965  0.000538  0.497306  0.519990   \n478799  0.306574  0.0  0.0  0.703684  0.289108  0.000538  0.468238  0.422572   \n478800  0.305015  0.0  0.0  0.703684  0.248821  0.000538  0.401886  0.366873   \n\n             C09       C10  ...       C70  C71       C72       C73       C74  \\\n0       0.784144  0.508049  ...  0.584892  0.0  0.326835  0.254687  0.331076   \n1       0.794139  0.540538  ...  0.592044  0.0  0.326835  0.254315  0.337223   \n2       0.803903  0.538802  ...  0.595523  0.0  0.326387  0.255304  0.337777   \n3       0.813725  0.459532  ...  0.596151  0.0  0.326343  0.257362  0.331746   \n4       0.823039  0.333541  ...  0.598763  0.0  0.326786  0.256312  0.337229   \n...          ...       ...  ...       ...  ...       ...       ...       ...   \n478796  0.064622  0.639006  ...  0.683154  0.0  0.300845  0.497901  0.202699   \n478797  0.061671  0.685457  ...  0.680815  0.0  0.300850  0.497868  0.196619   \n478798  0.058250  0.607073  ...  0.677466  0.0  0.301298  0.497555  0.196011   \n478799  0.055304  0.430538  ...  0.683078  0.0  0.300895  0.494969  0.202036   \n478800  0.052926  0.303069  ...  0.688171  0.0  0.301303  0.494597  0.202639   \n\n             C75       C76       C77      C78       C79  \n0       0.916661  0.269393  0.265017  1.00000  0.567254  \n1       0.916661  0.266791  0.251792  1.00000  0.512135  \n2       0.916661  0.265266  0.254707  1.00000  0.469622  \n3       0.916661  0.264379  0.253005  1.00000  0.446285  \n4       0.916661  0.262757  0.247706  1.00000  0.477489  \n...          ...       ...       ...      ...       ...  \n478796  0.111119  0.315343  0.248152  0.26162  0.757619  \n478797  0.111119  0.309817  0.245953  0.26162  0.681373  \n478798  0.111119  0.303620  0.236562  0.26162  0.631425  \n478799  0.111119  0.308706  0.266275  0.26162  0.677024  \n478800  0.111119  0.314736  0.290666  0.26162  0.750658  \n\n[921603 rows x 79 columns]",
      "text/html": "<div>\n<style scoped>\n    .dataframe tbody tr th:only-of-type {\n        vertical-align: middle;\n    }\n\n    .dataframe tbody tr th {\n        vertical-align: top;\n    }\n\n    .dataframe thead th {\n        text-align: right;\n    }\n</style>\n<table border=\"1\" class=\"dataframe\">\n  <thead>\n    <tr style=\"text-align: right;\">\n      <th></th>\n      <th>C01</th>\n      <th>C02</th>\n      <th>C03</th>\n      <th>C04</th>\n      <th>C05</th>\n      <th>C06</th>\n      <th>C07</th>\n      <th>C08</th>\n      <th>C09</th>\n      <th>C10</th>\n      <th>...</th>\n      <th>C70</th>\n      <th>C71</th>\n      <th>C72</th>\n      <th>C73</th>\n      <th>C74</th>\n      <th>C75</th>\n      <th>C76</th>\n      <th>C77</th>\n      <th>C78</th>\n      <th>C79</th>\n    </tr>\n  </thead>\n  <tbody>\n    <tr>\n      <th>0</th>\n      <td>0.378953</td>\n      <td>0.0</td>\n      <td>0.0</td>\n      <td>0.227071</td>\n      <td>0.372380</td>\n      <td>0.000230</td>\n      <td>0.386721</td>\n      <td>0.410567</td>\n      <td>0.784144</td>\n      <td>0.508049</td>\n      <td>...</td>\n      <td>0.584892</td>\n      <td>0.0</td>\n      <td>0.326835</td>\n      <td>0.254687</td>\n      <td>0.331076</td>\n      <td>0.916661</td>\n      <td>0.269393</td>\n      <td>0.265017</td>\n      <td>1.00000</td>\n      <td>0.567254</td>\n    </tr>\n    <tr>\n      <th>1</th>\n      <td>0.378504</td>\n      <td>0.0</td>\n      <td>0.0</td>\n      <td>0.226596</td>\n      <td>0.353516</td>\n      <td>0.000161</td>\n      <td>0.399074</td>\n      <td>0.364415</td>\n      <td>0.794139</td>\n      <td>0.540538</td>\n      <td>...</td>\n      <td>0.592044</td>\n      <td>0.0</td>\n      <td>0.326835</td>\n      <td>0.254315</td>\n      <td>0.337223</td>\n      <td>0.916661</td>\n      <td>0.266791</td>\n      <td>0.251792</td>\n      <td>1.00000</td>\n      <td>0.512135</td>\n    </tr>\n    <tr>\n      <th>2</th>\n      <td>0.378463</td>\n      <td>0.0</td>\n      <td>0.0</td>\n      <td>0.226789</td>\n      <td>0.318663</td>\n      <td>0.000154</td>\n      <td>0.393283</td>\n      <td>0.451729</td>\n      <td>0.803903</td>\n      <td>0.538802</td>\n      <td>...</td>\n      <td>0.595523</td>\n      <td>0.0</td>\n      <td>0.326387</td>\n      <td>0.255304</td>\n      <td>0.337777</td>\n      <td>0.916661</td>\n      <td>0.265266</td>\n      <td>0.254707</td>\n      <td>1.00000</td>\n      <td>0.469622</td>\n    </tr>\n    <tr>\n      <th>3</th>\n      <td>0.378904</td>\n      <td>0.0</td>\n      <td>0.0</td>\n      <td>0.226808</td>\n      <td>0.238782</td>\n      <td>0.000154</td>\n      <td>0.393697</td>\n      <td>0.323289</td>\n      <td>0.813725</td>\n      <td>0.459532</td>\n      <td>...</td>\n      <td>0.596151</td>\n      <td>0.0</td>\n      <td>0.326343</td>\n      <td>0.257362</td>\n      <td>0.331746</td>\n      <td>0.916661</td>\n      <td>0.264379</td>\n      <td>0.253005</td>\n      <td>1.00000</td>\n      <td>0.446285</td>\n    </tr>\n    <tr>\n      <th>4</th>\n      <td>0.380282</td>\n      <td>0.0</td>\n      <td>0.0</td>\n      <td>0.226810</td>\n      <td>0.165794</td>\n      <td>0.000154</td>\n      <td>0.412796</td>\n      <td>0.654203</td>\n      <td>0.823039</td>\n      <td>0.333541</td>\n      <td>...</td>\n      <td>0.598763</td>\n      <td>0.0</td>\n      <td>0.326786</td>\n      <td>0.256312</td>\n      <td>0.337229</td>\n      <td>0.916661</td>\n      <td>0.262757</td>\n      <td>0.247706</td>\n      <td>1.00000</td>\n      <td>0.477489</td>\n    </tr>\n    <tr>\n      <th>...</th>\n      <td>...</td>\n      <td>...</td>\n      <td>...</td>\n      <td>...</td>\n      <td>...</td>\n      <td>...</td>\n      <td>...</td>\n      <td>...</td>\n      <td>...</td>\n      <td>...</td>\n      <td>...</td>\n      <td>...</td>\n      <td>...</td>\n      <td>...</td>\n      <td>...</td>\n      <td>...</td>\n      <td>...</td>\n      <td>...</td>\n      <td>...</td>\n      <td>...</td>\n      <td>...</td>\n    </tr>\n    <tr>\n      <th>478796</th>\n      <td>0.302372</td>\n      <td>0.0</td>\n      <td>0.0</td>\n      <td>0.703684</td>\n      <td>0.509016</td>\n      <td>0.000538</td>\n      <td>0.420902</td>\n      <td>0.355242</td>\n      <td>0.064622</td>\n      <td>0.639006</td>\n      <td>...</td>\n      <td>0.683154</td>\n      <td>0.0</td>\n      <td>0.300845</td>\n      <td>0.497901</td>\n      <td>0.202699</td>\n      <td>0.111119</td>\n      <td>0.315343</td>\n      <td>0.248152</td>\n      <td>0.26162</td>\n      <td>0.757619</td>\n    </tr>\n    <tr>\n      <th>478797</th>\n      <td>0.304595</td>\n      <td>0.0</td>\n      <td>0.0</td>\n      <td>0.703684</td>\n      <td>0.485295</td>\n      <td>0.000538</td>\n      <td>0.481569</td>\n      <td>0.335967</td>\n      <td>0.061671</td>\n      <td>0.685457</td>\n      <td>...</td>\n      <td>0.680815</td>\n      <td>0.0</td>\n      <td>0.300850</td>\n      <td>0.497868</td>\n      <td>0.196619</td>\n      <td>0.111119</td>\n      <td>0.309817</td>\n      <td>0.245953</td>\n      <td>0.26162</td>\n      <td>0.681373</td>\n    </tr>\n    <tr>\n      <th>478798</th>\n      <td>0.304373</td>\n      <td>0.0</td>\n      <td>0.0</td>\n      <td>0.703684</td>\n      <td>0.386965</td>\n      <td>0.000538</td>\n      <td>0.497306</td>\n      <td>0.519990</td>\n      <td>0.058250</td>\n      <td>0.607073</td>\n      <td>...</td>\n      <td>0.677466</td>\n      <td>0.0</td>\n      <td>0.301298</td>\n      <td>0.497555</td>\n      <td>0.196011</td>\n      <td>0.111119</td>\n      <td>0.303620</td>\n      <td>0.236562</td>\n      <td>0.26162</td>\n      <td>0.631425</td>\n    </tr>\n    <tr>\n      <th>478799</th>\n      <td>0.306574</td>\n      <td>0.0</td>\n      <td>0.0</td>\n      <td>0.703684</td>\n      <td>0.289108</td>\n      <td>0.000538</td>\n      <td>0.468238</td>\n      <td>0.422572</td>\n      <td>0.055304</td>\n      <td>0.430538</td>\n      <td>...</td>\n      <td>0.683078</td>\n      <td>0.0</td>\n      <td>0.300895</td>\n      <td>0.494969</td>\n      <td>0.202036</td>\n      <td>0.111119</td>\n      <td>0.308706</td>\n      <td>0.266275</td>\n      <td>0.26162</td>\n      <td>0.677024</td>\n    </tr>\n    <tr>\n      <th>478800</th>\n      <td>0.305015</td>\n      <td>0.0</td>\n      <td>0.0</td>\n      <td>0.703684</td>\n      <td>0.248821</td>\n      <td>0.000538</td>\n      <td>0.401886</td>\n      <td>0.366873</td>\n      <td>0.052926</td>\n      <td>0.303069</td>\n      <td>...</td>\n      <td>0.688171</td>\n      <td>0.0</td>\n      <td>0.301303</td>\n      <td>0.494597</td>\n      <td>0.202639</td>\n      <td>0.111119</td>\n      <td>0.314736</td>\n      <td>0.290666</td>\n      <td>0.26162</td>\n      <td>0.750658</td>\n    </tr>\n  </tbody>\n</table>\n<p>921603 rows × 79 columns</p>\n</div>"
     },
     "metadata": {},
     "execution_count": 10
    }
   ],
   "source": [
    "TRAIN_DF = normalize(TRAIN_DF_RAW[VALID_COLUMNS_IN_TRAIN_DATASET]).ewm(alpha=0.9).mean()\n",
    "TRAIN_DF"
   ]
  },
  {
   "cell_type": "code",
   "execution_count": 11,
   "metadata": {},
   "outputs": [],
   "source": [
    "def boundary_check(df):\n",
    "    x = np.array(df, dtype=np.float32)\n",
    "    return np.any(x > 1.0), np.any(x < 0), np.any(np.isnan(x))"
   ]
  },
  {
   "cell_type": "code",
   "execution_count": 12,
   "metadata": {},
   "outputs": [
    {
     "output_type": "execute_result",
     "data": {
      "text/plain": "(False, False, False)"
     },
     "metadata": {},
     "execution_count": 12
    }
   ],
   "source": [
    "boundary_check(TRAIN_DF)"
   ]
  },
  {
   "cell_type": "code",
   "execution_count": 13,
   "metadata": {},
   "outputs": [],
   "source": [
    "WINDOW_GIVEN = 89\n",
    "WINDOW_SIZE = 90\n",
    "\n",
    "\n",
    "class HaiDataset(Dataset):\n",
    "    def __init__(self, timestamps, df, stride=1, attacks=None):\n",
    "        self.ts = np.array(timestamps)\n",
    "        self.tag_values = np.array(df, dtype=np.float32)\n",
    "        self.valid_idxs = []\n",
    "        for L in trange(len(self.ts) - WINDOW_SIZE + 1):\n",
    "            R = L + WINDOW_SIZE - 1\n",
    "            if dateutil.parser.parse(self.ts[R]) - dateutil.parser.parse(\n",
    "                self.ts[L]\n",
    "            ) == timedelta(seconds=WINDOW_SIZE - 1):\n",
    "                self.valid_idxs.append(L)\n",
    "        self.valid_idxs = np.array(self.valid_idxs, dtype=np.int32)[::stride]\n",
    "        self.n_idxs = len(self.valid_idxs)\n",
    "        print(f\"# of valid windows: {self.n_idxs}\")\n",
    "        if attacks is not None:\n",
    "            self.attacks = np.array(attacks, dtype=np.float32)\n",
    "            self.with_attack = True\n",
    "        else:\n",
    "            self.with_attack = False\n",
    "\n",
    "    def __len__(self):\n",
    "        return self.n_idxs\n",
    "\n",
    "    def __getitem__(self, idx):\n",
    "        i = self.valid_idxs[idx]\n",
    "        last = i + WINDOW_SIZE - 1\n",
    "        item = {\"attack\": self.attacks[last]} if self.with_attack else {}\n",
    "        item[\"ts\"] = self.ts[i + WINDOW_SIZE - 1]\n",
    "        item[\"given\"] = torch.from_numpy(self.tag_values[i : i + WINDOW_GIVEN])\n",
    "        item[\"answer\"] = torch.from_numpy(self.tag_values[last])\n",
    "        return item"
   ]
  },
  {
   "cell_type": "code",
   "execution_count": 14,
   "metadata": {
    "tags": []
   },
   "outputs": [
    {
     "output_type": "display_data",
     "data": {
      "text/plain": "HBox(children=(FloatProgress(value=0.0, max=921514.0), HTML(value='')))",
      "application/vnd.jupyter.widget-view+json": {
       "version_major": 2,
       "version_minor": 0,
       "model_id": "f7480c36af5543d89a46325173ec27e2"
      }
     },
     "metadata": {}
    },
    {
     "output_type": "stream",
     "name": "stdout",
     "text": "\n# of valid windows: 92134\n"
    },
    {
     "output_type": "execute_result",
     "data": {
      "text/plain": "{'ts': '2020-07-11 00:01:29',\n 'given': tensor([[0.3790, 0.0000, 0.0000,  ..., 0.2650, 1.0000, 0.5673],\n         [0.3785, 0.0000, 0.0000,  ..., 0.2518, 1.0000, 0.5121],\n         [0.3785, 0.0000, 0.0000,  ..., 0.2547, 1.0000, 0.4696],\n         ...,\n         [0.3730, 0.0000, 0.0000,  ..., 0.4418, 1.0000, 0.5003],\n         [0.3739, 0.0000, 0.0000,  ..., 0.4408, 1.0000, 0.5446],\n         [0.3740, 0.0000, 0.0000,  ..., 0.4533, 1.0000, 0.5467]]),\n 'answer': tensor([3.7401e-01, 0.0000e+00, 0.0000e+00, 2.2681e-01, 4.4518e-01, 1.5360e-04,\n         3.0547e-01, 6.0378e-01, 4.1797e-01, 5.0237e-01, 5.1502e-01, 4.5891e-01,\n         1.4508e-01, 0.0000e+00, 4.7930e-01, 3.5710e-01, 1.1150e-03, 0.0000e+00,\n         0.0000e+00, 3.8993e-01, 0.0000e+00, 0.0000e+00, 2.0921e-04, 9.5674e-01,\n         0.0000e+00, 4.0782e-01, 3.6943e-01, 0.0000e+00, 4.1359e-01, 1.3964e-01,\n         9.8371e-01, 2.6923e-01, 0.0000e+00, 0.0000e+00, 0.0000e+00, 1.0000e+00,\n         0.0000e+00, 4.8270e-01, 7.2178e-01, 0.0000e+00, 1.0000e+00, 1.2351e-01,\n         0.0000e+00, 6.5662e-01, 3.7997e-01, 3.5329e-01, 5.2601e-01, 0.0000e+00,\n         3.0436e-01, 2.5663e-03, 0.0000e+00, 0.0000e+00, 5.8362e-01, 1.0000e+00,\n         2.2832e-01, 9.9250e-01, 4.8689e-02, 0.0000e+00, 0.0000e+00, 9.9250e-01,\n         0.0000e+00, 4.8951e-01, 0.0000e+00, 0.0000e+00, 0.0000e+00, 1.5526e-01,\n         0.0000e+00, 9.8961e-01, 8.3470e-01, 5.9678e-01, 0.0000e+00, 2.8131e-01,\n         3.3996e-01, 3.3716e-01, 9.1666e-01, 3.8761e-01, 4.6057e-01, 1.0000e+00,\n         5.3466e-01])}"
     },
     "metadata": {},
     "execution_count": 14
    }
   ],
   "source": [
    "HAI_DATASET_TRAIN = HaiDataset(TRAIN_DF_RAW[TIMESTAMP_FIELD], TRAIN_DF, stride=10)\n",
    "HAI_DATASET_TRAIN[0]"
   ]
  },
  {
   "cell_type": "code",
   "execution_count": 15,
   "metadata": {},
   "outputs": [],
   "source": [
    "N_HIDDENS = 100\n",
    "N_LAYERS = 3\n",
    "BATCH_SIZE = 512\n",
    "\n",
    "\n",
    "class StackedGRU(torch.nn.Module):\n",
    "    def __init__(self, n_tags):\n",
    "        super().__init__()\n",
    "        self.rnn = torch.nn.GRU(\n",
    "            input_size=n_tags,\n",
    "            hidden_size=N_HIDDENS,\n",
    "            num_layers=N_LAYERS,\n",
    "            bidirectional=True,\n",
    "            dropout=0,\n",
    "        )\n",
    "        self.fc = torch.nn.Linear(N_HIDDENS * 2, n_tags)\n",
    "\n",
    "    def forward(self, x):\n",
    "        x = x.transpose(0, 1)  # (batch, seq, params) -> (seq, batch, params)\n",
    "        self.rnn.flatten_parameters()\n",
    "        outs, _ = self.rnn(x)\n",
    "        out = self.fc(outs[-1])\n",
    "        return x[0] + out"
   ]
  },
  {
   "cell_type": "code",
   "execution_count": 16,
   "metadata": {},
   "outputs": [
    {
     "output_type": "execute_result",
     "data": {
      "text/plain": "StackedGRU(\n  (rnn): GRU(79, 100, num_layers=3, bidirectional=True)\n  (fc): Linear(in_features=200, out_features=79, bias=True)\n)"
     },
     "metadata": {},
     "execution_count": 16
    }
   ],
   "source": [
    "MODEL = StackedGRU(n_tags=TRAIN_DF.shape[1])\n",
    "MODEL.cuda()"
   ]
  },
  {
   "cell_type": "code",
   "execution_count": 17,
   "metadata": {},
   "outputs": [],
   "source": [
    "def train(dataset, model, batch_size, n_epochs):\n",
    "    dataloader = DataLoader(dataset, batch_size=batch_size, shuffle=True)\n",
    "    optimizer = torch.optim.AdamW(model.parameters())\n",
    "    loss_fn = torch.nn.MSELoss()\n",
    "    epochs = trange(n_epochs, desc=\"training\")\n",
    "    best = {\"loss\": sys.float_info.max}\n",
    "    loss_history = []\n",
    "    for e in epochs:\n",
    "        epoch_loss = 0\n",
    "        for batch in dataloader:\n",
    "            optimizer.zero_grad()\n",
    "            given = batch[\"given\"].cuda()\n",
    "            guess = model(given)\n",
    "            answer = batch[\"answer\"].cuda()\n",
    "            loss = loss_fn(answer, guess)\n",
    "            loss.backward()\n",
    "            epoch_loss += loss.item()\n",
    "            optimizer.step()\n",
    "        loss_history.append(epoch_loss)\n",
    "        epochs.set_postfix_str(f\"loss: {epoch_loss:.6f}\")\n",
    "        if epoch_loss < best[\"loss\"]:\n",
    "            best[\"state\"] = model.state_dict()\n",
    "            best[\"loss\"] = epoch_loss\n",
    "            best[\"epoch\"] = e + 1\n",
    "    return best, loss_history"
   ]
  },
  {
   "cell_type": "code",
   "execution_count": 18,
   "metadata": {
    "tags": []
   },
   "outputs": [
    {
     "output_type": "display_data",
     "data": {
      "text/plain": "HBox(children=(FloatProgress(value=0.0, description='training', max=32.0, style=ProgressStyle(description_widt…",
      "application/vnd.jupyter.widget-view+json": {
       "version_major": 2,
       "version_minor": 0,
       "model_id": "e864cd9d9f124b53925f240a1ca79c78"
      }
     },
     "metadata": {}
    },
    {
     "output_type": "stream",
     "name": "stdout",
     "text": "\nWall time: 8min 47s\n"
    }
   ],
   "source": [
    "%%time\n",
    "MODEL.train()\n",
    "BEST_MODEL, LOSS_HISTORY = train(HAI_DATASET_TRAIN, MODEL, BATCH_SIZE, 32)"
   ]
  },
  {
   "cell_type": "code",
   "execution_count": 19,
   "metadata": {},
   "outputs": [
    {
     "output_type": "execute_result",
     "data": {
      "text/plain": "(0.08199234507628717, 32)"
     },
     "metadata": {},
     "execution_count": 19
    }
   ],
   "source": [
    "BEST_MODEL[\"loss\"], BEST_MODEL[\"epoch\"]"
   ]
  },
  {
   "cell_type": "code",
   "execution_count": 20,
   "metadata": {},
   "outputs": [],
   "source": [
    "with open(\"model.pt\", \"wb\") as f:\n",
    "    torch.save(\n",
    "        {\n",
    "            \"state\": BEST_MODEL[\"state\"],\n",
    "            \"best_epoch\": BEST_MODEL[\"epoch\"],\n",
    "            \"loss_history\": LOSS_HISTORY,\n",
    "        },\n",
    "        f,\n",
    "    )"
   ]
  },
  {
   "cell_type": "code",
   "execution_count": 21,
   "metadata": {},
   "outputs": [
    {
     "output_type": "execute_result",
     "data": {
      "text/plain": "<All keys matched successfully>"
     },
     "metadata": {},
     "execution_count": 21
    }
   ],
   "source": [
    "with open(\"model.pt\", \"rb\") as f:\n",
    "    SAVED_MODEL = torch.load(f)\n",
    "\n",
    "MODEL.load_state_dict(SAVED_MODEL[\"state\"])"
   ]
  },
  {
   "cell_type": "code",
   "execution_count": 22,
   "metadata": {},
   "outputs": [
    {
     "output_type": "display_data",
     "data": {
      "text/plain": "<Figure size 1152x288 with 1 Axes>",
      "image/svg+xml": "<?xml version=\"1.0\" encoding=\"utf-8\" standalone=\"no\"?>\r\n<!DOCTYPE svg PUBLIC \"-//W3C//DTD SVG 1.1//EN\"\r\n  \"http://www.w3.org/Graphics/SVG/1.1/DTD/svg11.dtd\">\r\n<!-- Created with matplotlib (https://matplotlib.org/) -->\r\n<svg height=\"277.314375pt\" version=\"1.1\" viewBox=\"0 0 951.378125 277.314375\" width=\"951.378125pt\" xmlns=\"http://www.w3.org/2000/svg\" xmlns:xlink=\"http://www.w3.org/1999/xlink\">\r\n <defs>\r\n  <style type=\"text/css\">\r\n*{stroke-linecap:butt;stroke-linejoin:round;}\r\n  </style>\r\n </defs>\r\n <g id=\"figure_1\">\r\n  <g id=\"patch_1\">\r\n   <path d=\"M 0 277.314375 \r\nL 951.378125 277.314375 \r\nL 951.378125 0 \r\nL 0 0 \r\nz\r\n\" style=\"fill:none;\"/>\r\n  </g>\r\n  <g id=\"axes_1\">\r\n   <g id=\"patch_2\">\r\n    <path d=\"M 51.378125 239.758125 \r\nL 944.178125 239.758125 \r\nL 944.178125 22.318125 \r\nL 51.378125 22.318125 \r\nz\r\n\" style=\"fill:#ffffff;\"/>\r\n   </g>\r\n   <g id=\"matplotlib.axis_1\">\r\n    <g id=\"xtick_1\">\r\n     <g id=\"line2d_1\">\r\n      <defs>\r\n       <path d=\"M 0 0 \r\nL 0 3.5 \r\n\" id=\"m9527b8c78e\" style=\"stroke:#000000;stroke-width:0.8;\"/>\r\n      </defs>\r\n      <g>\r\n       <use style=\"stroke:#000000;stroke-width:0.8;\" x=\"91.959943\" xlink:href=\"#m9527b8c78e\" y=\"239.758125\"/>\r\n      </g>\r\n     </g>\r\n     <g id=\"text_1\">\r\n      <!-- 0 -->\r\n      <defs>\r\n       <path d=\"M 31.78125 66.40625 \r\nQ 24.171875 66.40625 20.328125 58.90625 \r\nQ 16.5 51.421875 16.5 36.375 \r\nQ 16.5 21.390625 20.328125 13.890625 \r\nQ 24.171875 6.390625 31.78125 6.390625 \r\nQ 39.453125 6.390625 43.28125 13.890625 \r\nQ 47.125 21.390625 47.125 36.375 \r\nQ 47.125 51.421875 43.28125 58.90625 \r\nQ 39.453125 66.40625 31.78125 66.40625 \r\nz\r\nM 31.78125 74.21875 \r\nQ 44.046875 74.21875 50.515625 64.515625 \r\nQ 56.984375 54.828125 56.984375 36.375 \r\nQ 56.984375 17.96875 50.515625 8.265625 \r\nQ 44.046875 -1.421875 31.78125 -1.421875 \r\nQ 19.53125 -1.421875 13.0625 8.265625 \r\nQ 6.59375 17.96875 6.59375 36.375 \r\nQ 6.59375 54.828125 13.0625 64.515625 \r\nQ 19.53125 74.21875 31.78125 74.21875 \r\nz\r\n\" id=\"DejaVuSans-48\"/>\r\n      </defs>\r\n      <g transform=\"translate(88.778693 254.356562)scale(0.1 -0.1)\">\r\n       <use xlink:href=\"#DejaVuSans-48\"/>\r\n      </g>\r\n     </g>\r\n    </g>\r\n    <g id=\"xtick_2\">\r\n     <g id=\"line2d_2\">\r\n      <g>\r\n       <use style=\"stroke:#000000;stroke-width:0.8;\" x=\"222.869034\" xlink:href=\"#m9527b8c78e\" y=\"239.758125\"/>\r\n      </g>\r\n     </g>\r\n     <g id=\"text_2\">\r\n      <!-- 5 -->\r\n      <defs>\r\n       <path d=\"M 10.796875 72.90625 \r\nL 49.515625 72.90625 \r\nL 49.515625 64.59375 \r\nL 19.828125 64.59375 \r\nL 19.828125 46.734375 \r\nQ 21.96875 47.46875 24.109375 47.828125 \r\nQ 26.265625 48.1875 28.421875 48.1875 \r\nQ 40.625 48.1875 47.75 41.5 \r\nQ 54.890625 34.8125 54.890625 23.390625 \r\nQ 54.890625 11.625 47.5625 5.09375 \r\nQ 40.234375 -1.421875 26.90625 -1.421875 \r\nQ 22.3125 -1.421875 17.546875 -0.640625 \r\nQ 12.796875 0.140625 7.71875 1.703125 \r\nL 7.71875 11.625 \r\nQ 12.109375 9.234375 16.796875 8.0625 \r\nQ 21.484375 6.890625 26.703125 6.890625 \r\nQ 35.15625 6.890625 40.078125 11.328125 \r\nQ 45.015625 15.765625 45.015625 23.390625 \r\nQ 45.015625 31 40.078125 35.4375 \r\nQ 35.15625 39.890625 26.703125 39.890625 \r\nQ 22.75 39.890625 18.8125 39.015625 \r\nQ 14.890625 38.140625 10.796875 36.28125 \r\nz\r\n\" id=\"DejaVuSans-53\"/>\r\n      </defs>\r\n      <g transform=\"translate(219.687784 254.356562)scale(0.1 -0.1)\">\r\n       <use xlink:href=\"#DejaVuSans-53\"/>\r\n      </g>\r\n     </g>\r\n    </g>\r\n    <g id=\"xtick_3\">\r\n     <g id=\"line2d_3\">\r\n      <g>\r\n       <use style=\"stroke:#000000;stroke-width:0.8;\" x=\"353.778125\" xlink:href=\"#m9527b8c78e\" y=\"239.758125\"/>\r\n      </g>\r\n     </g>\r\n     <g id=\"text_3\">\r\n      <!-- 10 -->\r\n      <defs>\r\n       <path d=\"M 12.40625 8.296875 \r\nL 28.515625 8.296875 \r\nL 28.515625 63.921875 \r\nL 10.984375 60.40625 \r\nL 10.984375 69.390625 \r\nL 28.421875 72.90625 \r\nL 38.28125 72.90625 \r\nL 38.28125 8.296875 \r\nL 54.390625 8.296875 \r\nL 54.390625 0 \r\nL 12.40625 0 \r\nz\r\n\" id=\"DejaVuSans-49\"/>\r\n      </defs>\r\n      <g transform=\"translate(347.415625 254.356562)scale(0.1 -0.1)\">\r\n       <use xlink:href=\"#DejaVuSans-49\"/>\r\n       <use x=\"63.623047\" xlink:href=\"#DejaVuSans-48\"/>\r\n      </g>\r\n     </g>\r\n    </g>\r\n    <g id=\"xtick_4\">\r\n     <g id=\"line2d_4\">\r\n      <g>\r\n       <use style=\"stroke:#000000;stroke-width:0.8;\" x=\"484.687216\" xlink:href=\"#m9527b8c78e\" y=\"239.758125\"/>\r\n      </g>\r\n     </g>\r\n     <g id=\"text_4\">\r\n      <!-- 15 -->\r\n      <g transform=\"translate(478.324716 254.356562)scale(0.1 -0.1)\">\r\n       <use xlink:href=\"#DejaVuSans-49\"/>\r\n       <use x=\"63.623047\" xlink:href=\"#DejaVuSans-53\"/>\r\n      </g>\r\n     </g>\r\n    </g>\r\n    <g id=\"xtick_5\">\r\n     <g id=\"line2d_5\">\r\n      <g>\r\n       <use style=\"stroke:#000000;stroke-width:0.8;\" x=\"615.596307\" xlink:href=\"#m9527b8c78e\" y=\"239.758125\"/>\r\n      </g>\r\n     </g>\r\n     <g id=\"text_5\">\r\n      <!-- 20 -->\r\n      <defs>\r\n       <path d=\"M 19.1875 8.296875 \r\nL 53.609375 8.296875 \r\nL 53.609375 0 \r\nL 7.328125 0 \r\nL 7.328125 8.296875 \r\nQ 12.9375 14.109375 22.625 23.890625 \r\nQ 32.328125 33.6875 34.8125 36.53125 \r\nQ 39.546875 41.84375 41.421875 45.53125 \r\nQ 43.3125 49.21875 43.3125 52.78125 \r\nQ 43.3125 58.59375 39.234375 62.25 \r\nQ 35.15625 65.921875 28.609375 65.921875 \r\nQ 23.96875 65.921875 18.8125 64.3125 \r\nQ 13.671875 62.703125 7.8125 59.421875 \r\nL 7.8125 69.390625 \r\nQ 13.765625 71.78125 18.9375 73 \r\nQ 24.125 74.21875 28.421875 74.21875 \r\nQ 39.75 74.21875 46.484375 68.546875 \r\nQ 53.21875 62.890625 53.21875 53.421875 \r\nQ 53.21875 48.921875 51.53125 44.890625 \r\nQ 49.859375 40.875 45.40625 35.40625 \r\nQ 44.1875 33.984375 37.640625 27.21875 \r\nQ 31.109375 20.453125 19.1875 8.296875 \r\nz\r\n\" id=\"DejaVuSans-50\"/>\r\n      </defs>\r\n      <g transform=\"translate(609.233807 254.356562)scale(0.1 -0.1)\">\r\n       <use xlink:href=\"#DejaVuSans-50\"/>\r\n       <use x=\"63.623047\" xlink:href=\"#DejaVuSans-48\"/>\r\n      </g>\r\n     </g>\r\n    </g>\r\n    <g id=\"xtick_6\">\r\n     <g id=\"line2d_6\">\r\n      <g>\r\n       <use style=\"stroke:#000000;stroke-width:0.8;\" x=\"746.505398\" xlink:href=\"#m9527b8c78e\" y=\"239.758125\"/>\r\n      </g>\r\n     </g>\r\n     <g id=\"text_6\">\r\n      <!-- 25 -->\r\n      <g transform=\"translate(740.142898 254.356562)scale(0.1 -0.1)\">\r\n       <use xlink:href=\"#DejaVuSans-50\"/>\r\n       <use x=\"63.623047\" xlink:href=\"#DejaVuSans-53\"/>\r\n      </g>\r\n     </g>\r\n    </g>\r\n    <g id=\"xtick_7\">\r\n     <g id=\"line2d_7\">\r\n      <g>\r\n       <use style=\"stroke:#000000;stroke-width:0.8;\" x=\"877.414489\" xlink:href=\"#m9527b8c78e\" y=\"239.758125\"/>\r\n      </g>\r\n     </g>\r\n     <g id=\"text_7\">\r\n      <!-- 30 -->\r\n      <defs>\r\n       <path d=\"M 40.578125 39.3125 \r\nQ 47.65625 37.796875 51.625 33 \r\nQ 55.609375 28.21875 55.609375 21.1875 \r\nQ 55.609375 10.40625 48.1875 4.484375 \r\nQ 40.765625 -1.421875 27.09375 -1.421875 \r\nQ 22.515625 -1.421875 17.65625 -0.515625 \r\nQ 12.796875 0.390625 7.625 2.203125 \r\nL 7.625 11.71875 \r\nQ 11.71875 9.328125 16.59375 8.109375 \r\nQ 21.484375 6.890625 26.8125 6.890625 \r\nQ 36.078125 6.890625 40.9375 10.546875 \r\nQ 45.796875 14.203125 45.796875 21.1875 \r\nQ 45.796875 27.640625 41.28125 31.265625 \r\nQ 36.765625 34.90625 28.71875 34.90625 \r\nL 20.21875 34.90625 \r\nL 20.21875 43.015625 \r\nL 29.109375 43.015625 \r\nQ 36.375 43.015625 40.234375 45.921875 \r\nQ 44.09375 48.828125 44.09375 54.296875 \r\nQ 44.09375 59.90625 40.109375 62.90625 \r\nQ 36.140625 65.921875 28.71875 65.921875 \r\nQ 24.65625 65.921875 20.015625 65.03125 \r\nQ 15.375 64.15625 9.8125 62.3125 \r\nL 9.8125 71.09375 \r\nQ 15.4375 72.65625 20.34375 73.4375 \r\nQ 25.25 74.21875 29.59375 74.21875 \r\nQ 40.828125 74.21875 47.359375 69.109375 \r\nQ 53.90625 64.015625 53.90625 55.328125 \r\nQ 53.90625 49.265625 50.4375 45.09375 \r\nQ 46.96875 40.921875 40.578125 39.3125 \r\nz\r\n\" id=\"DejaVuSans-51\"/>\r\n      </defs>\r\n      <g transform=\"translate(871.051989 254.356562)scale(0.1 -0.1)\">\r\n       <use xlink:href=\"#DejaVuSans-51\"/>\r\n       <use x=\"63.623047\" xlink:href=\"#DejaVuSans-48\"/>\r\n      </g>\r\n     </g>\r\n    </g>\r\n    <g id=\"text_8\">\r\n     <!-- epochs -->\r\n     <defs>\r\n      <path d=\"M 56.203125 29.59375 \r\nL 56.203125 25.203125 \r\nL 14.890625 25.203125 \r\nQ 15.484375 15.921875 20.484375 11.0625 \r\nQ 25.484375 6.203125 34.421875 6.203125 \r\nQ 39.59375 6.203125 44.453125 7.46875 \r\nQ 49.3125 8.734375 54.109375 11.28125 \r\nL 54.109375 2.78125 \r\nQ 49.265625 0.734375 44.1875 -0.34375 \r\nQ 39.109375 -1.421875 33.890625 -1.421875 \r\nQ 20.796875 -1.421875 13.15625 6.1875 \r\nQ 5.515625 13.8125 5.515625 26.8125 \r\nQ 5.515625 40.234375 12.765625 48.109375 \r\nQ 20.015625 56 32.328125 56 \r\nQ 43.359375 56 49.78125 48.890625 \r\nQ 56.203125 41.796875 56.203125 29.59375 \r\nz\r\nM 47.21875 32.234375 \r\nQ 47.125 39.59375 43.09375 43.984375 \r\nQ 39.0625 48.390625 32.421875 48.390625 \r\nQ 24.90625 48.390625 20.390625 44.140625 \r\nQ 15.875 39.890625 15.1875 32.171875 \r\nz\r\n\" id=\"DejaVuSans-101\"/>\r\n      <path d=\"M 18.109375 8.203125 \r\nL 18.109375 -20.796875 \r\nL 9.078125 -20.796875 \r\nL 9.078125 54.6875 \r\nL 18.109375 54.6875 \r\nL 18.109375 46.390625 \r\nQ 20.953125 51.265625 25.265625 53.625 \r\nQ 29.59375 56 35.59375 56 \r\nQ 45.5625 56 51.78125 48.09375 \r\nQ 58.015625 40.1875 58.015625 27.296875 \r\nQ 58.015625 14.40625 51.78125 6.484375 \r\nQ 45.5625 -1.421875 35.59375 -1.421875 \r\nQ 29.59375 -1.421875 25.265625 0.953125 \r\nQ 20.953125 3.328125 18.109375 8.203125 \r\nz\r\nM 48.6875 27.296875 \r\nQ 48.6875 37.203125 44.609375 42.84375 \r\nQ 40.53125 48.484375 33.40625 48.484375 \r\nQ 26.265625 48.484375 22.1875 42.84375 \r\nQ 18.109375 37.203125 18.109375 27.296875 \r\nQ 18.109375 17.390625 22.1875 11.75 \r\nQ 26.265625 6.109375 33.40625 6.109375 \r\nQ 40.53125 6.109375 44.609375 11.75 \r\nQ 48.6875 17.390625 48.6875 27.296875 \r\nz\r\n\" id=\"DejaVuSans-112\"/>\r\n      <path d=\"M 30.609375 48.390625 \r\nQ 23.390625 48.390625 19.1875 42.75 \r\nQ 14.984375 37.109375 14.984375 27.296875 \r\nQ 14.984375 17.484375 19.15625 11.84375 \r\nQ 23.34375 6.203125 30.609375 6.203125 \r\nQ 37.796875 6.203125 41.984375 11.859375 \r\nQ 46.1875 17.53125 46.1875 27.296875 \r\nQ 46.1875 37.015625 41.984375 42.703125 \r\nQ 37.796875 48.390625 30.609375 48.390625 \r\nz\r\nM 30.609375 56 \r\nQ 42.328125 56 49.015625 48.375 \r\nQ 55.71875 40.765625 55.71875 27.296875 \r\nQ 55.71875 13.875 49.015625 6.21875 \r\nQ 42.328125 -1.421875 30.609375 -1.421875 \r\nQ 18.84375 -1.421875 12.171875 6.21875 \r\nQ 5.515625 13.875 5.515625 27.296875 \r\nQ 5.515625 40.765625 12.171875 48.375 \r\nQ 18.84375 56 30.609375 56 \r\nz\r\n\" id=\"DejaVuSans-111\"/>\r\n      <path d=\"M 48.78125 52.59375 \r\nL 48.78125 44.1875 \r\nQ 44.96875 46.296875 41.140625 47.34375 \r\nQ 37.3125 48.390625 33.40625 48.390625 \r\nQ 24.65625 48.390625 19.8125 42.84375 \r\nQ 14.984375 37.3125 14.984375 27.296875 \r\nQ 14.984375 17.28125 19.8125 11.734375 \r\nQ 24.65625 6.203125 33.40625 6.203125 \r\nQ 37.3125 6.203125 41.140625 7.25 \r\nQ 44.96875 8.296875 48.78125 10.40625 \r\nL 48.78125 2.09375 \r\nQ 45.015625 0.34375 40.984375 -0.53125 \r\nQ 36.96875 -1.421875 32.421875 -1.421875 \r\nQ 20.0625 -1.421875 12.78125 6.34375 \r\nQ 5.515625 14.109375 5.515625 27.296875 \r\nQ 5.515625 40.671875 12.859375 48.328125 \r\nQ 20.21875 56 33.015625 56 \r\nQ 37.15625 56 41.109375 55.140625 \r\nQ 45.0625 54.296875 48.78125 52.59375 \r\nz\r\n\" id=\"DejaVuSans-99\"/>\r\n      <path d=\"M 54.890625 33.015625 \r\nL 54.890625 0 \r\nL 45.90625 0 \r\nL 45.90625 32.71875 \r\nQ 45.90625 40.484375 42.875 44.328125 \r\nQ 39.84375 48.1875 33.796875 48.1875 \r\nQ 26.515625 48.1875 22.3125 43.546875 \r\nQ 18.109375 38.921875 18.109375 30.90625 \r\nL 18.109375 0 \r\nL 9.078125 0 \r\nL 9.078125 75.984375 \r\nL 18.109375 75.984375 \r\nL 18.109375 46.1875 \r\nQ 21.34375 51.125 25.703125 53.5625 \r\nQ 30.078125 56 35.796875 56 \r\nQ 45.21875 56 50.046875 50.171875 \r\nQ 54.890625 44.34375 54.890625 33.015625 \r\nz\r\n\" id=\"DejaVuSans-104\"/>\r\n      <path d=\"M 44.28125 53.078125 \r\nL 44.28125 44.578125 \r\nQ 40.484375 46.53125 36.375 47.5 \r\nQ 32.28125 48.484375 27.875 48.484375 \r\nQ 21.1875 48.484375 17.84375 46.4375 \r\nQ 14.5 44.390625 14.5 40.28125 \r\nQ 14.5 37.15625 16.890625 35.375 \r\nQ 19.28125 33.59375 26.515625 31.984375 \r\nL 29.59375 31.296875 \r\nQ 39.15625 29.25 43.1875 25.515625 \r\nQ 47.21875 21.78125 47.21875 15.09375 \r\nQ 47.21875 7.46875 41.1875 3.015625 \r\nQ 35.15625 -1.421875 24.609375 -1.421875 \r\nQ 20.21875 -1.421875 15.453125 -0.5625 \r\nQ 10.6875 0.296875 5.421875 2 \r\nL 5.421875 11.28125 \r\nQ 10.40625 8.6875 15.234375 7.390625 \r\nQ 20.0625 6.109375 24.8125 6.109375 \r\nQ 31.15625 6.109375 34.5625 8.28125 \r\nQ 37.984375 10.453125 37.984375 14.40625 \r\nQ 37.984375 18.0625 35.515625 20.015625 \r\nQ 33.0625 21.96875 24.703125 23.78125 \r\nL 21.578125 24.515625 \r\nQ 13.234375 26.265625 9.515625 29.90625 \r\nQ 5.8125 33.546875 5.8125 39.890625 \r\nQ 5.8125 47.609375 11.28125 51.796875 \r\nQ 16.75 56 26.8125 56 \r\nQ 31.78125 56 36.171875 55.265625 \r\nQ 40.578125 54.546875 44.28125 53.078125 \r\nz\r\n\" id=\"DejaVuSans-115\"/>\r\n     </defs>\r\n     <g transform=\"translate(479.945312 268.034687)scale(0.1 -0.1)\">\r\n      <use xlink:href=\"#DejaVuSans-101\"/>\r\n      <use x=\"61.523438\" xlink:href=\"#DejaVuSans-112\"/>\r\n      <use x=\"125\" xlink:href=\"#DejaVuSans-111\"/>\r\n      <use x=\"186.181641\" xlink:href=\"#DejaVuSans-99\"/>\r\n      <use x=\"241.162109\" xlink:href=\"#DejaVuSans-104\"/>\r\n      <use x=\"304.541016\" xlink:href=\"#DejaVuSans-115\"/>\r\n     </g>\r\n    </g>\r\n   </g>\r\n   <g id=\"matplotlib.axis_2\">\r\n    <g id=\"ytick_1\">\r\n     <g id=\"line2d_8\">\r\n      <defs>\r\n       <path d=\"M 0 0 \r\nL -3.5 0 \r\n\" id=\"md2c7ddfb69\" style=\"stroke:#000000;stroke-width:0.8;\"/>\r\n      </defs>\r\n      <g>\r\n       <use style=\"stroke:#000000;stroke-width:0.8;\" x=\"51.378125\" xlink:href=\"#md2c7ddfb69\" y=\"217.724836\"/>\r\n      </g>\r\n     </g>\r\n     <g id=\"text_9\">\r\n      <!-- $\\mathdefault{10^{-1}}$ -->\r\n      <defs>\r\n       <path d=\"M 10.59375 35.5 \r\nL 73.1875 35.5 \r\nL 73.1875 27.203125 \r\nL 10.59375 27.203125 \r\nz\r\n\" id=\"DejaVuSans-8722\"/>\r\n      </defs>\r\n      <g transform=\"translate(20.878125 221.524055)scale(0.1 -0.1)\">\r\n       <use transform=\"translate(0 0.684375)\" xlink:href=\"#DejaVuSans-49\"/>\r\n       <use transform=\"translate(63.623047 0.684375)\" xlink:href=\"#DejaVuSans-48\"/>\r\n       <use transform=\"translate(128.203125 38.965625)scale(0.7)\" xlink:href=\"#DejaVuSans-8722\"/>\r\n       <use transform=\"translate(186.855469 38.965625)scale(0.7)\" xlink:href=\"#DejaVuSans-49\"/>\r\n      </g>\r\n     </g>\r\n    </g>\r\n    <g id=\"ytick_2\">\r\n     <g id=\"line2d_9\">\r\n      <g>\r\n       <use style=\"stroke:#000000;stroke-width:0.8;\" x=\"51.378125\" xlink:href=\"#md2c7ddfb69\" y=\"76.821223\"/>\r\n      </g>\r\n     </g>\r\n     <g id=\"text_10\">\r\n      <!-- $\\mathdefault{10^{0}}$ -->\r\n      <g transform=\"translate(26.778125 80.620441)scale(0.1 -0.1)\">\r\n       <use transform=\"translate(0 0.765625)\" xlink:href=\"#DejaVuSans-49\"/>\r\n       <use transform=\"translate(63.623047 0.765625)\" xlink:href=\"#DejaVuSans-48\"/>\r\n       <use transform=\"translate(128.203125 39.046875)scale(0.7)\" xlink:href=\"#DejaVuSans-48\"/>\r\n      </g>\r\n     </g>\r\n    </g>\r\n    <g id=\"ytick_3\">\r\n     <g id=\"line2d_10\">\r\n      <defs>\r\n       <path d=\"M 0 0 \r\nL -2 0 \r\n\" id=\"m5774d86af3\" style=\"stroke:#000000;stroke-width:0.6;\"/>\r\n      </defs>\r\n      <g>\r\n       <use style=\"stroke:#000000;stroke-width:0.6;\" x=\"51.378125\" xlink:href=\"#m5774d86af3\" y=\"239.551082\"/>\r\n      </g>\r\n     </g>\r\n    </g>\r\n    <g id=\"ytick_4\">\r\n     <g id=\"line2d_11\">\r\n      <g>\r\n       <use style=\"stroke:#000000;stroke-width:0.6;\" x=\"51.378125\" xlink:href=\"#m5774d86af3\" y=\"231.379807\"/>\r\n      </g>\r\n     </g>\r\n    </g>\r\n    <g id=\"ytick_5\">\r\n     <g id=\"line2d_12\">\r\n      <g>\r\n       <use style=\"stroke:#000000;stroke-width:0.6;\" x=\"51.378125\" xlink:href=\"#m5774d86af3\" y=\"224.172232\"/>\r\n      </g>\r\n     </g>\r\n    </g>\r\n    <g id=\"ytick_6\">\r\n     <g id=\"line2d_13\">\r\n      <g>\r\n       <use style=\"stroke:#000000;stroke-width:0.6;\" x=\"51.378125\" xlink:href=\"#m5774d86af3\" y=\"175.308622\"/>\r\n      </g>\r\n     </g>\r\n    </g>\r\n    <g id=\"ytick_7\">\r\n     <g id=\"line2d_14\">\r\n      <g>\r\n       <use style=\"stroke:#000000;stroke-width:0.6;\" x=\"51.378125\" xlink:href=\"#m5774d86af3\" y=\"150.496727\"/>\r\n      </g>\r\n     </g>\r\n    </g>\r\n    <g id=\"ytick_8\">\r\n     <g id=\"line2d_15\">\r\n      <g>\r\n       <use style=\"stroke:#000000;stroke-width:0.6;\" x=\"51.378125\" xlink:href=\"#m5774d86af3\" y=\"132.892408\"/>\r\n      </g>\r\n     </g>\r\n    </g>\r\n    <g id=\"ytick_9\">\r\n     <g id=\"line2d_16\">\r\n      <g>\r\n       <use style=\"stroke:#000000;stroke-width:0.6;\" x=\"51.378125\" xlink:href=\"#m5774d86af3\" y=\"119.237437\"/>\r\n      </g>\r\n     </g>\r\n    </g>\r\n    <g id=\"ytick_10\">\r\n     <g id=\"line2d_17\">\r\n      <g>\r\n       <use style=\"stroke:#000000;stroke-width:0.6;\" x=\"51.378125\" xlink:href=\"#m5774d86af3\" y=\"108.080513\"/>\r\n      </g>\r\n     </g>\r\n    </g>\r\n    <g id=\"ytick_11\">\r\n     <g id=\"line2d_18\">\r\n      <g>\r\n       <use style=\"stroke:#000000;stroke-width:0.6;\" x=\"51.378125\" xlink:href=\"#m5774d86af3\" y=\"98.647468\"/>\r\n      </g>\r\n     </g>\r\n    </g>\r\n    <g id=\"ytick_12\">\r\n     <g id=\"line2d_19\">\r\n      <g>\r\n       <use style=\"stroke:#000000;stroke-width:0.6;\" x=\"51.378125\" xlink:href=\"#m5774d86af3\" y=\"90.476194\"/>\r\n      </g>\r\n     </g>\r\n    </g>\r\n    <g id=\"ytick_13\">\r\n     <g id=\"line2d_20\">\r\n      <g>\r\n       <use style=\"stroke:#000000;stroke-width:0.6;\" x=\"51.378125\" xlink:href=\"#m5774d86af3\" y=\"83.268618\"/>\r\n      </g>\r\n     </g>\r\n    </g>\r\n    <g id=\"ytick_14\">\r\n     <g id=\"line2d_21\">\r\n      <g>\r\n       <use style=\"stroke:#000000;stroke-width:0.6;\" x=\"51.378125\" xlink:href=\"#m5774d86af3\" y=\"34.405008\"/>\r\n      </g>\r\n     </g>\r\n    </g>\r\n    <g id=\"text_11\">\r\n     <!-- loss -->\r\n     <defs>\r\n      <path d=\"M 9.421875 75.984375 \r\nL 18.40625 75.984375 \r\nL 18.40625 0 \r\nL 9.421875 0 \r\nz\r\n\" id=\"DejaVuSans-108\"/>\r\n     </defs>\r\n     <g transform=\"translate(14.798438 140.695937)rotate(-90)scale(0.1 -0.1)\">\r\n      <use xlink:href=\"#DejaVuSans-108\"/>\r\n      <use x=\"27.783203\" xlink:href=\"#DejaVuSans-111\"/>\r\n      <use x=\"88.964844\" xlink:href=\"#DejaVuSans-115\"/>\r\n      <use x=\"141.064453\" xlink:href=\"#DejaVuSans-115\"/>\r\n     </g>\r\n    </g>\r\n   </g>\r\n   <g id=\"line2d_22\">\r\n    <path clip-path=\"url(#pf98a0726c8)\" d=\"M 91.959943 32.201761 \r\nL 118.141761 86.530931 \r\nL 144.32358 99.905117 \r\nL 170.505398 116.634059 \r\nL 196.687216 151.448521 \r\nL 222.869034 166.617803 \r\nL 249.050852 172.16391 \r\nL 275.23267 176.779089 \r\nL 301.414489 179.777465 \r\nL 327.596307 182.580787 \r\nL 353.778125 185.352581 \r\nL 379.959943 187.621242 \r\nL 406.141761 189.294829 \r\nL 432.32358 192.078537 \r\nL 458.505398 194.684792 \r\nL 484.687216 196.779709 \r\nL 510.869034 199.606381 \r\nL 537.050852 202.649882 \r\nL 563.23267 206.183914 \r\nL 589.414489 208.791435 \r\nL 615.596307 211.291941 \r\nL 641.778125 213.928501 \r\nL 667.959943 216.680614 \r\nL 694.141761 219.140452 \r\nL 720.32358 221.777663 \r\nL 746.505398 223.559043 \r\nL 772.687216 225.487831 \r\nL 798.869034 226.672434 \r\nL 825.050852 226.470473 \r\nL 851.23267 229.758886 \r\nL 877.414489 229.765744 \r\nL 903.596307 229.874489 \r\n\" style=\"fill:none;stroke:#1f77b4;stroke-linecap:square;stroke-width:1.5;\"/>\r\n   </g>\r\n   <g id=\"patch_3\">\r\n    <path d=\"M 51.378125 239.758125 \r\nL 51.378125 22.318125 \r\n\" style=\"fill:none;stroke:#000000;stroke-linecap:square;stroke-linejoin:miter;stroke-width:0.8;\"/>\r\n   </g>\r\n   <g id=\"patch_4\">\r\n    <path d=\"M 944.178125 239.758125 \r\nL 944.178125 22.318125 \r\n\" style=\"fill:none;stroke:#000000;stroke-linecap:square;stroke-linejoin:miter;stroke-width:0.8;\"/>\r\n   </g>\r\n   <g id=\"patch_5\">\r\n    <path d=\"M 51.378125 239.758125 \r\nL 944.178125 239.758125 \r\n\" style=\"fill:none;stroke:#000000;stroke-linecap:square;stroke-linejoin:miter;stroke-width:0.8;\"/>\r\n   </g>\r\n   <g id=\"patch_6\">\r\n    <path d=\"M 51.378125 22.318125 \r\nL 944.178125 22.318125 \r\n\" style=\"fill:none;stroke:#000000;stroke-linecap:square;stroke-linejoin:miter;stroke-width:0.8;\"/>\r\n   </g>\r\n   <g id=\"text_12\">\r\n    <!-- Training Loss Graph -->\r\n    <defs>\r\n     <path d=\"M -0.296875 72.90625 \r\nL 61.375 72.90625 \r\nL 61.375 64.59375 \r\nL 35.5 64.59375 \r\nL 35.5 0 \r\nL 25.59375 0 \r\nL 25.59375 64.59375 \r\nL -0.296875 64.59375 \r\nz\r\n\" id=\"DejaVuSans-84\"/>\r\n     <path d=\"M 41.109375 46.296875 \r\nQ 39.59375 47.171875 37.8125 47.578125 \r\nQ 36.03125 48 33.890625 48 \r\nQ 26.265625 48 22.1875 43.046875 \r\nQ 18.109375 38.09375 18.109375 28.8125 \r\nL 18.109375 0 \r\nL 9.078125 0 \r\nL 9.078125 54.6875 \r\nL 18.109375 54.6875 \r\nL 18.109375 46.1875 \r\nQ 20.953125 51.171875 25.484375 53.578125 \r\nQ 30.03125 56 36.53125 56 \r\nQ 37.453125 56 38.578125 55.875 \r\nQ 39.703125 55.765625 41.0625 55.515625 \r\nz\r\n\" id=\"DejaVuSans-114\"/>\r\n     <path d=\"M 34.28125 27.484375 \r\nQ 23.390625 27.484375 19.1875 25 \r\nQ 14.984375 22.515625 14.984375 16.5 \r\nQ 14.984375 11.71875 18.140625 8.90625 \r\nQ 21.296875 6.109375 26.703125 6.109375 \r\nQ 34.1875 6.109375 38.703125 11.40625 \r\nQ 43.21875 16.703125 43.21875 25.484375 \r\nL 43.21875 27.484375 \r\nz\r\nM 52.203125 31.203125 \r\nL 52.203125 0 \r\nL 43.21875 0 \r\nL 43.21875 8.296875 \r\nQ 40.140625 3.328125 35.546875 0.953125 \r\nQ 30.953125 -1.421875 24.3125 -1.421875 \r\nQ 15.921875 -1.421875 10.953125 3.296875 \r\nQ 6 8.015625 6 15.921875 \r\nQ 6 25.140625 12.171875 29.828125 \r\nQ 18.359375 34.515625 30.609375 34.515625 \r\nL 43.21875 34.515625 \r\nL 43.21875 35.40625 \r\nQ 43.21875 41.609375 39.140625 45 \r\nQ 35.0625 48.390625 27.6875 48.390625 \r\nQ 23 48.390625 18.546875 47.265625 \r\nQ 14.109375 46.140625 10.015625 43.890625 \r\nL 10.015625 52.203125 \r\nQ 14.9375 54.109375 19.578125 55.046875 \r\nQ 24.21875 56 28.609375 56 \r\nQ 40.484375 56 46.34375 49.84375 \r\nQ 52.203125 43.703125 52.203125 31.203125 \r\nz\r\n\" id=\"DejaVuSans-97\"/>\r\n     <path d=\"M 9.421875 54.6875 \r\nL 18.40625 54.6875 \r\nL 18.40625 0 \r\nL 9.421875 0 \r\nz\r\nM 9.421875 75.984375 \r\nL 18.40625 75.984375 \r\nL 18.40625 64.59375 \r\nL 9.421875 64.59375 \r\nz\r\n\" id=\"DejaVuSans-105\"/>\r\n     <path d=\"M 54.890625 33.015625 \r\nL 54.890625 0 \r\nL 45.90625 0 \r\nL 45.90625 32.71875 \r\nQ 45.90625 40.484375 42.875 44.328125 \r\nQ 39.84375 48.1875 33.796875 48.1875 \r\nQ 26.515625 48.1875 22.3125 43.546875 \r\nQ 18.109375 38.921875 18.109375 30.90625 \r\nL 18.109375 0 \r\nL 9.078125 0 \r\nL 9.078125 54.6875 \r\nL 18.109375 54.6875 \r\nL 18.109375 46.1875 \r\nQ 21.34375 51.125 25.703125 53.5625 \r\nQ 30.078125 56 35.796875 56 \r\nQ 45.21875 56 50.046875 50.171875 \r\nQ 54.890625 44.34375 54.890625 33.015625 \r\nz\r\n\" id=\"DejaVuSans-110\"/>\r\n     <path d=\"M 45.40625 27.984375 \r\nQ 45.40625 37.75 41.375 43.109375 \r\nQ 37.359375 48.484375 30.078125 48.484375 \r\nQ 22.859375 48.484375 18.828125 43.109375 \r\nQ 14.796875 37.75 14.796875 27.984375 \r\nQ 14.796875 18.265625 18.828125 12.890625 \r\nQ 22.859375 7.515625 30.078125 7.515625 \r\nQ 37.359375 7.515625 41.375 12.890625 \r\nQ 45.40625 18.265625 45.40625 27.984375 \r\nz\r\nM 54.390625 6.78125 \r\nQ 54.390625 -7.171875 48.1875 -13.984375 \r\nQ 42 -20.796875 29.203125 -20.796875 \r\nQ 24.46875 -20.796875 20.265625 -20.09375 \r\nQ 16.0625 -19.390625 12.109375 -17.921875 \r\nL 12.109375 -9.1875 \r\nQ 16.0625 -11.328125 19.921875 -12.34375 \r\nQ 23.78125 -13.375 27.78125 -13.375 \r\nQ 36.625 -13.375 41.015625 -8.765625 \r\nQ 45.40625 -4.15625 45.40625 5.171875 \r\nL 45.40625 9.625 \r\nQ 42.625 4.78125 38.28125 2.390625 \r\nQ 33.9375 0 27.875 0 \r\nQ 17.828125 0 11.671875 7.65625 \r\nQ 5.515625 15.328125 5.515625 27.984375 \r\nQ 5.515625 40.671875 11.671875 48.328125 \r\nQ 17.828125 56 27.875 56 \r\nQ 33.9375 56 38.28125 53.609375 \r\nQ 42.625 51.21875 45.40625 46.390625 \r\nL 45.40625 54.6875 \r\nL 54.390625 54.6875 \r\nz\r\n\" id=\"DejaVuSans-103\"/>\r\n     <path id=\"DejaVuSans-32\"/>\r\n     <path d=\"M 9.8125 72.90625 \r\nL 19.671875 72.90625 \r\nL 19.671875 8.296875 \r\nL 55.171875 8.296875 \r\nL 55.171875 0 \r\nL 9.8125 0 \r\nz\r\n\" id=\"DejaVuSans-76\"/>\r\n     <path d=\"M 59.515625 10.40625 \r\nL 59.515625 29.984375 \r\nL 43.40625 29.984375 \r\nL 43.40625 38.09375 \r\nL 69.28125 38.09375 \r\nL 69.28125 6.78125 \r\nQ 63.578125 2.734375 56.6875 0.65625 \r\nQ 49.8125 -1.421875 42 -1.421875 \r\nQ 24.90625 -1.421875 15.25 8.5625 \r\nQ 5.609375 18.5625 5.609375 36.375 \r\nQ 5.609375 54.25 15.25 64.234375 \r\nQ 24.90625 74.21875 42 74.21875 \r\nQ 49.125 74.21875 55.546875 72.453125 \r\nQ 61.96875 70.703125 67.390625 67.28125 \r\nL 67.390625 56.78125 \r\nQ 61.921875 61.421875 55.765625 63.765625 \r\nQ 49.609375 66.109375 42.828125 66.109375 \r\nQ 29.4375 66.109375 22.71875 58.640625 \r\nQ 16.015625 51.171875 16.015625 36.375 \r\nQ 16.015625 21.625 22.71875 14.15625 \r\nQ 29.4375 6.6875 42.828125 6.6875 \r\nQ 48.046875 6.6875 52.140625 7.59375 \r\nQ 56.25 8.5 59.515625 10.40625 \r\nz\r\n\" id=\"DejaVuSans-71\"/>\r\n    </defs>\r\n    <g transform=\"translate(438.72875 16.318125)scale(0.12 -0.12)\">\r\n     <use xlink:href=\"#DejaVuSans-84\"/>\r\n     <use x=\"46.333984\" xlink:href=\"#DejaVuSans-114\"/>\r\n     <use x=\"87.447266\" xlink:href=\"#DejaVuSans-97\"/>\r\n     <use x=\"148.726562\" xlink:href=\"#DejaVuSans-105\"/>\r\n     <use x=\"176.509766\" xlink:href=\"#DejaVuSans-110\"/>\r\n     <use x=\"239.888672\" xlink:href=\"#DejaVuSans-105\"/>\r\n     <use x=\"267.671875\" xlink:href=\"#DejaVuSans-110\"/>\r\n     <use x=\"331.050781\" xlink:href=\"#DejaVuSans-103\"/>\r\n     <use x=\"394.527344\" xlink:href=\"#DejaVuSans-32\"/>\r\n     <use x=\"426.314453\" xlink:href=\"#DejaVuSans-76\"/>\r\n     <use x=\"480.277344\" xlink:href=\"#DejaVuSans-111\"/>\r\n     <use x=\"541.458984\" xlink:href=\"#DejaVuSans-115\"/>\r\n     <use x=\"593.558594\" xlink:href=\"#DejaVuSans-115\"/>\r\n     <use x=\"645.658203\" xlink:href=\"#DejaVuSans-32\"/>\r\n     <use x=\"677.445312\" xlink:href=\"#DejaVuSans-71\"/>\r\n     <use x=\"754.935547\" xlink:href=\"#DejaVuSans-114\"/>\r\n     <use x=\"796.048828\" xlink:href=\"#DejaVuSans-97\"/>\r\n     <use x=\"857.328125\" xlink:href=\"#DejaVuSans-112\"/>\r\n     <use x=\"920.804688\" xlink:href=\"#DejaVuSans-104\"/>\r\n    </g>\r\n   </g>\r\n  </g>\r\n </g>\r\n <defs>\r\n  <clipPath id=\"pf98a0726c8\">\r\n   <rect height=\"217.44\" width=\"892.8\" x=\"51.378125\" y=\"22.318125\"/>\r\n  </clipPath>\r\n </defs>\r\n</svg>\r\n",
      "image/png": "[encoded data removed]"
     },
     "metadata": {
      "needs_background": "light"
     }
    }
   ],
   "source": [
    "plt.figure(figsize=(16, 4))\n",
    "plt.title(\"Training Loss Graph\")\n",
    "plt.xlabel(\"epochs\")\n",
    "plt.ylabel(\"loss\")\n",
    "plt.yscale(\"log\")\n",
    "plt.plot(SAVED_MODEL[\"loss_history\"])\n",
    "plt.show()"
   ]
  },
  {
   "cell_type": "code",
   "execution_count": 23,
   "metadata": {},
   "outputs": [
    {
     "output_type": "execute_result",
     "data": {
      "text/plain": "                      time        C01   C02  C03       C04     C05      C06  \\\n0      2020-07-07 15:00:00  402.70947  12.0   10  51.95007 -1.0189 -1.86768   \n1      2020-07-07 15:00:01  402.81174  12.0   10  51.96533 -1.2637 -1.86768   \n2      2020-07-07 15:00:02  402.76062  12.0   10  51.96533 -1.5398 -1.86768   \n3      2020-07-07 15:00:03  402.81174  12.0   10  51.98822 -1.6212 -1.86768   \n4      2020-07-07 15:00:04  402.91394  12.0   10  51.90429 -1.5631 -1.86768   \n...                    ...        ...   ...  ...       ...     ...      ...   \n43196  2020-07-08 02:59:56  397.08661  12.0   10  66.58325 -1.2052 -1.83716   \n43197  2020-07-08 02:59:57  397.18887  12.0   10  66.58325 -0.9256 -1.83716   \n43198  2020-07-08 02:59:58  397.13776  12.0   10  66.58325 -0.7843 -1.83716   \n43199  2020-07-08 02:59:59  397.34222  12.0   10  66.58325 -0.7646 -1.83716   \n43200  2020-07-08 03:00:00  397.49557  12.0   10  66.58325 -0.9083 -1.83716   \n\n             C07       C08  C09  ...  C71      C72       C73       C74  \\\n0      789.76508  28.03162  688  ...  0.0  1.34293  10.89290  34.88770   \n1      789.13147  28.02301  648  ...  0.0  1.34216  10.80512  34.88770   \n2      785.81653  28.02993  616  ...  0.0  1.34369  10.80029  34.88770   \n3      785.42438  28.02993  584  ...  0.0  1.34445  10.80579  34.88770   \n4      782.99249  28.02990  552  ...  0.0  1.34293  10.81415  34.90295   \n...          ...       ...  ...  ...  ...      ...       ...       ...   \n43196  786.93738  28.03250    0  ...  0.0  1.35971  16.19496  35.22338   \n43197  783.44989  28.02304    0  ...  0.0  1.35971  16.23927  35.23864   \n43198  784.86780  28.02814    0  ...  0.0  1.35818  16.20675  35.23864   \n43199  785.51416  28.02294    0  ...  0.0  1.35818  16.17168  35.25391   \n43200  786.98297  28.02990    0  ...  0.0  1.35895  16.10412  35.22338   \n\n            C75        C76        C77       C78     C79  attack  \n0      12.26196  380.31683  386.26666  32.59527  5.6330       0  \n1      12.26196  380.02747  386.30286  32.59527  5.4158       0  \n2      12.26196  381.52850  389.73883  32.59527  5.5532       0  \n3      12.26196  382.08911  388.94311  32.59527  5.7833       0  \n4      12.26196  383.44543  389.72082  32.59527  6.0309       0  \n...         ...        ...        ...       ...     ...     ...  \n43196  12.01019  390.13672  394.91107  31.81634  5.2977       0  \n43197  12.01019  390.24518  397.35248  31.81634  5.3188       0  \n43198  12.01019  390.46222  396.70142  31.81634  5.1800       0  \n43199  12.01019  391.78241  397.73218  31.81634  4.8763       0  \n43200  12.01019  391.31219  397.24390  31.81634  4.5790       0  \n\n[43201 rows x 81 columns]",
      "text/html": "<div>\n<style scoped>\n    .dataframe tbody tr th:only-of-type {\n        vertical-align: middle;\n    }\n\n    .dataframe tbody tr th {\n        vertical-align: top;\n    }\n\n    .dataframe thead th {\n        text-align: right;\n    }\n</style>\n<table border=\"1\" class=\"dataframe\">\n  <thead>\n    <tr style=\"text-align: right;\">\n      <th></th>\n      <th>time</th>\n      <th>C01</th>\n      <th>C02</th>\n      <th>C03</th>\n      <th>C04</th>\n      <th>C05</th>\n      <th>C06</th>\n      <th>C07</th>\n      <th>C08</th>\n      <th>C09</th>\n      <th>...</th>\n      <th>C71</th>\n      <th>C72</th>\n      <th>C73</th>\n      <th>C74</th>\n      <th>C75</th>\n      <th>C76</th>\n      <th>C77</th>\n      <th>C78</th>\n      <th>C79</th>\n      <th>attack</th>\n    </tr>\n  </thead>\n  <tbody>\n    <tr>\n      <th>0</th>\n      <td>2020-07-07 15:00:00</td>\n      <td>402.70947</td>\n      <td>12.0</td>\n      <td>10</td>\n      <td>51.95007</td>\n      <td>-1.0189</td>\n      <td>-1.86768</td>\n      <td>789.76508</td>\n      <td>28.03162</td>\n      <td>688</td>\n      <td>...</td>\n      <td>0.0</td>\n      <td>1.34293</td>\n      <td>10.89290</td>\n      <td>34.88770</td>\n      <td>12.26196</td>\n      <td>380.31683</td>\n      <td>386.26666</td>\n      <td>32.59527</td>\n      <td>5.6330</td>\n      <td>0</td>\n    </tr>\n    <tr>\n      <th>1</th>\n      <td>2020-07-07 15:00:01</td>\n      <td>402.81174</td>\n      <td>12.0</td>\n      <td>10</td>\n      <td>51.96533</td>\n      <td>-1.2637</td>\n      <td>-1.86768</td>\n      <td>789.13147</td>\n      <td>28.02301</td>\n      <td>648</td>\n      <td>...</td>\n      <td>0.0</td>\n      <td>1.34216</td>\n      <td>10.80512</td>\n      <td>34.88770</td>\n      <td>12.26196</td>\n      <td>380.02747</td>\n      <td>386.30286</td>\n      <td>32.59527</td>\n      <td>5.4158</td>\n      <td>0</td>\n    </tr>\n    <tr>\n      <th>2</th>\n      <td>2020-07-07 15:00:02</td>\n      <td>402.76062</td>\n      <td>12.0</td>\n      <td>10</td>\n      <td>51.96533</td>\n      <td>-1.5398</td>\n      <td>-1.86768</td>\n      <td>785.81653</td>\n      <td>28.02993</td>\n      <td>616</td>\n      <td>...</td>\n      <td>0.0</td>\n      <td>1.34369</td>\n      <td>10.80029</td>\n      <td>34.88770</td>\n      <td>12.26196</td>\n      <td>381.52850</td>\n      <td>389.73883</td>\n      <td>32.59527</td>\n      <td>5.5532</td>\n      <td>0</td>\n    </tr>\n    <tr>\n      <th>3</th>\n      <td>2020-07-07 15:00:03</td>\n      <td>402.81174</td>\n      <td>12.0</td>\n      <td>10</td>\n      <td>51.98822</td>\n      <td>-1.6212</td>\n      <td>-1.86768</td>\n      <td>785.42438</td>\n      <td>28.02993</td>\n      <td>584</td>\n      <td>...</td>\n      <td>0.0</td>\n      <td>1.34445</td>\n      <td>10.80579</td>\n      <td>34.88770</td>\n      <td>12.26196</td>\n      <td>382.08911</td>\n      <td>388.94311</td>\n      <td>32.59527</td>\n      <td>5.7833</td>\n      <td>0</td>\n    </tr>\n    <tr>\n      <th>4</th>\n      <td>2020-07-07 15:00:04</td>\n      <td>402.91394</td>\n      <td>12.0</td>\n      <td>10</td>\n      <td>51.90429</td>\n      <td>-1.5631</td>\n      <td>-1.86768</td>\n      <td>782.99249</td>\n      <td>28.02990</td>\n      <td>552</td>\n      <td>...</td>\n      <td>0.0</td>\n      <td>1.34293</td>\n      <td>10.81415</td>\n      <td>34.90295</td>\n      <td>12.26196</td>\n      <td>383.44543</td>\n      <td>389.72082</td>\n      <td>32.59527</td>\n      <td>6.0309</td>\n      <td>0</td>\n    </tr>\n    <tr>\n      <th>...</th>\n      <td>...</td>\n      <td>...</td>\n      <td>...</td>\n      <td>...</td>\n      <td>...</td>\n      <td>...</td>\n      <td>...</td>\n      <td>...</td>\n      <td>...</td>\n      <td>...</td>\n      <td>...</td>\n      <td>...</td>\n      <td>...</td>\n      <td>...</td>\n      <td>...</td>\n      <td>...</td>\n      <td>...</td>\n      <td>...</td>\n      <td>...</td>\n      <td>...</td>\n      <td>...</td>\n    </tr>\n    <tr>\n      <th>43196</th>\n      <td>2020-07-08 02:59:56</td>\n      <td>397.08661</td>\n      <td>12.0</td>\n      <td>10</td>\n      <td>66.58325</td>\n      <td>-1.2052</td>\n      <td>-1.83716</td>\n      <td>786.93738</td>\n      <td>28.03250</td>\n      <td>0</td>\n      <td>...</td>\n      <td>0.0</td>\n      <td>1.35971</td>\n      <td>16.19496</td>\n      <td>35.22338</td>\n      <td>12.01019</td>\n      <td>390.13672</td>\n      <td>394.91107</td>\n      <td>31.81634</td>\n      <td>5.2977</td>\n      <td>0</td>\n    </tr>\n    <tr>\n      <th>43197</th>\n      <td>2020-07-08 02:59:57</td>\n      <td>397.18887</td>\n      <td>12.0</td>\n      <td>10</td>\n      <td>66.58325</td>\n      <td>-0.9256</td>\n      <td>-1.83716</td>\n      <td>783.44989</td>\n      <td>28.02304</td>\n      <td>0</td>\n      <td>...</td>\n      <td>0.0</td>\n      <td>1.35971</td>\n      <td>16.23927</td>\n      <td>35.23864</td>\n      <td>12.01019</td>\n      <td>390.24518</td>\n      <td>397.35248</td>\n      <td>31.81634</td>\n      <td>5.3188</td>\n      <td>0</td>\n    </tr>\n    <tr>\n      <th>43198</th>\n      <td>2020-07-08 02:59:58</td>\n      <td>397.13776</td>\n      <td>12.0</td>\n      <td>10</td>\n      <td>66.58325</td>\n      <td>-0.7843</td>\n      <td>-1.83716</td>\n      <td>784.86780</td>\n      <td>28.02814</td>\n      <td>0</td>\n      <td>...</td>\n      <td>0.0</td>\n      <td>1.35818</td>\n      <td>16.20675</td>\n      <td>35.23864</td>\n      <td>12.01019</td>\n      <td>390.46222</td>\n      <td>396.70142</td>\n      <td>31.81634</td>\n      <td>5.1800</td>\n      <td>0</td>\n    </tr>\n    <tr>\n      <th>43199</th>\n      <td>2020-07-08 02:59:59</td>\n      <td>397.34222</td>\n      <td>12.0</td>\n      <td>10</td>\n      <td>66.58325</td>\n      <td>-0.7646</td>\n      <td>-1.83716</td>\n      <td>785.51416</td>\n      <td>28.02294</td>\n      <td>0</td>\n      <td>...</td>\n      <td>0.0</td>\n      <td>1.35818</td>\n      <td>16.17168</td>\n      <td>35.25391</td>\n      <td>12.01019</td>\n      <td>391.78241</td>\n      <td>397.73218</td>\n      <td>31.81634</td>\n      <td>4.8763</td>\n      <td>0</td>\n    </tr>\n    <tr>\n      <th>43200</th>\n      <td>2020-07-08 03:00:00</td>\n      <td>397.49557</td>\n      <td>12.0</td>\n      <td>10</td>\n      <td>66.58325</td>\n      <td>-0.9083</td>\n      <td>-1.83716</td>\n      <td>786.98297</td>\n      <td>28.02990</td>\n      <td>0</td>\n      <td>...</td>\n      <td>0.0</td>\n      <td>1.35895</td>\n      <td>16.10412</td>\n      <td>35.22338</td>\n      <td>12.01019</td>\n      <td>391.31219</td>\n      <td>397.24390</td>\n      <td>31.81634</td>\n      <td>4.5790</td>\n      <td>0</td>\n    </tr>\n  </tbody>\n</table>\n<p>43201 rows × 81 columns</p>\n</div>"
     },
     "metadata": {},
     "execution_count": 23
    }
   ],
   "source": [
    "VALIDATION_DF_RAW = dataframe_from_csvs(VALIDATION_DATASET)\n",
    "VALIDATION_DF_RAW"
   ]
  },
  {
   "cell_type": "code",
   "execution_count": null,
   "metadata": {},
   "outputs": [],
   "source": []
  }
 ]
}